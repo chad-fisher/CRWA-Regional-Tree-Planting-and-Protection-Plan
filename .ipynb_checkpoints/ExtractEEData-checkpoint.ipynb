{
 "cells": [
  {
   "cell_type": "code",
   "execution_count": null,
   "id": "a2c2dc9d-fe97-4154-a047-ec921a42f4d7",
   "metadata": {},
   "outputs": [],
   "source": [
    "#Import packages\n",
    "import numpy as np\n",
    "import pandas as pd\n",
    "import seaborn as sns\n",
    "import geopandas as gpd\n",
    "import matplotlib as mpl\n",
    "import matplotlib.pyplot as plt\n",
    "from matplotlib_scalebar.scalebar import ScaleBar\n",
    "import contextily as cx\n",
    "import ee\n",
    "import geemap\n",
    "import geemap.foliumap as geemapf\n",
    "import rasterio as rio\n",
    "from rasterio.plot import show\n",
    "from rasterio.mask import mask\n",
    "import wget\n",
    "import zipfile\n",
    "from datetime import datetime\n",
    "import pyinaturalist\n",
    "from scipy import ndimage\n",
    "import urllib\n",
    "import geetools\n",
    "from geetools import batch"
   ]
  },
  {
   "cell_type": "code",
   "execution_count": null,
   "id": "bdc87758-d615-4e70-8e6f-26a49d77b6c8",
   "metadata": {},
   "outputs": [],
   "source": [
    "#Authenticate to Earth Engine\n",
    "ee.Authenticate()"
   ]
  },
  {
   "cell_type": "code",
   "execution_count": null,
   "id": "4f254aed-da5d-4794-b154-a1a147d75aa2",
   "metadata": {},
   "outputs": [],
   "source": [
    "#Initialize earth engine project\n",
    "ee.Initialize(project='ee-cefisher20')"
   ]
  },
  {
   "cell_type": "code",
   "execution_count": null,
   "id": "e2cd936c-9800-49a0-8fe2-bb1798d52eca",
   "metadata": {},
   "outputs": [],
   "source": [
    "#Set working directory\n",
    "cd '???????'"
   ]
  },
  {
   "cell_type": "code",
   "execution_count": null,
   "id": "2f8a9fd5-a26e-4f9d-a611-f92bfdb4f28c",
   "metadata": {},
   "outputs": [],
   "source": [
    "#HUC codes from https://apps.nationalmap.gov/viewer/\n",
    "Charles=ee.FeatureCollection(\"USGS/WBD/2017/HUC10\").filter(\"huc10 == '0109000107' or huc10 == '0109000106'\")"
   ]
  },
  {
   "cell_type": "code",
   "execution_count": null,
   "id": "f7ddfcf3-e10e-43f0-8a59-7087417812c7",
   "metadata": {},
   "outputs": [],
   "source": [
    "#Convert earth engine feature collections to geopandas data frames\n",
    "Charles_gdf = ee.data.computeFeatures({\n",
    "    'expression': Charles,\n",
    "    'fileFormat': 'GEOPANDAS_GEODATAFRAME'\n",
    "})\n",
    "Charles_gdf.crs = 'EPSG:4326'"
   ]
  },
  {
   "cell_type": "code",
   "execution_count": null,
   "id": "d05061f1-b2b4-41b8-aefe-7139069133de",
   "metadata": {},
   "outputs": [],
   "source": [
    "def Charclip(image):\n",
    "    return image.clip(Charles)"
   ]
  },
  {
   "cell_type": "code",
   "execution_count": null,
   "id": "60c7f68d-5f18-4dc8-8c0a-57554711c4c2",
   "metadata": {},
   "outputs": [],
   "source": [
    "#Extract Sentinel 2 bands and indices of interest\n",
    "def extractBandsIndices(image):\n",
    "    return image.select(['B2','B3','B4','B5_10m','B6_10m','B7_10m','B8','B8A_10m','B11_10m','B12_10m',\n",
    "                         'NDVI','NBR','SAVI','RENDVI','EVI'])"
   ]
  },
  {
   "cell_type": "code",
   "execution_count": null,
   "id": "0b3c6b93-6b7b-4afe-a815-8fb1cf5c1ee4",
   "metadata": {},
   "outputs": [],
   "source": [
    "#Resample Sentinel 2 bands to 10 m\n",
    "def resample10m(image):\n",
    "    proj_10m=image.select('B4').projection()\n",
    "    B5_res=image.select('B5').resample('bicubic').reproject(proj_10m).rename('B5_10m')\n",
    "    B6_res=image.select('B6').resample('bicubic').reproject(proj_10m).rename('B6_10m')\n",
    "    B7_res=image.select('B7').resample('bicubic').reproject(proj_10m).rename('B7_10m')\n",
    "    B8A_res=image.select('B8A').resample('bicubic').reproject(proj_10m).rename('B8A_10m')\n",
    "    B11_res=image.select('B11').resample('bicubic').reproject(proj_10m).rename('B11_10m')\n",
    "    B12_res=image.select('B12').resample('bicubic').reproject(proj_10m).rename('B12_10m')\n",
    "    return image.addBands([B5_res,B6_res,B7_res,B8A_res,B11_res,B12_res])"
   ]
  },
  {
   "cell_type": "code",
   "execution_count": null,
   "id": "779c5441-3da3-40bf-863e-13407bb184f4",
   "metadata": {},
   "outputs": [],
   "source": [
    "#Add 5 vegetation indices of interest\n",
    "def addIndices(image):\n",
    "    NDVI = image.normalizedDifference(['B8', 'B4']).rename('NDVI')\n",
    "    NBR = image.normalizedDifference(['B12_10m','B8']).rename('NBR')\n",
    "    SAVI = image.expression(\n",
    "        '1.5 * ((NIR - RED)) / (NIR + RED + 0.5)', {\n",
    "            'NIR' : image.select('B8'),\n",
    "            'RED' : image.select('B4'),\n",
    "        }).rename('SAVI')\n",
    "    RENDVI = image.normalizedDifference(['B6_10m','B5_10m']).rename('RENDVI')\n",
    "    EVI = image.expression(\n",
    "        '2.5 * ((NIR - RED) / (NIR + 6 * RED - 7.5 * BLUE + 1))', {\n",
    "            'NIR' : image.select('B8'),\n",
    "            'RED' : image.select('B4'),\n",
    "            'BLUE': image.select('B2')}).rename('EVI')\n",
    "    return image.addBands([NDVI,NBR,SAVI,RENDVI,EVI])"
   ]
  },
  {
   "cell_type": "code",
   "execution_count": null,
   "id": "88bde60d-9480-405b-a327-0fd68d949833",
   "metadata": {},
   "outputs": [],
   "source": [
    "#Cloud mask function\n",
    "def mask_s2_clouds(image):\n",
    "    qa = image.select('QA60')\n",
    "    cloud_bit_mask = 1 << 10\n",
    "    cirrus_bit_mask = 1 << 11\n",
    "    mask = (\n",
    "        qa.bitwiseAnd(cloud_bit_mask)\n",
    "        .eq(0)\n",
    "        .And(qa.bitwiseAnd(cirrus_bit_mask).eq(0))\n",
    "    )\n",
    "    return image.updateMask(mask).divide(10000)"
   ]
  },
  {
   "cell_type": "code",
   "execution_count": null,
   "id": "d664ced4-b812-4bc7-ac15-7f05ac00e16e",
   "metadata": {},
   "outputs": [],
   "source": [
    "#Land cover mask function\n",
    "def mask_forests(image):\n",
    "    mask=(NLCD2019lc.eq(41))\n",
    "    return image.updateMask(mask)"
   ]
  },
  {
   "cell_type": "code",
   "execution_count": null,
   "id": "12e788a3-a8d2-438c-8206-35eb8434d3f0",
   "metadata": {},
   "outputs": [],
   "source": [
    "def preprocess(img):\n",
    "  return extractBandsIndices(addIndices(resample10m(Charclip(img))))"
   ]
  },
  {
   "cell_type": "code",
   "execution_count": null,
   "id": "ba6fb9c7-33e0-427b-8f23-9aa50094d93b",
   "metadata": {},
   "outputs": [],
   "source": [
    "#Pre-processing sentinel-2 data\n",
    "S2_All=ee.ImageCollection((\"COPERNICUS/S2_SR_HARMONIZED\")).filterDate('2019-01-01','2020-01-01').filterBounds(Charles.geometry()).filter(ee.Filter.lt('CLOUDY_PIXEL_PERCENTAGE', 50)).map(preprocess)"
   ]
  },
  {
   "cell_type": "code",
   "execution_count": null,
   "id": "d57799e0-80ab-445e-baf8-7f523ff2ce50",
   "metadata": {},
   "outputs": [],
   "source": [
    "S2_raw=ee.ImageCollection((\"COPERNICUS/S2_SR_HARMONIZED\")).filterDate('2019-01-01','2020-01-01').filterBounds(Charles.geometry()).filter(ee.Filter.lt('CLOUDY_PIXEL_PERCENTAGE', 50))"
   ]
  },
  {
   "cell_type": "code",
   "execution_count": null,
   "id": "7c71eb08-f875-45c4-a6c3-d72f89225bd4",
   "metadata": {},
   "outputs": [],
   "source": [
    "def dateFormat(img):\n",
    "  return ee.Image(img).date().format().split('T').get(0)"
   ]
  },
  {
   "cell_type": "code",
   "execution_count": null,
   "id": "568a373b-f036-4c9f-a3e0-445d121b2d6f",
   "metadata": {},
   "outputs": [],
   "source": [
    "def mosaicBy(d):\n",
    "  return ee.ImageCollection((\"COPERNICUS/S2_SR_HARMONIZED\")).filterBounds(Charles.geometry()).filter(ee.Filter.lt('CLOUDY_PIXEL_PERCENTAGE', 50)).filterDate(d,ee.Date(d).advance(1,'day')).mosaic()"
   ]
  },
  {
   "cell_type": "code",
   "execution_count": null,
   "id": "ccfb5d7f-a752-4ebe-a542-e00a14870eff",
   "metadata": {},
   "outputs": [],
   "source": [
    "dates_list=ee.List(S2_raw.toList(S2_raw.size()).map(dateFormat)).distinct()"
   ]
  },
  {
   "cell_type": "code",
   "execution_count": null,
   "id": "1b7b6860-ac80-46c3-baad-9ceea0dfd7aa",
   "metadata": {},
   "outputs": [],
   "source": [
    "NLCD2019lc=ee.Image('USGS/NLCD_RELEASES/2019_REL/NLCD/2019').clip(Charles).select('landcover')"
   ]
  },
  {
   "cell_type": "code",
   "execution_count": null,
   "id": "dc1839c9-5a9c-4432-a62b-03f2b57013e7",
   "metadata": {},
   "outputs": [],
   "source": [
    "S2_fix=ee.ImageCollection(dates_list.map(mosaicBy)).map(mask_s2_clouds).map(preprocess)\n",
    "S2_for_export=S2_fix.map(mask_forests)"
   ]
  },
  {
   "cell_type": "code",
   "execution_count": null,
   "id": "b071fd49-4304-43f3-aa8a-05de833b11d2",
   "metadata": {},
   "outputs": [],
   "source": [
    "#Getting Boston city boundary\n",
    "towns=gpd.read_file('???????').to_crs(epsg=4326).dissolve('NAMELSAD20')\n",
    "Boston_gdf=towns[towns.index=='Boston city']\n",
    "Boston=geemap.geopandas_to_ee(Boston_gdf)"
   ]
  },
  {
   "cell_type": "code",
   "execution_count": null,
   "id": "e39e15f7-1e1c-44ff-9032-a76abadd397e",
   "metadata": {},
   "outputs": [],
   "source": [
    "#Extract forest areas\n",
    "d_forest=NLCD2019lc.updateMask(NLCD2019lc.eq(41)).select('landcover').clip(Boston)\n",
    "d_forest_vec=d_forest.reduceToVectors(geometry=Charles,crs=d_forest.projection())\n",
    "\n",
    "d_forest_gdf = ee.data.computeFeatures({\n",
    "    'expression': d_forest_vec,\n",
    "    'fileFormat': 'GEOPANDAS_GEODATAFRAME'\n",
    "})\n",
    "d_forest_gdf.crs = 'EPSG:4326'\n",
    "forest_list=d_forest_vec.toList(10000)"
   ]
  },
  {
   "cell_type": "code",
   "execution_count": null,
   "id": "32bfc616-a590-4009-8e62-653e5d57c12d",
   "metadata": {},
   "outputs": [],
   "source": [
    "for band in ['B2','B3','B4','B5_10m','B6_10m','B7_10m','B8','B8A_10m','B11_10m','B12_10m',\n",
    "                         'NDVI','NBR','SAVI','RENDVI','EVI']:\n",
    "    current_IC=S2_for_export.select(band)\n",
    "    my_list=ee.List.sequence(1,forest_list.size().subtract(2))\n",
    "    current_df=pd.DataFrame(data=current_IC.getRegion(ee.Feature(forest_list.get(0)).geometry(),10).getInfo()[1:],columns=current_IC.getRegion(ee.Feature(forest_list.get(0)).geometry(),10).getInfo()[0])\n",
    "    j=0\n",
    "    for i in my_list.getInfo():\n",
    "      j+=1\n",
    "      print(j)\n",
    "      print(current_df.size)\n",
    "      x = my_list.get(i)\n",
    "      current_df=pd.concat([current_df,pd.DataFrame(data=current_IC.getRegion(ee.Feature(forest_list.get(x)).geometry(),10).getInfo()[1:],columns=current_IC.getRegion(ee.Feature(forest_list.get(x)).geometry(),10).getInfo()[0])])\n",
    "    current_df.to_csv(band+'.csv')"
   ]
  }
 ],
 "metadata": {
  "kernelspec": {
   "display_name": "Python 3 (ipykernel)",
   "language": "python",
   "name": "python3"
  },
  "language_info": {
   "codemirror_mode": {
    "name": "ipython",
    "version": 3
   },
   "file_extension": ".py",
   "mimetype": "text/x-python",
   "name": "python",
   "nbconvert_exporter": "python",
   "pygments_lexer": "ipython3",
   "version": "3.11.7"
  }
 },
 "nbformat": 4,
 "nbformat_minor": 5
}
