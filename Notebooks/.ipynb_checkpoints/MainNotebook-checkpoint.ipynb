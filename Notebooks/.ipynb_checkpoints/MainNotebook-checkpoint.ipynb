{
 "cells": [
  {
   "cell_type": "markdown",
   "metadata": {
    "colab_type": "text",
    "id": "view-in-github"
   },
   "source": [
    "<a href=\"https://colab.research.google.com/github/chad-fisher/CRWA-Regional-Tree-Planting-and-Protection-Plan/blob/main/CodeNotebook.ipynb\" target=\"_parent\"><img src=\"https://colab.research.google.com/assets/colab-badge.svg\" alt=\"Open In Colab\"/></a>"
   ]
  },
  {
   "cell_type": "markdown",
   "metadata": {
    "id": "NHFfv3PWXlzQ"
   },
   "source": [
    "# Environment setup"
   ]
  },
  {
   "cell_type": "code",
   "execution_count": 197,
   "metadata": {
    "id": "wh4xlfq2Lb4x"
   },
   "outputs": [
    {
     "data": {
      "text/html": [
       "<pre style=\"white-space:pre;overflow-x:auto;line-height:normal;font-family:Menlo,'DejaVu Sans Mono',consolas,'Courier New',monospace\"></pre>\n"
      ],
      "text/plain": []
     },
     "metadata": {},
     "output_type": "display_data"
    },
    {
     "data": {
      "text/html": [
       "\n",
       "            <style>\n",
       "                .geemap-dark {\n",
       "                    --jp-widgets-color: white;\n",
       "                    --jp-widgets-label-color: white;\n",
       "                    --jp-ui-font-color1: white;\n",
       "                    --jp-layout-color2: #454545;\n",
       "                    background-color: #383838;\n",
       "                }\n",
       "                    \n",
       "                .geemap-dark .jupyter-button {\n",
       "                    --jp-layout-color3: #383838;\n",
       "                }\n",
       "                \n",
       "                .geemap-colab {\n",
       "                    background-color: var(--colab-primary-surface-color, white);\n",
       "                }\n",
       "                    \n",
       "                .geemap-colab .jupyter-button {\n",
       "                    --jp-layout-color3: var(--colab-primary-surface-color, white);\n",
       "                }\n",
       "            </style>\n",
       "            "
      ],
      "text/plain": [
       "\u001b[1m<\u001b[0m\u001b[1;95mIPython.core.display.HTML\u001b[0m\u001b[39m object\u001b[0m\u001b[1m>\u001b[0m"
      ]
     },
     "metadata": {},
     "output_type": "display_data"
    }
   ],
   "source": [
    "#Import packages\n",
    "import scipy\n",
    "import numpy as np\n",
    "import pandas as pd\n",
    "import seaborn as sns\n",
    "import geopandas as gpd\n",
    "import fiona\n",
    "import shapely\n",
    "import matplotlib as mpl\n",
    "import matplotlib.pyplot as plt\n",
    "from matplotlib_scalebar.scalebar import ScaleBar\n",
    "import contextily as cx\n",
    "import ee\n",
    "import geemap\n",
    "import geemap.foliumap as geemapf\n",
    "import geetools\n",
    "import rasterio as rio\n",
    "from rasterio.plot import show\n",
    "from rasterio.mask import mask\n",
    "from rasterio.plot import show\n",
    "from rasterio.mask import mask\n",
    "from rasterio.merge import merge\n",
    "from rasterio.enums import Resampling\n",
    "from rasterio.warp import calculate_default_transform, reproject, Resampling\n",
    "import affine\n",
    "import wget\n",
    "import zipfile\n",
    "import datetime\n",
    "import pyinaturalist\n",
    "from scipy import ndimage\n",
    "import urllib\n",
    "import rasterstats\n",
    "import glob \n",
    "from geo_northarrow import add_north_arrow\n",
    "import rioxarray\n",
    "import xarray as xr\n",
    "import pyogrio\n",
    "import geocube\n",
    "from geocube.vector import vectorize\n",
    "import mapclassify\n",
    "from pysal.model import spreg"
   ]
  },
  {
   "cell_type": "code",
   "execution_count": 2,
   "metadata": {
    "colab": {
     "base_uri": "https://localhost:8080/",
     "height": 17
    },
    "id": "t4rVIdQBXlzU",
    "outputId": "57bc7475-0099-498b-afa9-6645795dfbfd"
   },
   "outputs": [
    {
     "data": {
      "text/html": [
       "<pre style=\"white-space:pre;overflow-x:auto;line-height:normal;font-family:Menlo,'DejaVu Sans Mono',consolas,'Courier New',monospace\"></pre>\n"
      ],
      "text/plain": []
     },
     "metadata": {},
     "output_type": "display_data"
    },
    {
     "data": {
      "text/html": [
       "\n",
       "            <style>\n",
       "                .geemap-dark {\n",
       "                    --jp-widgets-color: white;\n",
       "                    --jp-widgets-label-color: white;\n",
       "                    --jp-ui-font-color1: white;\n",
       "                    --jp-layout-color2: #454545;\n",
       "                    background-color: #383838;\n",
       "                }\n",
       "                    \n",
       "                .geemap-dark .jupyter-button {\n",
       "                    --jp-layout-color3: #383838;\n",
       "                }\n",
       "                \n",
       "                .geemap-colab {\n",
       "                    background-color: var(--colab-primary-surface-color, white);\n",
       "                }\n",
       "                    \n",
       "                .geemap-colab .jupyter-button {\n",
       "                    --jp-layout-color3: var(--colab-primary-surface-color, white);\n",
       "                }\n",
       "            </style>\n",
       "            "
      ],
      "text/plain": [
       "\u001b[1m<\u001b[0m\u001b[1;95mIPython.core.display.HTML\u001b[0m\u001b[39m object\u001b[0m\u001b[1m>\u001b[0m"
      ]
     },
     "metadata": {},
     "output_type": "display_data"
    },
    {
     "data": {
      "text/html": [
       "<pre style=\"white-space:pre;overflow-x:auto;line-height:normal;font-family:Menlo,'DejaVu Sans Mono',consolas,'Courier New',monospace\"></pre>\n"
      ],
      "text/plain": []
     },
     "metadata": {},
     "output_type": "display_data"
    },
    {
     "data": {
      "text/plain": [
       "\u001b[3;92mTrue\u001b[0m"
      ]
     },
     "execution_count": 2,
     "metadata": {},
     "output_type": "execute_result"
    }
   ],
   "source": [
    "#Authenticate to Earth Engine\n",
    "ee.Authenticate()"
   ]
  },
  {
   "cell_type": "code",
   "execution_count": 3,
   "metadata": {
    "colab": {
     "base_uri": "https://localhost:8080/",
     "height": 17
    },
    "id": "stEQhX91XlzW",
    "outputId": "49b1c388-2d9e-4a45-e9c6-f18e1caf5ba1"
   },
   "outputs": [
    {
     "data": {
      "text/html": [
       "<pre style=\"white-space:pre;overflow-x:auto;line-height:normal;font-family:Menlo,'DejaVu Sans Mono',consolas,'Courier New',monospace\"></pre>\n"
      ],
      "text/plain": []
     },
     "metadata": {},
     "output_type": "display_data"
    },
    {
     "data": {
      "text/html": [
       "\n",
       "            <style>\n",
       "                .geemap-dark {\n",
       "                    --jp-widgets-color: white;\n",
       "                    --jp-widgets-label-color: white;\n",
       "                    --jp-ui-font-color1: white;\n",
       "                    --jp-layout-color2: #454545;\n",
       "                    background-color: #383838;\n",
       "                }\n",
       "                    \n",
       "                .geemap-dark .jupyter-button {\n",
       "                    --jp-layout-color3: #383838;\n",
       "                }\n",
       "                \n",
       "                .geemap-colab {\n",
       "                    background-color: var(--colab-primary-surface-color, white);\n",
       "                }\n",
       "                    \n",
       "                .geemap-colab .jupyter-button {\n",
       "                    --jp-layout-color3: var(--colab-primary-surface-color, white);\n",
       "                }\n",
       "            </style>\n",
       "            "
      ],
      "text/plain": [
       "\u001b[1m<\u001b[0m\u001b[1;95mIPython.core.display.HTML\u001b[0m\u001b[39m object\u001b[0m\u001b[1m>\u001b[0m"
      ]
     },
     "metadata": {},
     "output_type": "display_data"
    }
   ],
   "source": [
    "#Initialize earth engine project\n",
    "ee.Initialize(project='ee-cefisher20')"
   ]
  },
  {
   "cell_type": "code",
   "execution_count": 4,
   "metadata": {},
   "outputs": [
    {
     "data": {
      "text/html": [
       "<pre style=\"white-space:pre;overflow-x:auto;line-height:normal;font-family:Menlo,'DejaVu Sans Mono',consolas,'Courier New',monospace\"></pre>\n"
      ],
      "text/plain": []
     },
     "metadata": {},
     "output_type": "display_data"
    },
    {
     "data": {
      "text/html": [
       "\n",
       "            <style>\n",
       "                .geemap-dark {\n",
       "                    --jp-widgets-color: white;\n",
       "                    --jp-widgets-label-color: white;\n",
       "                    --jp-ui-font-color1: white;\n",
       "                    --jp-layout-color2: #454545;\n",
       "                    background-color: #383838;\n",
       "                }\n",
       "                    \n",
       "                .geemap-dark .jupyter-button {\n",
       "                    --jp-layout-color3: #383838;\n",
       "                }\n",
       "                \n",
       "                .geemap-colab {\n",
       "                    background-color: var(--colab-primary-surface-color, white);\n",
       "                }\n",
       "                    \n",
       "                .geemap-colab .jupyter-button {\n",
       "                    --jp-layout-color3: var(--colab-primary-surface-color, white);\n",
       "                }\n",
       "            </style>\n",
       "            "
      ],
      "text/plain": [
       "\u001b[1m<\u001b[0m\u001b[1;95mIPython.core.display.HTML\u001b[0m\u001b[39m object\u001b[0m\u001b[1m>\u001b[0m"
      ]
     },
     "metadata": {},
     "output_type": "display_data"
    },
    {
     "name": "stdout",
     "output_type": "stream",
     "text": [
      "C:\\Users\\Chad\\Desktop\\CRWA Project\\CRWA-Regional-Tree-Planting-and-Protection-Plan\\CRWA-Regional-Tree-Planting-and-Protection-Plan\n"
     ]
    }
   ],
   "source": [
    "cd \"C:\\Users\\Chad\\Desktop\\CRWA Project\\CRWA-Regional-Tree-Planting-and-Protection-Plan\\CRWA-Regional-Tree-Planting-and-Protection-Plan\""
   ]
  },
  {
   "cell_type": "markdown",
   "metadata": {
    "id": "fFPAogadXlzW",
    "jp-MarkdownHeadingCollapsed": true
   },
   "source": [
    "# Downloading data"
   ]
  },
  {
   "cell_type": "code",
   "execution_count": null,
   "metadata": {
    "id": "iSZ92kFBXlzW",
    "outputId": "96a50929-f3b0-4f88-bf4d-3aa5b97e77ff"
   },
   "outputs": [],
   "source": [
    "#UMASS CAPS data\n",
    "!python -m wget -o \"C:/Users/Chad/Desktop/CRWA Project/Raw_Data\" \"https://landeco.umass.edu/web/masscaps/standard.zip\"\n",
    "zipfile.ZipFile('C:/Users/Chad/Desktop/CRWA Project/Raw_Data/standard.zip').extractall(path='C:/Users/Chad/Desktop/CRWA Project/Raw_Data/standard/')"
   ]
  },
  {
   "cell_type": "code",
   "execution_count": null,
   "metadata": {
    "id": "DdN2Lst2XlzX",
    "outputId": "1e390048-4382-48e3-fb0e-f191420b724e"
   },
   "outputs": [],
   "source": [
    "#MASSGIS SSURGO data\n",
    "!python -m wget -o \"C:/Users/Chad/Desktop/CRWA Project/Raw_Data\" \"https://s3.us-east-1.amazonaws.com/download.massgis.digital.mass.gov/shapefiles/state/Soils_MassGIS_SHP.zip\"\n",
    "zipfile.ZipFile(\"C:/Users/Chad/Desktop/CRWA Project/Raw_Data/Soils_MassGIS_SHP.zip\").extractall(path=\"C:/Users/Chad/Desktop/CRWA Project/Raw_Data/Soils_MassGIS_SHP/\")"
   ]
  },
  {
   "cell_type": "code",
   "execution_count": null,
   "metadata": {
    "id": "VwWcI1WvXlzX",
    "outputId": "d2e2cf11-be49-4af6-91ff-a68549ee1f97"
   },
   "outputs": [],
   "source": [
    "#MASSGIS Watershed data\n",
    "!python -m wget -o \"C:/Users/Chad/Desktop/CRWA Project/Raw_Data\" \"https://s3.us-east-1.amazonaws.com/download.massgis.digital.mass.gov/shapefiles/state/watshd.zip\"\n",
    "zipfile.ZipFile(\"C:/Users/Chad/Desktop/CRWA Project/Raw_Data/watshd.zip\").extractall(path=\"C:/Users/Chad/Desktop/CRWA Project/Raw_Data/watshd/\")"
   ]
  },
  {
   "cell_type": "code",
   "execution_count": null,
   "metadata": {},
   "outputs": [],
   "source": [
    "#MASSGIS Municipalities Data\n",
    "!python -m wget -o \"C:/Users/Chad/Desktop/CRWA Project/Raw_Data\" \"https://s3.us-east-1.amazonaws.com/download.massgis.digital.mass.gov/shapefiles/census2020/CENSUS2020TOWNS_SHP.zip\"\n",
    "zipfile.ZipFile(\"C:/Users/Chad/Desktop/CRWA Project/Raw_Data/CENSUS2020TOWNS_SHP.zip\").extractall(path=\"C:/Users/Chad/Desktop/CRWA Project/Raw_Data/CENSUS2020TOWNS_SHP/\")"
   ]
  },
  {
   "cell_type": "code",
   "execution_count": null,
   "metadata": {},
   "outputs": [],
   "source": [
    "#Analyze Boston NBHDS data\n",
    "!python -m wget -o \"C:/Users/Chad/Desktop/CRWA Project/Raw_Data\" \"https://bostonopendata-boston.opendata.arcgis.com/api/download/v1/items/6505e8fc489b48cc848abeccc6e87b79/shapefile?layers=0\"\n",
    "zipfile.ZipFile(r\"C:\\Users\\Chad\\Desktop\\CRWA Project\\Raw_Data\\Boston_Neighborhood_Boundaries_Approximated_by_2020_Census_Block_Groups.zip\").extractall(path=\"C:/Users/Chad/Desktop/CRWA Project/Raw_Data/Boston NBHDS/\")"
   ]
  },
  {
   "cell_type": "code",
   "execution_count": null,
   "metadata": {},
   "outputs": [],
   "source": [
    "#EJ Populations\n",
    "!python -m wget -o \"C:/Users/Chad/Desktop/CRWA Project/Raw_Data\" \"https://s3.us-east-1.amazonaws.com/download.massgis.digital.mass.gov/shapefiles/census2020/ej2020.zip\"\n",
    "zipfile.ZipFile(r\"C:\\Users\\Chad\\Desktop\\CRWA Project\\Raw_Data\\ej2020.zip\").extractall(path=\"C:/Users/Chad/Desktop/CRWA Project/Raw_Data/EJ Data/\")"
   ]
  },
  {
   "cell_type": "code",
   "execution_count": null,
   "metadata": {},
   "outputs": [],
   "source": [
    "!python -m wget -o \"C:/Users/Chad/Desktop/CRWA Project/Raw_Data\" \"https://s3.us-east-1.amazonaws.com/dataforgood-fb-data/forests/v1/models/data.zip\"\n",
    "zipfile.ZipFile(r\"C:\\Users\\Chad\\Desktop\\CRWA Project\\Raw_Data\\data.zip\").extractall(path=\"C:/Users/Chad/Desktop/CRWA Project/Raw_Data/METAWRICanopy/\")"
   ]
  },
  {
   "cell_type": "code",
   "execution_count": null,
   "metadata": {},
   "outputs": [],
   "source": [
    "!python -m wget -o \"C:/Users/Chad/Desktop/CRWA Project/Raw_Data\" \"https://s3.us-east-1.amazonaws.com/download.massgis.digital.mass.gov/shapefiles/state/hydro25k.zip\"\n",
    "zipfile.ZipFile(r\"C:\\Users\\Chad\\Desktop\\CRWA Project\\Raw_Data\\hydro25k.zip\").extractall(path=\"C:/Users/Chad/Desktop/CRWA Project/Raw_Data/Hydro/\")"
   ]
  },
  {
   "cell_type": "code",
   "execution_count": null,
   "metadata": {},
   "outputs": [],
   "source": [
    "#https://mapc.sharefile.com/share/view/s981467b33e8948e2bcd167d1399c6069\n",
    "zipfile.ZipFile(r\"C:\\Users\\Chad\\Desktop\\CRWA Project\\Raw_Data\\MAPC_LST.zip\").extractall(path=\"C:/Users/Chad/Desktop/CRWA Project/Raw_Data/Heat/\")"
   ]
  },
  {
   "cell_type": "code",
   "execution_count": null,
   "metadata": {},
   "outputs": [],
   "source": [
    "#CSO data provided by Juliet Swigor at MassDEP\n",
    "zipfile.ZipFile(r\"C:\\Users\\Chad\\Desktop\\CRWA Project\\Raw_Data\\CSO_exportApril2024.gdb.zip\").extractall(path=\"C:/Users/Chad/Desktop/CRWA Project/Raw_Data/CSO/\")"
   ]
  },
  {
   "cell_type": "code",
   "execution_count": null,
   "metadata": {},
   "outputs": [],
   "source": [
    "#Protected and Recreational Open Space\n",
    "!python -m wget -o \"C:/Users/Chad/Desktop/CRWA Project/Raw_Data\" \"https://s3.us-east-1.amazonaws.com/download.massgis.digital.mass.gov/shapefiles/state/openspace.zip\"\n",
    "zipfile.ZipFile(r\"C:\\Users\\Chad\\Desktop\\CRWA Project\\Raw_Data\\openspace.zip\").extractall(path=\"C:/Users/Chad/Desktop/CRWA Project/Raw_Data/OpenSpace/\")"
   ]
  },
  {
   "cell_type": "code",
   "execution_count": null,
   "metadata": {},
   "outputs": [],
   "source": [
    "!python -m wget -o \"C:/Users/Chad/Desktop/CRWA Project/Raw_Data\" \"https://datacommon.mapc.org/shapefile?table=gisdata.mapc.ma_parcels_metrofuture&database=gisdata\"\n",
    "zipfile.ZipFile(r\"C:\\Users\\Chad\\Desktop\\CRWA Project\\Raw_Data\\export-gisdata.mapc.ma_parcels_metrofuture.zip\").extractall(path=\"C:/Users/Chad/Desktop/CRWA Project/Raw_Data/ParcelData/\")\n",
    "gpd.read_file('../../Raw_Data/ParcelData/export-gisdata.mapc.ma_parcels_metrofuture.shp',driver='pyogrio').clip(CRW).to_file('../../Working_Data/Parcels_Clipped.shp')"
   ]
  },
  {
   "cell_type": "code",
   "execution_count": null,
   "metadata": {},
   "outputs": [],
   "source": [
    "#Data from https://hub.arcgis.com/datasets/fedmaps::u-s-electric-power-transmission-lines/explore?location=42.022428%2C-69.930668%2C7.57\n",
    "zipfile.ZipFile(r\"C:\\Users\\Chad\\Desktop\\CRWA Project\\Raw_Data\\US_Electric_Power_Transmission_Lines_-7015907722120939242.zip\").extractall(path=\"C:/Users/Chad/Desktop/CRWA Project/Raw_Data/Transmission Lines/\")"
   ]
  },
  {
   "cell_type": "code",
   "execution_count": null,
   "metadata": {},
   "outputs": [],
   "source": [
    "#Data from https://atlas.eia.gov/datasets/eia::natural-gas-interstate-and-intrastate-pipelines/explore?location=41.877655%2C-71.274422%2C8.40\n",
    "zipfile.ZipFile(r\"C:\\Users\\Chad\\Desktop\\CRWA Project\\Raw_Data\\NaturalGas_InterIntrastate_Pipelines_US_EIA_-5437104712952757797.zip\").extractall(path=\"C:/Users/Chad/Desktop/CRWA Project/Raw_Data/Gas Lines/\")"
   ]
  },
  {
   "cell_type": "code",
   "execution_count": null,
   "metadata": {},
   "outputs": [],
   "source": [
    "# TNC conservation priority data from Dira Johanif at CRWA\n",
    "zipfile.ZipFile(r\"C:\\Users\\Chad\\Desktop\\CRWA Project\\Raw_Data\\MA_CharlesRiver)NBS_11.07.gdb.zip\").extractall(path=\"C:/Users/Chad/Desktop/CRWA Project/Raw_Data/TNC_Cons/\")\n",
    "zipfile.ZipFile(r\"C:\\Users\\Chad\\Desktop\\CRWA Project\\Raw_Data\\High Level Conservation Opp-20240524T191644Z-001.zip\").extractall(path=\"C:/Users/Chad/Desktop/CRWA Project/Raw_Data/TNC_Cons/\")\n",
    "zipfile.ZipFile(r\"C:\\Users\\Chad\\Desktop\\CRWA Project\\Raw_Data\\Conservation Opp (Unprotected and Undeveloped Areas)-20240524T191643Z-001.zip\").extractall(path=\"C:/Users/Chad/Desktop/CRWA Project/Raw_Data/TNC_Cons/\")\n",
    "cons_opp=glob.glob(r\"C:\\Users\\Chad\\Desktop\\CRWA Project\\Raw_Data\\TNC_Cons\\High Level Conservation Opp\\*\")\n",
    "high_cons_opp=glob.glob(r\"C:\\Users\\Chad\\Desktop\\CRWA Project\\Raw_Data\\TNC_Cons\\Conservation Opp (Unprotected and Undeveloped Areas)\\*\")\n",
    "for fp in cons_opp:\n",
    "    zipfile.ZipFile(fp).extractall(path=r\"C:\\Users\\Chad\\Desktop\\CRWA Project\\Raw_Data\\TNC_Cons\\High Level Conservation Opp\")\n",
    "for fp in high_cons_opp:\n",
    "    zipfile.ZipFile(fp).extractall(path=r\"C:\\Users\\Chad\\Desktop\\CRWA Project\\Raw_Data\\TNC_Cons\\Conservation Opp (Unprotected and Undeveloped Areas)\")"
   ]
  },
  {
   "cell_type": "code",
   "execution_count": null,
   "metadata": {},
   "outputs": [],
   "source": [
    "# Requested statewide parcel data from MASSGIS https://www.mass.gov/info-details/massgis-data-property-tax-parcels\n",
    "zipfile.ZipFile(r\"C:\\Users\\Chad\\Desktop\\CRWA Project\\Raw_Data\\Statewide_parcels_SHP.zip\").extractall(path=\"C:/Users/Chad/Desktop/CRWA Project/Raw_Data/ParcelData/\")"
   ]
  },
  {
   "cell_type": "markdown",
   "metadata": {
    "id": "poH_eN4yXlzX"
   },
   "source": [
    "# Miscellaneous tools"
   ]
  },
  {
   "cell_type": "code",
   "execution_count": null,
   "metadata": {
    "colab": {
     "base_uri": "https://localhost:8080/",
     "height": 69
    },
    "id": "uuI0v_UqXlzX",
    "outputId": "bc44a07e-637b-4314-c699-77d5471590b0"
   },
   "outputs": [],
   "source": [
    "#Extracting hex codes from matplotlib color maps\n",
    "colors = mpl.colormaps['Paired'].resampled(3)\n",
    "for i in range(0,3):\n",
    "    print(mpl.colors.to_hex(colors(i)))"
   ]
  },
  {
   "cell_type": "markdown",
   "metadata": {
    "id": "VBJmLRw8XlzY",
    "jp-MarkdownHeadingCollapsed": true
   },
   "source": [
    "# Extracting watershed boundaries"
   ]
  },
  {
   "cell_type": "code",
   "execution_count": 5,
   "metadata": {},
   "outputs": [
    {
     "data": {
      "text/html": [
       "<pre style=\"white-space:pre;overflow-x:auto;line-height:normal;font-family:Menlo,'DejaVu Sans Mono',consolas,'Courier New',monospace\"></pre>\n"
      ],
      "text/plain": []
     },
     "metadata": {},
     "output_type": "display_data"
    },
    {
     "data": {
      "text/html": [
       "\n",
       "            <style>\n",
       "                .geemap-dark {\n",
       "                    --jp-widgets-color: white;\n",
       "                    --jp-widgets-label-color: white;\n",
       "                    --jp-ui-font-color1: white;\n",
       "                    --jp-layout-color2: #454545;\n",
       "                    background-color: #383838;\n",
       "                }\n",
       "                    \n",
       "                .geemap-dark .jupyter-button {\n",
       "                    --jp-layout-color3: #383838;\n",
       "                }\n",
       "                \n",
       "                .geemap-colab {\n",
       "                    background-color: var(--colab-primary-surface-color, white);\n",
       "                }\n",
       "                    \n",
       "                .geemap-colab .jupyter-button {\n",
       "                    --jp-layout-color3: var(--colab-primary-surface-color, white);\n",
       "                }\n",
       "            </style>\n",
       "            "
      ],
      "text/plain": [
       "\u001b[1m<\u001b[0m\u001b[1;95mIPython.core.display.HTML\u001b[0m\u001b[39m object\u001b[0m\u001b[1m>\u001b[0m"
      ]
     },
     "metadata": {},
     "output_type": "display_data"
    }
   ],
   "source": [
    "rivers=gpd.read_file('../../Raw_Data/Hydro/HYDRO25K_POLY.shp',driver='pyogrio')"
   ]
  },
  {
   "cell_type": "code",
   "execution_count": 6,
   "metadata": {},
   "outputs": [
    {
     "data": {
      "text/html": [
       "<pre style=\"white-space:pre;overflow-x:auto;line-height:normal;font-family:Menlo,'DejaVu Sans Mono',consolas,'Courier New',monospace\"></pre>\n"
      ],
      "text/plain": []
     },
     "metadata": {},
     "output_type": "display_data"
    },
    {
     "data": {
      "text/html": [
       "\n",
       "            <style>\n",
       "                .geemap-dark {\n",
       "                    --jp-widgets-color: white;\n",
       "                    --jp-widgets-label-color: white;\n",
       "                    --jp-ui-font-color1: white;\n",
       "                    --jp-layout-color2: #454545;\n",
       "                    background-color: #383838;\n",
       "                }\n",
       "                    \n",
       "                .geemap-dark .jupyter-button {\n",
       "                    --jp-layout-color3: #383838;\n",
       "                }\n",
       "                \n",
       "                .geemap-colab {\n",
       "                    background-color: var(--colab-primary-surface-color, white);\n",
       "                }\n",
       "                    \n",
       "                .geemap-colab .jupyter-button {\n",
       "                    --jp-layout-color3: var(--colab-primary-surface-color, white);\n",
       "                }\n",
       "            </style>\n",
       "            "
      ],
      "text/plain": [
       "\u001b[1m<\u001b[0m\u001b[1;95mIPython.core.display.HTML\u001b[0m\u001b[39m object\u001b[0m\u001b[1m>\u001b[0m"
      ]
     },
     "metadata": {},
     "output_type": "display_data"
    }
   ],
   "source": [
    "Charles=rivers[rivers['NAME']=='Charles River'].to_crs(epsg=26986)"
   ]
  },
  {
   "cell_type": "code",
   "execution_count": 7,
   "metadata": {},
   "outputs": [
    {
     "data": {
      "text/html": [
       "<pre style=\"white-space:pre;overflow-x:auto;line-height:normal;font-family:Menlo,'DejaVu Sans Mono',consolas,'Courier New',monospace\"></pre>\n"
      ],
      "text/plain": []
     },
     "metadata": {},
     "output_type": "display_data"
    },
    {
     "data": {
      "text/html": [
       "\n",
       "            <style>\n",
       "                .geemap-dark {\n",
       "                    --jp-widgets-color: white;\n",
       "                    --jp-widgets-label-color: white;\n",
       "                    --jp-ui-font-color1: white;\n",
       "                    --jp-layout-color2: #454545;\n",
       "                    background-color: #383838;\n",
       "                }\n",
       "                    \n",
       "                .geemap-dark .jupyter-button {\n",
       "                    --jp-layout-color3: #383838;\n",
       "                }\n",
       "                \n",
       "                .geemap-colab {\n",
       "                    background-color: var(--colab-primary-surface-color, white);\n",
       "                }\n",
       "                    \n",
       "                .geemap-colab .jupyter-button {\n",
       "                    --jp-layout-color3: var(--colab-primary-surface-color, white);\n",
       "                }\n",
       "            </style>\n",
       "            "
      ],
      "text/plain": [
       "\u001b[1m<\u001b[0m\u001b[1;95mIPython.core.display.HTML\u001b[0m\u001b[39m object\u001b[0m\u001b[1m>\u001b[0m"
      ]
     },
     "metadata": {},
     "output_type": "display_data"
    }
   ],
   "source": [
    "CRW=gpd.read_file(\"../../Raw_Data/CRW_Boundary/CRW_Boundary/CRW_Boundary.shp\",driver='pyrogio')"
   ]
  },
  {
   "cell_type": "code",
   "execution_count": 8,
   "metadata": {},
   "outputs": [
    {
     "data": {
      "text/html": [
       "<pre style=\"white-space:pre;overflow-x:auto;line-height:normal;font-family:Menlo,'DejaVu Sans Mono',consolas,'Courier New',monospace\"></pre>\n"
      ],
      "text/plain": []
     },
     "metadata": {},
     "output_type": "display_data"
    },
    {
     "data": {
      "text/html": [
       "\n",
       "            <style>\n",
       "                .geemap-dark {\n",
       "                    --jp-widgets-color: white;\n",
       "                    --jp-widgets-label-color: white;\n",
       "                    --jp-ui-font-color1: white;\n",
       "                    --jp-layout-color2: #454545;\n",
       "                    background-color: #383838;\n",
       "                }\n",
       "                    \n",
       "                .geemap-dark .jupyter-button {\n",
       "                    --jp-layout-color3: #383838;\n",
       "                }\n",
       "                \n",
       "                .geemap-colab {\n",
       "                    background-color: var(--colab-primary-surface-color, white);\n",
       "                }\n",
       "                    \n",
       "                .geemap-colab .jupyter-button {\n",
       "                    --jp-layout-color3: var(--colab-primary-surface-color, white);\n",
       "                }\n",
       "            </style>\n",
       "            "
      ],
      "text/plain": [
       "\u001b[1m<\u001b[0m\u001b[1;95mIPython.core.display.HTML\u001b[0m\u001b[39m object\u001b[0m\u001b[1m>\u001b[0m"
      ]
     },
     "metadata": {},
     "output_type": "display_data"
    }
   ],
   "source": [
    "# Read in towns SHP and clip/dissolve polygons \n",
    "towns=gpd.read_file(\"../../Raw_Data/CENSUS2020TOWNS_SHP/CENSUS2020TOWNS_POLY.shp\").to_crs(CRW.crs).clip(CRW)\n",
    "Charles_Towns=towns.to_crs(epsg=26986).dissolve('NAMELSAD20')\n",
    "Charles_Towns['name']=Charles_Towns.index.str.split(' ').str[0]"
   ]
  },
  {
   "cell_type": "code",
   "execution_count": 9,
   "metadata": {},
   "outputs": [
    {
     "data": {
      "text/html": [
       "<pre style=\"white-space:pre;overflow-x:auto;line-height:normal;font-family:Menlo,'DejaVu Sans Mono',consolas,'Courier New',monospace\"></pre>\n"
      ],
      "text/plain": []
     },
     "metadata": {},
     "output_type": "display_data"
    },
    {
     "data": {
      "text/html": [
       "\n",
       "            <style>\n",
       "                .geemap-dark {\n",
       "                    --jp-widgets-color: white;\n",
       "                    --jp-widgets-label-color: white;\n",
       "                    --jp-ui-font-color1: white;\n",
       "                    --jp-layout-color2: #454545;\n",
       "                    background-color: #383838;\n",
       "                }\n",
       "                    \n",
       "                .geemap-dark .jupyter-button {\n",
       "                    --jp-layout-color3: #383838;\n",
       "                }\n",
       "                \n",
       "                .geemap-colab {\n",
       "                    background-color: var(--colab-primary-surface-color, white);\n",
       "                }\n",
       "                    \n",
       "                .geemap-colab .jupyter-button {\n",
       "                    --jp-layout-color3: var(--colab-primary-surface-color, white);\n",
       "                }\n",
       "            </style>\n",
       "            "
      ],
      "text/plain": [
       "\u001b[1m<\u001b[0m\u001b[1;95mIPython.core.display.HTML\u001b[0m\u001b[39m object\u001b[0m\u001b[1m>\u001b[0m"
      ]
     },
     "metadata": {},
     "output_type": "display_data"
    }
   ],
   "source": [
    "# Upper, middle, and lower wateshed\n",
    "Upper=['Milford', 'Hopkinton', 'Bellingham', 'Franklin', 'Wrentham', 'Medway', 'Holliston', 'Norfolk', 'Hopedale', 'Millis', 'Medfield']\n",
    "Middle=['Sherborn', 'Dover', 'Natick', 'Needham', 'Wellesley', 'Westwood', 'Dedham','Weston', 'Waltham']\n",
    "Lower=['Newton', 'Brookline', 'Boston', 'Cambridge', 'Somerville', 'Watertown']\n",
    "CRW_Upper=Charles_Towns[np.isin(Charles_Towns['name'],Upper)]\n",
    "CRW_Middle=Charles_Towns[np.isin(Charles_Towns['name'],Middle)]\n",
    "CRW_Lower=Charles_Towns[np.isin(Charles_Towns['name'],Lower)]"
   ]
  },
  {
   "cell_type": "code",
   "execution_count": 10,
   "metadata": {},
   "outputs": [
    {
     "data": {
      "text/html": [
       "<pre style=\"white-space:pre;overflow-x:auto;line-height:normal;font-family:Menlo,'DejaVu Sans Mono',consolas,'Courier New',monospace\"></pre>\n"
      ],
      "text/plain": []
     },
     "metadata": {},
     "output_type": "display_data"
    },
    {
     "data": {
      "text/html": [
       "\n",
       "            <style>\n",
       "                .geemap-dark {\n",
       "                    --jp-widgets-color: white;\n",
       "                    --jp-widgets-label-color: white;\n",
       "                    --jp-ui-font-color1: white;\n",
       "                    --jp-layout-color2: #454545;\n",
       "                    background-color: #383838;\n",
       "                }\n",
       "                    \n",
       "                .geemap-dark .jupyter-button {\n",
       "                    --jp-layout-color3: #383838;\n",
       "                }\n",
       "                \n",
       "                .geemap-colab {\n",
       "                    background-color: var(--colab-primary-surface-color, white);\n",
       "                }\n",
       "                    \n",
       "                .geemap-colab .jupyter-button {\n",
       "                    --jp-layout-color3: var(--colab-primary-surface-color, white);\n",
       "                }\n",
       "            </style>\n",
       "            "
      ],
      "text/plain": [
       "\u001b[1m<\u001b[0m\u001b[1;95mIPython.core.display.HTML\u001b[0m\u001b[39m object\u001b[0m\u001b[1m>\u001b[0m"
      ]
     },
     "metadata": {},
     "output_type": "display_data"
    }
   ],
   "source": [
    "Upper_extent=[CRW_Upper.dissolve().geometry.bounds['minx'][0],CRW_Upper.dissolve().geometry.bounds['maxx'][0],CRW_Upper.dissolve().geometry.bounds['miny'][0],CRW_Upper.dissolve().geometry.bounds['maxy'][0]]\n",
    "Middle_extent=[CRW_Middle.dissolve().geometry.bounds['minx'][0],CRW_Middle.dissolve().geometry.bounds['maxx'][0],CRW_Middle.dissolve().geometry.bounds['miny'][0],CRW_Middle.dissolve().geometry.bounds['maxy'][0]]\n",
    "Lower_extent=[CRW_Lower.dissolve().geometry.bounds['minx'][0],CRW_Lower.dissolve().geometry.bounds['maxx'][0],CRW_Lower.dissolve().geometry.bounds['miny'][0],CRW_Lower.dissolve().geometry.bounds['maxy'][0]]"
   ]
  },
  {
   "cell_type": "code",
   "execution_count": null,
   "metadata": {},
   "outputs": [],
   "source": [
    "fig,ax=plt.subplots(figsize=(10,10))\n",
    "CRW.to_crs(epsg=3857).boundary.plot(ax=ax,figsize=(10,10), color='black',linewidth=0.5)\n",
    "CRW_Upper.to_crs(epsg=3857).boundary.plot(ax=ax,figsize=(10,10), color='blue',linewidth=0.5)\n",
    "CRW_UMiddle.to_crs(epsg=3857).boundary.plot(ax=ax,figsize=(10,10), color='green',linewidth=0.5)\n",
    "CRW_LMiddle.to_crs(epsg=3857).boundary.plot(ax=ax,figsize=(10,10), color='red',linewidth=0.5)\n",
    "CRW_Lower.to_crs(epsg=3857).boundary.plot(ax=ax,figsize=(10,10), color='purple',linewidth=0.5)\n",
    "plt.title(\"Map of the Charles River Watershed\")\n",
    "cx.add_basemap(ax,source=cx.providers.CartoDB.Positron)\n",
    "ax.set_axis_off()\n",
    "ax.add_artist(ScaleBar(1,location='lower right'))\n",
    "a=mpl.lines.Line2D([0],[0],color='black',label='Watershed Boundary')\n",
    "b=mpl.lines.Line2D([0],[0],color='blue',label='Upper Watershed')\n",
    "c=mpl.lines.Line2D([0],[0],color='green',label='Upper Middle Watershed')\n",
    "d=mpl.lines.Line2D([0],[0],color='red',label='Lower Middle Watershed')\n",
    "e=mpl.lines.Line2D([0],[0],color='purple',label='Lower Watershed')\n",
    "handles,labels=ax.get_legend_handles_labels()\n",
    "handles.extend([a,b,c,d,e])\n",
    "ax.legend(handles=handles,loc='upper left')\n",
    "add_north_arrow(ax, scale=.4, xlim_pos=.8, ylim_pos=.03, color='#000', text_scaler=4, text_yT=-1.25)\n",
    "plt.savefig(\"Charles River Watershed Overview Map.png\")"
   ]
  },
  {
   "cell_type": "markdown",
   "metadata": {
    "jp-MarkdownHeadingCollapsed": true
   },
   "source": [
    "# Tree Canopy"
   ]
  },
  {
   "cell_type": "code",
   "execution_count": null,
   "metadata": {},
   "outputs": [],
   "source": [
    "for year in ['2008','2009','2010','2011','2012','2013','2014','2015','2016','2017','2018','2019','2020','2021']:\n",
    "    img=ee.Image('USGS/NLCD_RELEASES/2021_REL/TCC/v2021-4/TCC_v2021-4_CONUS_'+year).clip(geemap.geopandas_to_ee(CRW)).select('Science_Percent_Tree_Canopy_Cover').reproject(crs='EPSG:26986',scale=30)\n",
    "    geemap.ee_export_image(img,filename='../../Working_Data/TCC'+year+'.tif', region=geemap.geopandas_to_ee(CRW).geometry(), file_per_band=False)"
   ]
  },
  {
   "cell_type": "code",
   "execution_count": null,
   "metadata": {},
   "outputs": [],
   "source": [
    "canStats=pd.DataFrame(rasterstats.zonal_stats(Charles_Towns, \"../../Working_Data/TCC\"+'2008'+\".tif\",stats=\"count min mean max median\"),index=Charles_Towns.index)\n",
    "for year in ['2008','2009','2010','2011','2012','2013','2014','2015','2016','2017','2018','2019','2020','2021']:\n",
    "    stats=pd.DataFrame(rasterstats.zonal_stats(Charles_Towns, \"../../Working_Data/TCC\"+year+\".tif\",stats=\"count min mean max median\"),index=Charles_Towns.index)\n",
    "    canStats=canStats.join(stats,on=Charles_Towns.index,rsuffix=year)\n",
    "canStats[['mean2008','mean2009','mean2010','mean2011','mean2012','mean2013','mean2014','mean2015','mean2016','mean2017','mean2018','mean2019','mean2020','mean2021']].to_csv('../../Working_Data/AverageCanopy.csv')"
   ]
  },
  {
   "cell_type": "code",
   "execution_count": null,
   "metadata": {},
   "outputs": [],
   "source": [
    "CanData['Year'][0][-4:]"
   ]
  },
  {
   "cell_type": "code",
   "execution_count": null,
   "metadata": {},
   "outputs": [],
   "source": [
    "CanData=pd.read_csv('../../Working_Data/AverageCanopy.csv')\n",
    "CanData=pd.melt(CanData,id_vars='NAMELSAD20',var_name='Year')\n",
    "for i in CanData.index:\n",
    "    CanData['Year'].iloc[i]=CanData['Year'].iloc[i][-4:]"
   ]
  },
  {
   "cell_type": "code",
   "execution_count": null,
   "metadata": {},
   "outputs": [],
   "source": [
    "fig,ax=plt.subplots(figsize=(10,10))\n",
    "sns.lineplot(CanData,x='Year',y='value',hue='NAMELSAD20',ax=ax,legend=True)\n",
    "ax.set_ylabel('Canopy Coverage (%)')\n",
    "ax.set_xlabel('Year')\n",
    "sns.move_legend(ax, \"upper left\", bbox_to_anchor=(1, 1))\n",
    "fig.savefig('Output Maps/Canopy time series',dpi=300,transparent=True,bbox_inches='tight')"
   ]
  },
  {
   "cell_type": "code",
   "execution_count": null,
   "metadata": {},
   "outputs": [],
   "source": [
    "TCC2021=ee.Image('USGS/NLCD_RELEASES/2021_REL/TCC/v2021-4/TCC_v2021-4_CONUS_2021').clip(geemap.geopandas_to_ee(CRW)).select('Science_Percent_Tree_Canopy_Cover').reproject(crs='EPSG:26986',scale=30)\n",
    "TCC2008=ee.Image('USGS/NLCD_RELEASES/2021_REL/TCC/v2021-4/TCC_v2021-4_CONUS_2008').clip(geemap.geopandas_to_ee(CRW)).select('Science_Percent_Tree_Canopy_Cover').reproject(crs='EPSG:26986',scale=30)\n",
    "dtreeCover=TCC2021.subtract(TCC2008)\n",
    "dtreeCover=geemap.ee_export_image(dtreeCover, filename='../../Working_Data/dTCC08_21.tif', region=geemap.geopandas_to_ee(CRW).geometry(), file_per_band=False)"
   ]
  },
  {
   "cell_type": "code",
   "execution_count": 199,
   "metadata": {},
   "outputs": [
    {
     "data": {
      "text/html": [
       "<pre style=\"white-space:pre;overflow-x:auto;line-height:normal;font-family:Menlo,'DejaVu Sans Mono',consolas,'Courier New',monospace\"></pre>\n"
      ],
      "text/plain": []
     },
     "metadata": {},
     "output_type": "display_data"
    },
    {
     "data": {
      "text/html": [
       "\n",
       "            <style>\n",
       "                .geemap-dark {\n",
       "                    --jp-widgets-color: white;\n",
       "                    --jp-widgets-label-color: white;\n",
       "                    --jp-ui-font-color1: white;\n",
       "                    --jp-layout-color2: #454545;\n",
       "                    background-color: #383838;\n",
       "                }\n",
       "                    \n",
       "                .geemap-dark .jupyter-button {\n",
       "                    --jp-layout-color3: #383838;\n",
       "                }\n",
       "                \n",
       "                .geemap-colab {\n",
       "                    background-color: var(--colab-primary-surface-color, white);\n",
       "                }\n",
       "                    \n",
       "                .geemap-colab .jupyter-button {\n",
       "                    --jp-layout-color3: var(--colab-primary-surface-color, white);\n",
       "                }\n",
       "            </style>\n",
       "            "
      ],
      "text/plain": [
       "\u001b[1m<\u001b[0m\u001b[1;95mIPython.core.display.HTML\u001b[0m\u001b[39m object\u001b[0m\u001b[1m>\u001b[0m"
      ]
     },
     "metadata": {},
     "output_type": "display_data"
    }
   ],
   "source": [
    "TCC2021,trans=mask(rio.open('../../Working_Data/TCC2021.tif'),CRW.to_crs(epsg=26986).geometry,crop=True,filled=False)\n",
    "TCC2021_M,trans=mask(rio.open('../../Working_Data/TCC2021.tif'),CRW_Middle.to_crs(epsg=26986).geometry,crop=True,filled=False)\n",
    "TCC2008,trans=mask(rio.open('../../Working_Data/TCC2008.tif'),CRW.to_crs(epsg=26986).geometry,crop=True,filled=False)\n",
    "dTCC,trans=mask(rio.open('../../Working_Data/dTCC08_21.tif'),CRW.to_crs(epsg=26986).geometry,crop=True,filled=False)\n",
    "dTCC_M,trans=mask(rio.open('../../Working_Data/dTCC08_21.tif'),CRW_Middle.to_crs(epsg=26986).geometry,crop=True,filled=False)\n",
    "plot_extent = rio.plot.plotting_extent(rio.open('../../Working_Data/TCC2021.tif'))"
   ]
  },
  {
   "cell_type": "code",
   "execution_count": null,
   "metadata": {},
   "outputs": [],
   "source": [
    "# Calculate zonal statistics, join back onto town data frame and extract town name\n",
    "canStats=pd.DataFrame(rasterstats.zonal_stats(Charles_Towns, \"../../Working_Data/TCC2021.tif\",stats=\"count min mean max median\"),index=Charles_Towns.index)\n",
    "canStats=canStats.merge(Charles_Towns.to_crs(epsg=26986),left_index=True,right_index=True)\n",
    "canStats['name']=canStats.index.str.split(' ').str[0]"
   ]
  },
  {
   "cell_type": "code",
   "execution_count": null,
   "metadata": {},
   "outputs": [],
   "source": [
    "# Sort by mean tree canopy percent change\n",
    "canStats=canStats.sort_values(by='mean')"
   ]
  },
  {
   "cell_type": "code",
   "execution_count": null,
   "metadata": {},
   "outputs": [],
   "source": [
    "# Generate coordinates for labeling polygons on maps\n",
    "canStats['coords'] = canStats['geometry'].apply(lambda x: x.representative_point().coords[:])\n",
    "canStats['coords'] = [coords[0] for coords in canStats['coords']]"
   ]
  },
  {
   "cell_type": "code",
   "execution_count": null,
   "metadata": {},
   "outputs": [],
   "source": [
    "canStats['mean'].mean()"
   ]
  },
  {
   "cell_type": "code",
   "execution_count": null,
   "metadata": {},
   "outputs": [],
   "source": [
    "f, ax = plt.subplots(figsize=(6,8))\n",
    "\n",
    "# Create hidden version of raster to be used for color bar\n",
    "hidden = ax.imshow(TCC2021_M[0,:,:],cmap='Greens',extent=Middle_extent,alpha=1,vmin=0,vmax=100)\n",
    "#cx.add_basemap(ax,source=cx.providers.CartoDB.Positron,crs='epsg:26986')\n",
    "\n",
    "# Add data and layers\n",
    "show(TCC2021_M,cmap='Greens',ax=ax,extent=Middle_extent,alpha=1,vmin=0,vmax=100)\n",
    "CRW_Middle.to_crs(epsg=26986).boundary.plot(ax=ax, color='black',linewidth=0.5)\n",
    "Charles.clip(CRW_Middle).plot(ax=ax,color='#060270',edgecolor='#060270',linewidth=0.5)\n",
    "ax.axis('off')\n",
    "#plt.title('2021 Canopy Coverage')\n",
    "#plt.text(-7.965e6,5.16e6,'Source: USFS Tree Canopy Coverage from Google Earth Engine',fontsize=8)\n",
    "\n",
    "\n",
    "# Add colorbar using hidden version of raster\n",
    "#add_north_arrow(ax=ax,scale=0.5,ylim_pos=0.95,xlim_pos=0.95,text_scaler=4, text_yT=-3)\n",
    "ax.add_artist(ScaleBar(1,location='lower right'))\n",
    "#f.colorbar(hidden,format='%4i%%',orientation='horizontal',shrink=0.7,aspect=20,pad=0.05)\n",
    "f.savefig('Output Maps/2021 TCC for publication.png',transparent=True,dpi=300,bbox_inches='tight')"
   ]
  },
  {
   "cell_type": "code",
   "execution_count": null,
   "metadata": {},
   "outputs": [],
   "source": [
    "f, ax = plt.subplots(figsize=(6,8))\n",
    "\n",
    "# Create hidden version of raster to be used for color bar\n",
    "hidden = ax.imshow(TCC2021[0,:,:],cmap='Greens',extent=plot_extent,alpha=1,vmin=0,vmax=100)\n",
    "#cx.add_basemap(ax,source=cx.providers.CartoDB.Positron,crs='epsg:26986')\n",
    "\n",
    "# Add data and layers\n",
    "show(TCC2021,cmap='Greens',ax=ax,extent=plot_extent,alpha=1,vmin=0,vmax=100)\n",
    "towns.to_crs(epsg=26986).boundary.plot(ax=ax, color='black',linewidth=0.5)\n",
    "Charles.clip(CRW_Middle).plot(ax=ax,color='#060270',edgecolor='#060270',linewidth=0.5)\n",
    "ax.axis('off')\n",
    "#plt.title('2021 Canopy Coverage')\n",
    "#plt.text(-7.965e6,5.16e6,'Source: USFS Tree Canopy Coverage from Google Earth Engine',fontsize=8)\n",
    "\n",
    "\n",
    "# Add colorbar using hidden version of raster\n",
    "add_north_arrow(ax=ax,scale=0.5,ylim_pos=0.95,xlim_pos=0.95,text_scaler=4, text_yT=-3)\n",
    "ax.add_artist(ScaleBar(1,location='lower right'))\n",
    "f.colorbar(hidden,format='%4i%%',orientation='horizontal',shrink=0.7,aspect=20,pad=0.05)\n",
    "f.savefig('Output Maps/2021 TCC for publication.png',transparent=True,dpi=300,bbox_inches='tight')"
   ]
  },
  {
   "cell_type": "code",
   "execution_count": null,
   "metadata": {},
   "outputs": [],
   "source": [
    "# Add barplot, set properties, and change colors\n",
    "fig,ax=plt.subplots(figsize=(3, 8))\n",
    "bar_plot=sns.barplot(canStats,ax=ax,x='mean',y='name',orient='h',width=0.8,color='green')\n",
    "ax.set(ylabel=None,xlabel='Mean Canopy Coverage (%)')\n",
    "fig.savefig('Output Maps/2021 Canopy graph for publication.png',transparent=True,dpi=300,bbox_inches='tight')"
   ]
  },
  {
   "cell_type": "code",
   "execution_count": null,
   "metadata": {},
   "outputs": [],
   "source": [
    "f, ax = plt.subplots(figsize=(6,8))\n",
    "\n",
    "# Create hidden version of raster to be used for color bar\n",
    "hidden = ax.imshow(TCC2008[0,:,:],cmap='Greens',extent=plot_extent,alpha=1,vmin=0,vmax=100)\n",
    "#cx.add_basemap(ax,source=cx.providers.CartoDB.Positron,crs='epsg:26986')\n",
    "\n",
    "# Add data and layers\n",
    "show(TCC2008,cmap='Greens',ax=ax,extent=plot_extent,alpha=1,vmin=0,vmax=100)\n",
    "towns.to_crs(epsg=26986).boundary.plot(ax=ax, color='black',linewidth=0.5)\n",
    "\n",
    "ax.axis('off')\n",
    "plt.title('2008 Canopy Coverage')\n",
    "#plt.text(-7.965e6,5.16e6,'Source: USFS Tree Canopy Coverage from Google Earth Engine',fontsize=8)\n",
    "\n",
    "\n",
    "# Add colorbar using hidden version of raster\n",
    "f.colorbar(hidden,format='%4i%%',orientation='horizontal',shrink=0.5,aspect=10,pad=0.1)\n",
    "f.savefig('Output Maps/2008 TCC.png',transparent=True,dpi=300,bbox_inches='tight')"
   ]
  },
  {
   "cell_type": "code",
   "execution_count": null,
   "metadata": {},
   "outputs": [],
   "source": [
    "# List of names of towns participating in the climate compact from https://www.crwa.org/climate-compact\n",
    "CC_Towns=['Arlington', 'Bellingham', 'Belmont', 'Boston', 'Brookline', 'Cambridge', 'Dedham', 'Dover', 'Franklin', 'Holliston', 'Hopkinton', 'Lincoln', 'Medfield', 'Medway', 'Millis', 'Natick', 'Needham', 'Newton', 'Norfolk', 'Sherborn', 'Somerville', 'Walpole', 'Waltham', 'Watertown', 'Wellesley', 'Weston', 'Westwood', 'Wrentham']"
   ]
  },
  {
   "cell_type": "code",
   "execution_count": null,
   "metadata": {},
   "outputs": [],
   "source": [
    "CC_CRW=Charles_Towns.loc[Charles_Towns['name'].isin(CC_Towns)]"
   ]
  },
  {
   "cell_type": "code",
   "execution_count": null,
   "metadata": {},
   "outputs": [],
   "source": [
    "dTCC_CC,trans=mask(rio.open('../../Working_Data/dTCC08_21.tif'),CC_CRW.to_crs(epsg=26986).geometry,crop=True,filled=False)"
   ]
  },
  {
   "cell_type": "code",
   "execution_count": null,
   "metadata": {},
   "outputs": [],
   "source": [
    "# Calculate zonal statistics, join back onto town data frame and extract town name\n",
    "townStats=pd.DataFrame(rasterstats.zonal_stats(Charles_Towns, \"../../Working_Data/dTCC08_21.tif\",stats=\"count min mean max median\"),index=Charles_Towns.index)\n",
    "townStats=townStats.merge(Charles_Towns.to_crs(epsg=26986),left_index=True,right_index=True)\n",
    "townStats['name']=townStats.index.str.split(' ').str[0]"
   ]
  },
  {
   "cell_type": "code",
   "execution_count": null,
   "metadata": {},
   "outputs": [],
   "source": [
    "# Sort by mean tree canopy percent change\n",
    "townStats=townStats.sort_values(by='mean')"
   ]
  },
  {
   "cell_type": "code",
   "execution_count": null,
   "metadata": {},
   "outputs": [],
   "source": [
    "# Generate coordinates for labeling polygons on maps\n",
    "townStats['coords'] = townStats['geometry'].apply(lambda x: x.representative_point().coords[:])\n",
    "townStats['coords'] = [coords[0] for coords in townStats['coords']]"
   ]
  },
  {
   "cell_type": "code",
   "execution_count": null,
   "metadata": {},
   "outputs": [],
   "source": [
    "# Extract only Climate Compact towns\n",
    "townStatsCC=townStats.loc[townStats['name'].isin(CC_Towns)]\n",
    "townStatsCC.to_csv('../../Working_Data/Town Canopy Stats.csv')"
   ]
  },
  {
   "cell_type": "code",
   "execution_count": null,
   "metadata": {},
   "outputs": [],
   "source": [
    "for i in np.arange(0,27):\n",
    "    if np.isin(townStatsCC['name'].iloc[i],Upper):\n",
    "        townStatsCC['division'].iloc[i]='U'\n",
    "    elif np.isin(townStatsCC['name'].iloc[i],UMiddle):\n",
    "        townStatsCC['division'].iloc[i]='UM'\n",
    "    elif np.isin(townStatsCC['name'].iloc[i],LMiddle):\n",
    "        townStatsCC['division'].iloc[i]='LM'\n",
    "    elif np.isin(townStatsCC['name'].iloc[i],Lower):\n",
    "        townStatsCC['division'].iloc[i]='L'"
   ]
  },
  {
   "cell_type": "code",
   "execution_count": null,
   "metadata": {},
   "outputs": [],
   "source": [
    "townStatsCC['mean'].mean()"
   ]
  },
  {
   "cell_type": "code",
   "execution_count": null,
   "metadata": {},
   "outputs": [],
   "source": [
    "# Create subplots\n",
    "f, ax = plt.subplots(figsize=(6,8))\n",
    "f.tight_layout()\n",
    "\n",
    "# Create hidden version of raster to be used for color bar\n",
    "hidden = ax.imshow(dTCC_M[0,:,:],cmap='BrBG',extent=Middle_extent,alpha=1,vmin=-100,vmax=100)\n",
    "\n",
    "# Add data and layers\n",
    "show(dTCC_M,cmap='BrBG',ax=ax,extent=Middle_extent,alpha=1,vmin=-50,vmax=50)\n",
    "CRW_Middle.to_crs(epsg=26986).boundary.plot(ax=ax, color='black',linewidth=0.5)\n",
    "Charles.clip(CRW_Middle).plot(ax=ax,color='#060270',edgecolor='#060270',linewidth=0.5)\n",
    "\n",
    "# Add colorbar using hidden version of raster\n",
    "#f.colorbar(hidden, cmap='BrBG',orientation='horizontal',shrink=0.7,aspect=20,pad=0.05,label='Change in tree cover (percentage points)',format=\"%4i\")\n",
    "\n",
    "# Set properties of plot\n",
    "#ax[0].set(title='Tree Cover Change (2008 - 2021) in the Charles River Watershed')\n",
    "ax.add_artist(ScaleBar(1,location='lower right'))\n",
    "ax.set_axis_off()\n",
    "#add_north_arrow(ax=ax,scale=0.5,ylim_pos=0.95,xlim_pos=0.95,text_scaler=4, text_yT=-3)\n",
    "f.savefig('Output Maps/dTCC for publication.png',transparent=True,dpi=300,bbox_inches='tight')"
   ]
  },
  {
   "cell_type": "code",
   "execution_count": null,
   "metadata": {},
   "outputs": [],
   "source": [
    "# Create subplots\n",
    "f, ax = plt.subplots(figsize=(6,8))\n",
    "f.tight_layout()\n",
    "\n",
    "# Create hidden version of raster to be used for color bar\n",
    "hidden = ax.imshow(dTCC[0,:,:],cmap='BrBG',extent=plot_extent,alpha=1,vmin=-100,vmax=100)\n",
    "\n",
    "# Add data and layers\n",
    "show(dTCC,cmap='BrBG',ax=ax,extent=plot_extent,alpha=1,vmin=-50,vmax=50)\n",
    "towns.to_crs(epsg=26986).boundary.plot(ax=ax, color='black',linewidth=0.5)\n",
    "Charles.plot(ax=ax,color='#060270',edgecolor='#060270',linewidth=0.5)\n",
    "\n",
    "# Add colorbar using hidden version of raster\n",
    "f.colorbar(hidden, cmap='BrBG',orientation='horizontal',shrink=0.7,aspect=20,pad=0.05,label='Change in tree cover (percentage points)',format=\"%4i\")\n",
    "\n",
    "# Set properties of plot\n",
    "#ax[0].set(title='Tree Cover Change (2008 - 2021) in the Charles River Watershed')\n",
    "ax.add_artist(ScaleBar(1,location='lower right'))\n",
    "ax.set_axis_off()\n",
    "#add_north_arrow(ax=ax,scale=0.5,ylim_pos=0.95,xlim_pos=0.95,text_scaler=4, text_yT=-3)\n",
    "f.savefig('Output Maps/dTCC for publication.png',transparent=True,dpi=300,bbox_inches='tight')"
   ]
  },
  {
   "cell_type": "code",
   "execution_count": null,
   "metadata": {},
   "outputs": [],
   "source": [
    "# Create subplots\n",
    "f, ax = plt.subplots(figsize=(6,8))\n",
    "f.tight_layout()\n",
    "\n",
    "# Create hidden version of raster to be used for color bar\n",
    "hidden = ax.imshow(dTCC_CC[0,:,:],cmap='BrBG',extent=plot_extent,alpha=1,vmin=-100,vmax=100)\n",
    "\n",
    "# Add data and layers\n",
    "show(dTCC_CC,cmap='BrBG',ax=ax,extent=plot_extent,alpha=1,vmin=-50,vmax=50)\n",
    "towns.to_crs(epsg=26986).boundary.plot(ax=ax, color='black',linewidth=0.1)\n",
    "CC_CRW.to_crs(epsg=26986).boundary.plot(ax=ax, color='black',linewidth=0.5)\n",
    "Charles.plot(ax=ax,color='#060270',edgecolor='#060270',linewidth=0.5)\n",
    "# Add colorbar using hidden version of raster\n",
    "#f.colorbar(hidden, cmap='BrBG',orientation='vertical',aspect=10,shrink=0.4,pad=.04,label='Change in tree cover (percentage points)',format=\"%4i\")\n",
    "\n",
    "# Set properties of plot\n",
    "#ax[0].set(title='Tree Cover Change (2008 - 2021) in the Charles River Watershed')\n",
    "ax.add_artist(ScaleBar(1,location='lower right'))\n",
    "ax.set_axis_off()\n",
    "f.savefig('Output Maps/dTCC CC.png',transparent=True,dpi=300,bbox_inches='tight')"
   ]
  },
  {
   "cell_type": "code",
   "execution_count": null,
   "metadata": {},
   "outputs": [],
   "source": [
    "# Add barplot, set properties, and change colors\n",
    "fig,ax=plt.subplots(figsize=(3, 8))\n",
    "bar_plot=sns.barplot(townStats,ax=ax,x='mean',y='name',orient='h',width=0.8,color='green')\n",
    "ax.set(ylabel=None,xlabel='Change (percentage points)')\n",
    "for p in bar_plot.patches:\n",
    "    if p.get_width() < 0:\n",
    "        p.set_color('#bf812d')\n",
    "    else:\n",
    "        p.set_color('#35978f')\n",
    "fig.savefig('Output Maps/dTCC graph for publication.png',transparent=True,dpi=300,bbox_inches='tight')"
   ]
  },
  {
   "cell_type": "code",
   "execution_count": null,
   "metadata": {},
   "outputs": [],
   "source": [
    "# Add barplot, set properties, and change colors\n",
    "fig,ax=plt.subplots(figsize=(3, 8))\n",
    "bar_plot=sns.barplot(townStatsCC,ax=ax,x='mean',y='name',orient='h',width=0.8,color='green')\n",
    "ax.set(ylabel=None,xlabel='Change (percentage points)')\n",
    "for p in bar_plot.patches:\n",
    "    if p.get_width() < 0:\n",
    "        p.set_color('#bf812d')\n",
    "    else:\n",
    "        p.set_color('#35978f')\n",
    "fig.savefig('Output Maps/dTCC CC graph.png',transparent=True,dpi=300,bbox_inches='tight')"
   ]
  },
  {
   "cell_type": "code",
   "execution_count": null,
   "metadata": {
    "colab": {
     "base_uri": "https://localhost:8080/",
     "height": 445
    },
    "id": "zGpKd0AcEk10",
    "outputId": "5d78e77d-a3dd-4b18-8471-d326cb1026e0"
   },
   "outputs": [],
   "source": [
    "# Plot tree cover change\n",
    "\n",
    "# Create subplots\n",
    "f, ax = plt.subplots(nrows=1, ncols=2, figsize=(12, 7),gridspec_kw={'width_ratios': [3, 1]})\n",
    "f.tight_layout()\n",
    "\n",
    "# Create hidden version of raster to be used for color bar\n",
    "hidden = ax[0].imshow(dTCC[0,:,:],cmap='BrBG',extent=plot_extent,alpha=1,vmin=-100,vmax=100)\n",
    "\n",
    "# Add data and layers\n",
    "show(dTCC,cmap='BrBG',ax=ax[0],extent=plot_extent,alpha=1,vmin=-50,vmax=50)\n",
    "towns.to_crs(epsg=26986).boundary.plot(ax=ax[0], color='black',linewidth=0.5)\n",
    "\n",
    "# Add colorbar using hidden version of raster\n",
    "f.colorbar(hidden, cmap='BrBG',orientation='horizontal',aspect=10,shrink=0.4,pad=.04,label='Change in tree cover (percentage points)',format=\"%4i\")\n",
    "\n",
    "# Set properties of plot\n",
    "ax[0].set(title='Tree Cover Change (2008 - 2021) in the Charles River Watershed')\n",
    "ax[0].add_artist(ScaleBar(1,location='lower right'))\n",
    "ax[0].set_axis_off()\n",
    "\n",
    "# Add barplot, set properties, and change colors\n",
    "bar_plot=sns.barplot(townStats,ax=ax[1],x='mean',y='name',orient='h',width=0.8)\n",
    "ax[1].set(ylabel=None,xlabel='Mean Change (percentage points)')\n",
    "for p in bar_plot.patches:\n",
    "    if p.get_width() < 0:\n",
    "        p.set_color('#bf812d')\n",
    "    else:\n",
    "        p.set_color('#35978f')\n",
    "\n",
    "# Save figure \n",
    "f.savefig(\"Output Maps/Tree Cover Change (2008 - 2021) in the Charles River Watershed.png\",bbox_inches=mpl.transforms.Bbox.from_bounds(1.2,-0.1,11,7.5))"
   ]
  },
  {
   "cell_type": "code",
   "execution_count": null,
   "metadata": {
    "colab": {
     "base_uri": "https://localhost:8080/",
     "height": 445
    },
    "id": "zGpKd0AcEk10",
    "outputId": "5d78e77d-a3dd-4b18-8471-d326cb1026e0"
   },
   "outputs": [],
   "source": [
    "# Plot tree cover change\n",
    "\n",
    "# Create subplots\n",
    "f, ax = plt.subplots(nrows=1, ncols=2, figsize=(12, 7),gridspec_kw={'width_ratios': [3, 1]})\n",
    "f.tight_layout()\n",
    "\n",
    "# Create hidden version of raster to be used for color bar\n",
    "hidden = ax[0].imshow(dTCC[0,:,:],cmap='BrBG',extent=plot_extent,alpha=1,vmin=-50,vmax=50)\n",
    "\n",
    "# Add data and layers\n",
    "show(dTCC,cmap='BrBG',ax=ax[0],extent=plot_extent,alpha=1,vmin=-50,vmax=50)\n",
    "towns.to_crs(epsg=26986).boundary.plot(ax=ax[0], color='black',linewidth=0.5)\n",
    "\n",
    "\n",
    "# Label towns\n",
    "townStatsCC[townStatsCC['count']>200].apply(lambda x: ax[0].annotate(text=x['name'], xy=x['coords'], ha='center'), axis=1)\n",
    "\n",
    "# Add colorbar using hidden version of raster\n",
    "f.colorbar(hidden, cmap='BrBG',orientation='horizontal',aspect=25,shrink=0.7,pad=.04,label='Percent change in tree cover',format=\"%4i%%\")\n",
    "\n",
    "# Set properties of plot\n",
    "ax[0].set(title='Tree Cover Change (2005 - 2020) in the Charles River Watershed')\n",
    "ax[0].add_artist(ScaleBar(1,location='lower right'))\n",
    "ax[0].set_axis_off()\n",
    "plt.text(-21,28,'Source: Tree cover change was calculated from MODIS vegetation continuous \\nfields available from Google Earth Engine',fontsize=8)\n",
    "\n",
    "# Add barplot, set properties, and change colors\n",
    "bar_plot=sns.barplot(townStatsCC,ax=ax[1],x='mean',y='name',orient='h',width=0.8)\n",
    "ax[1].set(ylabel=None,xlabel='Mean Change (%)')\n",
    "for p in bar_plot.patches:\n",
    "    if p.get_width() < 0:\n",
    "        p.set_color('#bf812d')\n",
    "    else:\n",
    "        p.set_color('#35978f')\n",
    "\n",
    "# Save figure \n",
    "f.savefig(\"Output Maps/Climate Compact Towns Tree Cover Change (2005 - 2020) in the Charles River Watershed.png\",bbox_inches=mpl.transforms.Bbox.from_bounds(1.2,-0.1,11,7.5))"
   ]
  },
  {
   "cell_type": "code",
   "execution_count": null,
   "metadata": {},
   "outputs": [],
   "source": [
    "ResultsbyDivision=townStatsCC.groupby('division')['mean'].mean()\n",
    "ax=sns.barplot(ResultsbyDivision,order=['U','UM','LM','L'])\n",
    "ax.set(xlabel='Subwatershed',ylabel='Mean Change in Canopy (%)')\n",
    "j=0\n",
    "colors=['blue','green','red','purple']\n",
    "for p in ax.patches:\n",
    "    p.set_color(colors[j])\n",
    "    j+=1\n",
    "plt.title('Change in Canopy (2005 - 2020) by Subwatershed')\n",
    "plt.show()"
   ]
  },
  {
   "cell_type": "markdown",
   "metadata": {
    "id": "ldYP-Z44Xlzb",
    "jp-MarkdownHeadingCollapsed": true
   },
   "source": [
    "# Soils Maps"
   ]
  },
  {
   "cell_type": "code",
   "execution_count": null,
   "metadata": {
    "id": "VcrfpnchR5zn",
    "outputId": "9f98f0cf-8f4c-4c0c-d981-6c55eaf2db4c",
    "scrolled": true
   },
   "outputs": [],
   "source": [
    "#Import soils data and clip to boundaries\n",
    "Ag_soils = gpd.clip(gpd.read_file(\"../../Raw_Data/Soils_MassGIS_SHP/SOILS_POLY_PRIMEFARMLAND.shp\",mask=CRW.to_crs('EPSG:26986')),CRW.to_crs('EPSG:26986'))\n",
    "Soils = gpd.clip(gpd.read_file(\"../../Raw_Data/Soils_MassGIS_SHP/SOILS_MUPOLYGON_TOP20.shp\",mask=CRW.to_crs('EPSG:26986')),CRW.to_crs('EPSG:26986'))\n",
    "Soils.to_file('../../Working_Data/SoilsCRW.shp')  "
   ]
  },
  {
   "cell_type": "code",
   "execution_count": null,
   "metadata": {},
   "outputs": [],
   "source": [
    "OWN_palette = {'No':'#f6ecd1','Unranked':'#d5d5d5','Yes':'#5bb2a8'}\n",
    "OWN_cmap = mpl.colors.ListedColormap([OWN_palette[b] for b in ['No','Unranked','Yes']])"
   ]
  },
  {
   "cell_type": "code",
   "execution_count": null,
   "metadata": {},
   "outputs": [],
   "source": [
    "fig,ax=plt.subplots(figsize=(6,8))\n",
    "Soils.clip(CRW_Middle).plot(ax=ax,column='HYDRCRATNG',cmap=OWN_cmap,legend=True,legend_kwds={'loc':'upper left'})\n",
    "CRW_Middle.to_crs(epsg=26986).boundary.plot(ax=ax, color='black',linewidth=0.5)\n",
    "#plt.title('Hydric Soil Rating')\n",
    "Charles.clip(CRW_Middle).plot(ax=ax,color='#060270',edgecolor='#060270',linewidth=0.5)\n",
    "ax.add_artist(ScaleBar(1,location='lower right'))\n",
    "#cx.add_basemap(ax,source=cx.providers.CartoDB.Positron,crs='epsg:26986')\n",
    "ax.axis('off')\n",
    "#ax.text(194900,859000,'Source: SSURGO data accessed from MassGIS',fontsize=10)\n",
    "fig.savefig('Output Maps/Hydric rating for publication.png',transparent=True,dpi=300,bbox_inches='tight')"
   ]
  },
  {
   "cell_type": "code",
   "execution_count": null,
   "metadata": {},
   "outputs": [],
   "source": [
    "fig,ax=plt.subplots(figsize=(6,8))\n",
    "Soils.plot(ax=ax,column='HYDRCRATNG',cmap=OWN_cmap,legend=True,legend_kwds={'loc':'upper left'})\n",
    "towns.to_crs(epsg=26986).boundary.plot(ax=ax, color='black',linewidth=0.5)\n",
    "#plt.title('Hydric Soil Rating')\n",
    "Charles.plot(ax=ax,color='#060270',edgecolor='#060270',linewidth=0.5)\n",
    "ax.add_artist(ScaleBar(1,location='lower right'))\n",
    "#cx.add_basemap(ax,source=cx.providers.CartoDB.Positron,crs='epsg:26986')\n",
    "ax.axis('off')\n",
    "#ax.text(194900,859000,'Source: SSURGO data accessed from MassGIS',fontsize=10)\n",
    "fig.savefig('Output Maps/Hydric rating for publication.png',transparent=True,dpi=300,bbox_inches='tight')"
   ]
  },
  {
   "cell_type": "code",
   "execution_count": null,
   "metadata": {
    "colab": {
     "base_uri": "https://localhost:8080/",
     "height": 829
    },
    "id": "QX9oO4LONTam",
    "outputId": "6a518586-52d2-4c7b-86e8-27c231fe64f9"
   },
   "outputs": [],
   "source": [
    "#Slope map\n",
    "ax=Soils.to_crs(epsg=26986).plot(column='SLOPE_1',cmap='YlOrBr',legend=True,legend_kwds={'format':\"%4i%%\",'aspect': 25,'shrink': 0.8,'pad': 0.04},figsize=(10,10))\n",
    "CRW.to_crs(epsg=26986).boundary.plot(ax=ax, color='black',linewidth=0.5)\n",
    "plt.title(\"Slope in the Charles River Watershed\")\n",
    "cx.add_basemap(ax,source=cx.providers.CartoDB.Positron)\n",
    "ax.axis('off')\n",
    "ax.add_artist(ScaleBar(1,location='lower right'))\n",
    "plt.text(-7.968e6,5.157e6,'Source: SSURGO data accessed from MassGIS',fontsize=8)\n",
    "plt.savefig(\"Output Maps/SlopeCRW.png\",dpi=300,bbox_inches='tight')"
   ]
  },
  {
   "cell_type": "code",
   "execution_count": null,
   "metadata": {
    "id": "FzCCW_QXXlzc",
    "outputId": "b307bff6-d6ed-49cb-d9e9-1549534ea3b7"
   },
   "outputs": [],
   "source": [
    "#(because geopandas doesn't allow you to change sort of a categorical class and defaults to alphabetical,\n",
    "#I had to recode category)\n",
    "drain_recode={\n",
    "    'Excessively drained': 'A',\n",
    "    'Somewhat excessively drained': 'B',\n",
    "    'Well drained': 'C',\n",
    "    'Moderately well drained': 'D',\n",
    "    'Poorly drained': 'E',\n",
    "    'Very poorly drained': 'F'\n",
    "}\n",
    "Soils['Drain_Code']=Soils['DRAINCLASS'].map(drain_recode)"
   ]
  },
  {
   "cell_type": "code",
   "execution_count": null,
   "metadata": {},
   "outputs": [],
   "source": [
    "colors5=['#dab972','#5bb2a8'] \n",
    "my_cmap5 = mpl.colors.LinearSegmentedColormap.from_list('my_cmap5',colors5,N=6)"
   ]
  },
  {
   "cell_type": "code",
   "execution_count": null,
   "metadata": {},
   "outputs": [],
   "source": [
    "#Soil drainage map\n",
    "fig, ax=plt.subplots(figsize=(6,8))\n",
    "Soils.clip(CRW_Middle).to_crs(epsg=26986).plot(ax=ax,column='Drain_Code',cmap=my_cmap5,legend=False,legend_kwds={'loc':'upper left','fontsize':8,'framealpha':1},missing_kwds={\n",
    "        \"color\": \"#e5e5e5\",\n",
    "        \"edgecolor\": \"#e5e5e5\",\n",
    "        \"label\": \"Missing values\",\n",
    "    })\n",
    "#leg1 = ax.get_legend()\n",
    "#new_legtxt = ['Excessively drained','Somewhat excessively drained','Well drained','Somewhat well drained','Poorly drained',\n",
    "#              'Very poorly drained','No Data']\n",
    "\n",
    "#Fixing legend entries\n",
    "#for ix,eb in enumerate(leg1.get_texts()):\n",
    "#    eb.set_text(new_legtxt[ix])\n",
    "#    eb.set_size(fontsize=6.5)\n",
    "\n",
    "CRW_Middle.to_crs(epsg=26986).boundary.plot(ax=ax, color='black',linewidth=0.5)\n",
    "#cx.add_basemap(ax,source=cx.providers.CartoDB.Positron,crs='epsg:26986')\n",
    "#plt.title(\"Soil Drainage in the Charles River Watershed\")\n",
    "Charles.clip(CRW_Middle).plot(ax=ax,color='#060270',edgecolor='#060270',linewidth=0.5)\n",
    "ax.add_artist(ScaleBar(1,location='lower right'))\n",
    "ax.set_axis_off()\n",
    "#ax.text(194900,859000,'Source: SSURGO data accessed from MassGIS',fontsize=10)\n",
    "plt.savefig(\"Output Maps/Drainage for publication.png\",transparent=True,dpi=300,bbox_inches='tight')"
   ]
  },
  {
   "cell_type": "code",
   "execution_count": null,
   "metadata": {
    "id": "smk5pJxFXlzd",
    "outputId": "7cd2c832-1570-4c26-8565-420f79df4361"
   },
   "outputs": [],
   "source": [
    "#Soil drainage map\n",
    "fig, ax=plt.subplots(figsize=(6,8))\n",
    "Soils.to_crs(epsg=26986).plot(ax=ax,column='Drain_Code',cmap=my_cmap5,legend=True,legend_kwds={'loc':'upper left','fontsize':8,'framealpha':1},missing_kwds={\n",
    "        \"color\": \"#e5e5e5\",\n",
    "        \"edgecolor\": \"#e5e5e5\",\n",
    "        \"label\": \"Missing values\",\n",
    "    })\n",
    "leg1 = ax.get_legend()\n",
    "new_legtxt = ['Excessively drained','Somewhat excessively drained','Well drained','Somewhat well drained','Poorly drained',\n",
    "              'Very poorly drained','No Data']\n",
    "\n",
    "#Fixing legend entries\n",
    "for ix,eb in enumerate(leg1.get_texts()):\n",
    "    eb.set_text(new_legtxt[ix])\n",
    "    eb.set_size(fontsize=6.5)\n",
    "\n",
    "towns.to_crs(epsg=26986).boundary.plot(ax=ax, color='black',linewidth=0.5)\n",
    "#cx.add_basemap(ax,source=cx.providers.CartoDB.Positron,crs='epsg:26986')\n",
    "#plt.title(\"Soil Drainage in the Charles River Watershed\")\n",
    "Charles.plot(ax=ax,color='#060270',edgecolor='#060270',linewidth=0.5)\n",
    "ax.add_artist(ScaleBar(1,location='lower right'))\n",
    "ax.set_axis_off()\n",
    "#ax.text(194900,859000,'Source: SSURGO data accessed from MassGIS',fontsize=10)\n",
    "plt.savefig(\"Output Maps/Drainage for publication.png\",transparent=True,dpi=300,bbox_inches='tight')"
   ]
  },
  {
   "cell_type": "markdown",
   "metadata": {
    "jp-MarkdownHeadingCollapsed": true
   },
   "source": [
    "# EJ Pops"
   ]
  },
  {
   "cell_type": "code",
   "execution_count": null,
   "metadata": {},
   "outputs": [],
   "source": [
    "EJPops=gpd.read_file('../../Raw_Data/EJ Data/EJ_POLY.shp',driver='pyogrio').clip(CRW)"
   ]
  },
  {
   "cell_type": "code",
   "execution_count": null,
   "metadata": {},
   "outputs": [],
   "source": [
    "EJpops=EJPops.dissolve('EJ_CRITE_1')"
   ]
  },
  {
   "cell_type": "code",
   "execution_count": null,
   "metadata": {},
   "outputs": [],
   "source": [
    "EJStats=pd.DataFrame(rasterstats.zonal_stats(EJpops, \"../../Working_Data/TCC2021.tif\",stats=\"count min mean max median\"),index=EJpops.index)\n",
    "EJStats"
   ]
  },
  {
   "cell_type": "code",
   "execution_count": null,
   "metadata": {},
   "outputs": [],
   "source": [
    "CRWStats=pd.DataFrame(rasterstats.zonal_stats(CRW.dissolve(), \"../../Working_Data/TCC2021.tif\",stats=\"count min mean max median\"))\n",
    "CRWStats"
   ]
  },
  {
   "cell_type": "code",
   "execution_count": null,
   "metadata": {},
   "outputs": [],
   "source": [
    "fig,ax=plt.subplots(figsize=(2,2))\n",
    "l1 = mpl.lines.Line2D([], [], color=(1,1,1,0),markerfacecolor='#b5e3dc', marker='o',markersize=12, label='1 EJ Criteria')\n",
    "l2 = mpl.lines.Line2D([], [], color=(1,1,1,0),markerfacecolor='#5bb2a8', marker='o',markersize=12, label='2 EJ Criteria')\n",
    "l3 = mpl.lines.Line2D([], [], color=(1,1,1,0),markerfacecolor='#0e726a', marker='o',markersize=12, label='3 EJ Criteria')\n",
    "\n",
    "ax.axis('off')\n",
    "ax.legend(handles=[l1,l2,l3])\n",
    "fig.savefig('Output Maps/EJ Legend.png',dpi=300,transparent=True,bbox_inches='tight')"
   ]
  },
  {
   "cell_type": "code",
   "execution_count": null,
   "metadata": {},
   "outputs": [],
   "source": [
    "fig,ax=plt.subplots(figsize=(6,8))\n",
    "EJPops.clip(CRW_Middle).plot(ax=ax,column='EJ_CRITE_1',cmap='BrBG',legend=False,norm=mpl.colors.BoundaryNorm(np.linspace(-4, 4, 36),ncolors=256),vmin=1,vmax=3)\n",
    "CRW_Middle.boundary.plot(ax=ax,color='black',linewidth=0.5)\n",
    "Charles.clip(CRW_Middle).plot(ax=ax,color='#060270',edgecolor='#060270',linewidth=0.5)\n",
    "#plt.title('Environmental Justice Populations (2020)')\n",
    "ax.add_artist(ScaleBar(1,location='lower right'))\n",
    "#cx.add_basemap(ax,source=cx.providers.CartoDB.Positron,crs='epsg:26986')\n",
    "\n",
    "l1 = mpl.lines.Line2D([], [], color=(1,1,1,0),markerfacecolor='#b5e3dc', marker='o',markersize=12, label='1 EJ Criteria')\n",
    "l2 = mpl.lines.Line2D([], [], color=(1,1,1,0),markerfacecolor='#5bb2a8', marker='o',markersize=12, label='2 EJ Criteria')\n",
    "l3 = mpl.lines.Line2D([], [], color=(1,1,1,0),markerfacecolor='#0e726a', marker='o',markersize=12, label='3 EJ Criteria')\n",
    "\n",
    "ax.axis('off')\n",
    "#ax.legend(handles=[l1,l2,l3],loc='upper left')\n",
    "fig.savefig('Output Maps/EJ Legend.png',dpi=300,transparent=True,bbox_inches='tight')\n",
    "ax.axis('off')\n",
    "ax.add_artist(ScaleBar(1,location='lower right'))\n",
    "fig.savefig('Output Maps/EJ Pops for publication.png',transparent=True,dpi=300,bbox_inches='tight')"
   ]
  },
  {
   "cell_type": "code",
   "execution_count": null,
   "metadata": {},
   "outputs": [],
   "source": [
    "fig,ax=plt.subplots(figsize=(6,8))\n",
    "EJPops.plot(ax=ax,column='EJ_CRITE_1',cmap='BrBG',legend=False,norm=mpl.colors.BoundaryNorm(np.linspace(-4, 4, 36),ncolors=256),vmin=1,vmax=3)\n",
    "towns.boundary.plot(ax=ax,color='black',linewidth=0.5)\n",
    "Charles.plot(ax=ax,color='#060270',edgecolor='#060270',linewidth=0.5)\n",
    "#plt.title('Environmental Justice Populations (2020)')\n",
    "ax.add_artist(ScaleBar(1,location='lower right'))\n",
    "#cx.add_basemap(ax,source=cx.providers.CartoDB.Positron,crs='epsg:26986')\n",
    "\n",
    "l1 = mpl.lines.Line2D([], [], color=(1,1,1,0),markerfacecolor='#b5e3dc', marker='o',markersize=12, label='1 EJ Criteria')\n",
    "l2 = mpl.lines.Line2D([], [], color=(1,1,1,0),markerfacecolor='#5bb2a8', marker='o',markersize=12, label='2 EJ Criteria')\n",
    "l3 = mpl.lines.Line2D([], [], color=(1,1,1,0),markerfacecolor='#0e726a', marker='o',markersize=12, label='3 EJ Criteria')\n",
    "\n",
    "ax.axis('off')\n",
    "ax.legend(handles=[l1,l2,l3],loc='upper left')\n",
    "fig.savefig('Output Maps/EJ Legend.png',dpi=300,transparent=True,bbox_inches='tight')\n",
    "ax.axis('off')\n",
    "ax.add_artist(ScaleBar(1,location='lower right'))\n",
    "fig.savefig('Output Maps/EJ Pops for publication.png',transparent=True,dpi=300,bbox_inches='tight')"
   ]
  },
  {
   "cell_type": "markdown",
   "metadata": {
    "jp-MarkdownHeadingCollapsed": true
   },
   "source": [
    "# Development Pressure"
   ]
  },
  {
   "cell_type": "code",
   "execution_count": null,
   "metadata": {
    "id": "o_7k-gCWXlzb",
    "outputId": "066dfaee-e21d-43d0-a244-373a8827ce5e"
   },
   "outputs": [],
   "source": [
    "# https://www.mass.gov/doc/healthy-soils-action-plan-2023/download and New England Landscape Futures data from Harvard forest"
   ]
  },
  {
   "cell_type": "code",
   "execution_count": null,
   "metadata": {},
   "outputs": [],
   "source": [
    "scenarios=glob.glob('../../Raw_Data/NELF/*.tif')\n",
    "dst_crs = 'EPSG:26986'\n",
    "for fp in scenarios:\n",
    "    with rio.open(fp) as src:\n",
    "    \n",
    "        transform, width, height = calculate_default_transform(src.crs, dst_crs, src.width, src.height, *src.bounds)\n",
    "        kwargs = src.meta.copy()\n",
    "        kwargs.update({\n",
    "            'crs': dst_crs,\n",
    "            'transform': transform,\n",
    "            'width': width,\n",
    "            'height': height\n",
    "        })\n",
    "        with rio.Env(CHECK_DISK_FREE_SPACE=\"NO\"):\n",
    "            with rio.open(fp[:-4]+'Reprojected.tif', 'w', **kwargs) as dst:\n",
    "                for i in range(1, src.count + 1):\n",
    "                    reproject(\n",
    "                        source=rio.band(src, i),\n",
    "                        destination=rio.band(dst, i),\n",
    "                        src_transform=src.transform,\n",
    "                        src_crs=src.crs,\n",
    "                        dst_transform=transform,\n",
    "                        dst_crs=dst_crs,\n",
    "                        resampling=Resampling.nearest)"
   ]
  },
  {
   "cell_type": "code",
   "execution_count": null,
   "metadata": {},
   "outputs": [],
   "source": [
    "scenarios=glob.glob('../../Raw_Data/NELF/*01Reprojected.tif')\n",
    "CC20,trans=mask(rio.open('../../Raw_Data/NELF/cc_01Reprojected.tif'),CRW.to_crs(epsg=26986).geometry,crop=True,filled=False)\n",
    "GA20,trans=mask(rio.open('../../Raw_Data/NELF/ga_01Reprojected.tif'),CRW.to_crs(epsg=26986).geometry,crop=True,filled=False)\n",
    "GG20,trans=mask(rio.open('../../Raw_Data/NELF/gg_01Reprojected.tif'),CRW.to_crs(epsg=26986).geometry,crop=True,filled=False)\n",
    "RT20,trans=mask(rio.open('../../Raw_Data/NELF/rt_01Reprojected.tif'),CRW.to_crs(epsg=26986).geometry,crop=True,filled=False)\n",
    "YC20,trans=mask(rio.open('../../Raw_Data/NELF/yc_01Reprojected.tif'),CRW.to_crs(epsg=26986).geometry,crop=True,filled=False)"
   ]
  },
  {
   "cell_type": "code",
   "execution_count": null,
   "metadata": {},
   "outputs": [],
   "source": [
    "scenarios=glob.glob('../../Raw_Data/NELF/*05Reprojected.tif')\n",
    "CC60,trans=mask(rio.open('../../Raw_Data/NELF/cc_05Reprojected.tif'),CRW.to_crs(epsg=26986).geometry,crop=True,filled=False)\n",
    "GA60,trans=mask(rio.open('../../Raw_Data/NELF/ga_05Reprojected.tif'),CRW.to_crs(epsg=26986).geometry,crop=True,filled=False)\n",
    "GG60,trans=mask(rio.open('../../Raw_Data/NELF/gg_05Reprojected.tif'),CRW.to_crs(epsg=26986).geometry,crop=True,filled=False)\n",
    "RT60,trans=mask(rio.open('../../Raw_Data/NELF/rt_05Reprojected.tif'),CRW.to_crs(epsg=26986).geometry,crop=True,filled=False)\n",
    "YC60,trans=mask(rio.open('../../Raw_Data/NELF/yc_05Reprojected.tif'),CRW.to_crs(epsg=26986).geometry,crop=True,filled=False)"
   ]
  },
  {
   "cell_type": "markdown",
   "metadata": {},
   "source": [
    "Key for coding in NELF data: \n",
    "1: High Density Development\n",
    "2: Low Density Development\n",
    "3: Unprotected Forest\n",
    "4: Conserved Forest\n",
    "5: Agriculture\n",
    "6: Other\n",
    "7: Water"
   ]
  },
  {
   "cell_type": "code",
   "execution_count": null,
   "metadata": {},
   "outputs": [],
   "source": [
    "NELF_codes=[1,2,3,4,5,6,7]\n",
    "NELF_colors=['#730000','#E60000','#ABCD66','#5C8944','#FFDE59','#CCCCCC','#00A9E6']\n",
    "NELF_cmap = mpl.colors.LinearSegmentedColormap.from_list('NELF', NELF_colors, N=7)"
   ]
  },
  {
   "cell_type": "code",
   "execution_count": null,
   "metadata": {},
   "outputs": [],
   "source": [
    "fig,ax=plt.subplots(figsize=(2,2))\n",
    "l1 = mpl.lines.Line2D([], [], color=(1,1,1,0),markerfacecolor='#730000', marker='o',markersize=12, label='Developed, High Dens.')\n",
    "l2 = mpl.lines.Line2D([], [], color=(1,1,1,0),markerfacecolor='#E60000', marker='o',markersize=12, label='Developed, Low Dens.')\n",
    "l3 = mpl.lines.Line2D([], [], color=(1,1,1,0),markerfacecolor='#ABCD66', marker='o',markersize=12, label='Forest, Unprotected')\n",
    "l4 = mpl.lines.Line2D([], [], color=(1,1,1,0),markerfacecolor='#5C8944', marker='o',markersize=12, label='Forest, Conserved')\n",
    "l5 = mpl.lines.Line2D([], [], color=(1,1,1,0),markerfacecolor='#FFDE59', marker='o',markersize=12, label='Agriculture')\n",
    "l6 = mpl.lines.Line2D([], [], color=(1,1,1,0),markerfacecolor='#CCCCCC', marker='o',markersize=12, label='Other')\n",
    "l7 = mpl.lines.Line2D([], [], color=(1,1,1,0),markerfacecolor='#00A9E6', marker='o',markersize=12, label='Water')\n",
    "ax.axis('off')\n",
    "ax.legend(handles=[l1,l2,l3,l4,l5,l6,l7])\n",
    "fig.savefig('Output Maps/NELF Legend.png',dpi=300,transparent=True,bbox_inches='tight')"
   ]
  },
  {
   "cell_type": "code",
   "execution_count": null,
   "metadata": {},
   "outputs": [],
   "source": [
    "fig,ax=plt.subplots(figsize=(6,8))\n",
    "show(RT20,ax=ax,cmap=NELF_cmap,vmin=1,vmax=7)\n",
    "ax.axis('off')\n",
    "ax.add_artist(ScaleBar(30,'m',location='lower right'))\n",
    "fig.savefig('Output Maps/NELF current conditions 2020.png',bbox_inches='tight',transparent=True,dpi=300)"
   ]
  },
  {
   "cell_type": "code",
   "execution_count": null,
   "metadata": {},
   "outputs": [],
   "source": [
    "fig,ax=plt.subplots(figsize=(6,8))\n",
    "show(RT60,ax=ax,cmap=NELF_cmap,vmin=1,vmax=7)\n",
    "ax.axis('off')\n",
    "#ax.add_artist(ScaleBar(30,'m',location='lower right'))\n",
    "fig.savefig('Output Maps/NELF RT 2060.png',bbox_inches='tight',transparent=True,dpi=300)"
   ]
  },
  {
   "cell_type": "code",
   "execution_count": null,
   "metadata": {},
   "outputs": [],
   "source": [
    "fig,ax=plt.subplots(figsize=(6,8))\n",
    "show(GG60,ax=ax,cmap=NELF_cmap,vmin=1,vmax=7)\n",
    "ax.axis('off')\n",
    "#ax.add_artist(ScaleBar(30,'m',location='lower right'))\n",
    "fig.savefig('Output Maps/NELF GG 2060.png',bbox_inches='tight',transparent=True,dpi=300)"
   ]
  },
  {
   "cell_type": "code",
   "execution_count": null,
   "metadata": {},
   "outputs": [],
   "source": [
    "fig,ax=plt.subplots(figsize=(6,8))\n",
    "show(GA60,ax=ax,cmap=NELF_cmap,vmin=1,vmax=7)\n",
    "ax.axis('off')\n",
    "#ax.add_artist(ScaleBar(30,'m',location='lower right'))\n",
    "fig.savefig('Output Maps/NELF GA 2060.png',bbox_inches='tight',transparent=True,dpi=300)"
   ]
  },
  {
   "cell_type": "code",
   "execution_count": null,
   "metadata": {},
   "outputs": [],
   "source": [
    "fig,ax=plt.subplots(figsize=(6,8))\n",
    "show(CC60,ax=ax,cmap=NELF_cmap,vmin=1,vmax=7)\n",
    "ax.axis('off')\n",
    "#ax.add_artist(ScaleBar(30,'m',location='lower right'))\n",
    "fig.savefig('Output Maps/NELF CC 2060.png',bbox_inches='tight',transparent=True,dpi=300)"
   ]
  },
  {
   "cell_type": "code",
   "execution_count": null,
   "metadata": {},
   "outputs": [],
   "source": [
    "fig,ax=plt.subplots(figsize=(6,8))\n",
    "show(YC60,ax=ax,cmap=NELF_cmap,vmin=1,vmax=7)\n",
    "ax.axis('off')\n",
    "#ax.add_artist(ScaleBar(30,'m',location='lower right'))\n",
    "fig.savefig('Output Maps/NELF YC 2060.png',bbox_inches='tight',transparent=True,dpi=300)"
   ]
  },
  {
   "cell_type": "code",
   "execution_count": null,
   "metadata": {},
   "outputs": [],
   "source": [
    "RT2020=rioxarray.open_rasterio(\"../../Raw_Data/NELF/rt_01Reprojected.tif\",masked=True)\n",
    "RT2020=RT2020.rio.clip(CRW.to_crs(epsg=26986).geometry)\n",
    "RT2020=RT2020[0,:,:]\n",
    "initialdevelop=xr.where(RT2020<=2,1,np.nan)\n",
    "RT60=rioxarray.open_rasterio(\"../../Raw_Data/NELF/rt_05Reprojected.tif\",masked=True)\n",
    "RT60=RT60.rio.clip(CRW.to_crs(epsg=26986).geometry)\n",
    "RT60=RT60[0,:,:]\n",
    "develop1=xr.where(RT60<=2,1,0)\n",
    "CC60=rioxarray.open_rasterio(\"../../Raw_Data/NELF/cc_05Reprojected.tif\",masked=True)\n",
    "CC60=CC60.rio.clip(CRW.to_crs(epsg=26986).geometry)\n",
    "CC60=CC60[0,:,:]\n",
    "develop2=xr.where(CC60<=2,1,0)\n",
    "GA60=rioxarray.open_rasterio(\"../../Raw_Data/NELF/ga_05Reprojected.tif\",masked=True)\n",
    "GA60=GA60.rio.clip(CRW.to_crs(epsg=26986).geometry)\n",
    "GA60=GA60[0,:,:]\n",
    "develop3=xr.where(GA60<=2,1,0)\n",
    "GG60=rioxarray.open_rasterio(\"../../Raw_Data/NELF/gg_05Reprojected.tif\",masked=True)\n",
    "GG60=GG60.rio.clip(CRW.to_crs(epsg=26986).geometry)\n",
    "GG60=GG60[0,:,:]\n",
    "develop4=xr.where(GG60<=2,1,0)\n",
    "YC60=rioxarray.open_rasterio(\"../../Raw_Data/NELF/yc_05Reprojected.tif\",masked=True)\n",
    "YC60=YC60.rio.clip(CRW.to_crs(epsg=26986).geometry)\n",
    "YC60=YC60[0,:,:]\n",
    "develop5=xr.where(YC60<=2,1,0)"
   ]
  },
  {
   "cell_type": "code",
   "execution_count": null,
   "metadata": {},
   "outputs": [],
   "source": [
    "dPressure=develop1+develop2+develop3+develop4+develop5\n",
    "dPressure.rio.to_raster('../../Working_Data/Development Pressure.tif')\n",
    "initialdevelop.rio.to_raster('../../Working_Data/2020 development.tif')"
   ]
  },
  {
   "cell_type": "code",
   "execution_count": null,
   "metadata": {},
   "outputs": [],
   "source": [
    "dPressure,trans=mask(rio.open('../../Working_Data/Development Pressure.tif'),CRW_Middle.to_crs(epsg=26986).geometry,crop=True,filled=False)\n",
    "iDevelop,trans=mask(rio.open('../../Working_Data/2020 development.tif'),CRW_Middle.to_crs(epsg=26986).geometry,crop=True,filled=False)\n",
    "plot_extent = rio.plot.plotting_extent(dPressure,Middle_transform)"
   ]
  },
  {
   "cell_type": "code",
   "execution_count": null,
   "metadata": {},
   "outputs": [],
   "source": [
    "codes=[1,2]\n",
    "colors=['#c9c9c9','#d9d9d9']\n",
    "my_cmap = mpl.colors.LinearSegmentedColormap.from_list('my_cmap', colors, N=2)\n",
    "codes2=[1,2,3,4,5]\n",
    "colors2=['#5bb2a8','#b5e3dc','#ecd8a5','#c48a38','#7c4809'] \n",
    "my_cmap2 = mpl.colors.LinearSegmentedColormap.from_list('my_cmap2', colors2, N=5)"
   ]
  },
  {
   "cell_type": "code",
   "execution_count": null,
   "metadata": {},
   "outputs": [],
   "source": [
    "fig,ax=plt.subplots(figsize=(2,2))\n",
    "l1 = mpl.lines.Line2D([], [], color=(1,1,1,0),markerfacecolor='#c9c9c9', marker='o',markersize=12, label='Developed Currently')\n",
    "l2 = mpl.lines.Line2D([], [], color=(1,1,1,0),markerfacecolor='#5bb2a8', marker='o',markersize=12, label='Lowest Pressure')\n",
    "l3 = mpl.lines.Line2D([], [], color=(1,1,1,0),markerfacecolor='#b5e3dc', marker='o',markersize=12, label='Low Pressure')\n",
    "l4 = mpl.lines.Line2D([], [], color=(1,1,1,0),markerfacecolor='#ecd8a5', marker='o',markersize=12, label='Medium Pressure')\n",
    "l5 = mpl.lines.Line2D([], [], color=(1,1,1,0),markerfacecolor='#c48a38', marker='o',markersize=12, label='High Pressure')\n",
    "l6 = mpl.lines.Line2D([], [], color=(1,1,1,0),markerfacecolor='#7c4809', marker='o',markersize=12, label='Highest Pressure')\n",
    "ax.axis('off')\n",
    "ax.legend(handles=[l2,l3,l4,l5,l6,l1])\n",
    "fig.savefig('Output Maps/NELF pressure Legend.png',dpi=300,transparent=True,bbox_inches='tight')"
   ]
  },
  {
   "cell_type": "code",
   "execution_count": null,
   "metadata": {},
   "outputs": [],
   "source": [
    "fig,ax=plt.subplots(figsize=(6,8))\n",
    "show(dPressure,ax=ax,cmap=my_cmap2,extent=Middle_extent)\n",
    "show(iDevelop,ax=ax,cmap=my_cmap,extent=Middle_extent)\n",
    "ax.set_title('')\n",
    "ax.axis('off')\n",
    "l1 = mpl.lines.Line2D([], [], color=(1,1,1,0),markerfacecolor='#c9c9c9', marker='o',markersize=12, label='Developed Currently')\n",
    "l2 = mpl.lines.Line2D([], [], color=(1,1,1,0),markerfacecolor='#5bb2a8', marker='o',markersize=12, label='Lowest Pressure')\n",
    "l3 = mpl.lines.Line2D([], [], color=(1,1,1,0),markerfacecolor='#b5e3dc', marker='o',markersize=12, label='Low Pressure')\n",
    "l4 = mpl.lines.Line2D([], [], color=(1,1,1,0),markerfacecolor='#ecd8a5', marker='o',markersize=12, label='Medium Pressure')\n",
    "l5 = mpl.lines.Line2D([], [], color=(1,1,1,0),markerfacecolor='#c48a38', marker='o',markersize=12, label='High Pressure')\n",
    "l6 = mpl.lines.Line2D([], [], color=(1,1,1,0),markerfacecolor='#7c4809', marker='o',markersize=12, label='Highest Pressure')\n",
    "\n",
    "#ax.legend(handles=[l2,l3,l4,l5,l6,l1],loc='upper left')\n",
    "CRW_Middle.to_crs(epsg=26986).boundary.plot(ax=ax,color='black',linewidth=0.5)\n",
    "Charles.clip(CRW_Middle).to_crs(epsg=26986).plot(ax=ax,color='#060270',edgecolor='#060270',linewidth=0.5)\n",
    "ax.add_artist(ScaleBar(1,'m',location='lower right'))\n",
    "fig.savefig('Output Maps/Development pressure summary for publication.png',dpi=300,bbox_inches='tight',transparent=True)"
   ]
  },
  {
   "cell_type": "code",
   "execution_count": null,
   "metadata": {},
   "outputs": [],
   "source": [
    "fig, ax=plt.subplots(1,5,figsize=(20,20))\n",
    "titles=['Connected Communities','Go it Alone','Growing Global','Recent Trends','Yankee Cosmopolitan']\n",
    "show(CC60,ax=ax[0],cmap=NELF_cmap,vmin=1,vmax=7)\n",
    "show(GA60,ax=ax[1],cmap=NELF_cmap,vmin=1,vmax=7)\n",
    "show(GG60,ax=ax[2],cmap=NELF_cmap,vmin=1,vmax=7)\n",
    "show(RT60,ax=ax[3],cmap=NELF_cmap,vmin=1,vmax=7)\n",
    "show(YC60,ax=ax[4],cmap=NELF_cmap,vmin=1,vmax=7)\n",
    "for i in [0,1,2,3,4]:\n",
    "    ax[i].set_axis_off()\n",
    "    cbar=fig.colorbar(ax[i].imshow(CC[0,:,:],cmap=NELF_cmap),ax=ax[i],orientation='horizontal',pad=0.03,shrink=0.7)\n",
    "    cbar.set_ticks(ticks=[1,2,3,4,5,6,7], labels=['High Density Development','Low Density Development','Unprotected Forest','Conserved Forest',\n",
    "                                                  'Agriculture','Other','Water'], rotation=90,fontsize='x-small')\n",
    "    ax[i].set_title(titles[i],fontsize='x-large')\n",
    "plt.savefig('Output Maps/NELF 2060.png',dpi=300,bbox_inches='tight')"
   ]
  },
  {
   "cell_type": "code",
   "execution_count": null,
   "metadata": {},
   "outputs": [],
   "source": [
    "\n",
    "fig, ax=plt.subplots(1,5,figsize=(20,20))\n",
    "titles=['Connected Communities','Go it Alone','Growing Global','Recent Trends','Yankee Cosmopolitan']\n",
    "show(CC20,ax=ax[0],cmap=NELF_cmap,vmin=1,vmax=7)\n",
    "show(GA20,ax=ax[1],cmap=NELF_cmap,vmin=1,vmax=7)\n",
    "show(GG20,ax=ax[2],cmap=NELF_cmap,vmin=1,vmax=7)\n",
    "show(RT20,ax=ax[3],cmap=NELF_cmap,vmin=1,vmax=7)\n",
    "show(YC20,ax=ax[4],cmap=NELF_cmap,vmin=1,vmax=7)\n",
    "for i in [0,1,2,3,4]:\n",
    "    ax[i].set_axis_off()\n",
    "    cbar=fig.colorbar(ax[i].imshow(CC[0,:,:],cmap=NELF_cmap),ax=ax[i],orientation='horizontal',pad=0.03,shrink=0.7)\n",
    "    cbar.set_ticks(ticks=[1,2,3,4,5,6,7], labels=['High Density Development','Low Density Development','Unprotected Forest','Conserved Forest',\n",
    "                                                  'Agriculture','Other','Water'], rotation=90,fontsize='x-small')\n",
    "    ax[i].set_title(titles[i],fontsize='x-large')\n",
    "plt.savefig('Output Maps/NELF 2020.png',dpi=300,bbox_inches='tight')"
   ]
  },
  {
   "cell_type": "code",
   "execution_count": null,
   "metadata": {},
   "outputs": [],
   "source": [
    "RT20=rioxarray.open_rasterio(\"../../Raw_Data/NELF/rt_01.tif\",masked=True)\n",
    "RT20=RT20.rio.clip(CRW.to_crs(epsg=5070).geometry)\n",
    "CC20=rioxarray.open_rasterio(\"../../Raw_Data/NELF/cc_01.tif\",masked=True)\n",
    "CC20=CC20.rio.clip(CRW.to_crs(epsg=5070).geometry)\n",
    "GA20=rioxarray.open_rasterio(\"../../Raw_Data/NELF/ga_01.tif\",masked=True)\n",
    "GA20=GA20.rio.clip(CRW.to_crs(epsg=5070).geometry)\n",
    "GG20=rioxarray.open_rasterio(\"../../Raw_Data/NELF/gg_01.tif\",masked=True)\n",
    "GG20=GG20.rio.clip(CRW.to_crs(epsg=5070).geometry)\n",
    "YC20=rioxarray.open_rasterio(\"../../Raw_Data/NELF/yc_01.tif\",masked=True)\n",
    "YC20=YC20.rio.clip(CRW.to_crs(epsg=5070).geometry)\n",
    "RT60=rioxarray.open_rasterio(\"../../Raw_Data/NELF/rt_05.tif\",masked=True)\n",
    "RT60=RT60.rio.clip(CRW.to_crs(epsg=5070).geometry)\n",
    "CC60=rioxarray.open_rasterio(\"../../Raw_Data/NELF/cc_05.tif\",masked=True)\n",
    "CC60=CC60.rio.clip(CRW.to_crs(epsg=5070).geometry)\n",
    "GA60=rioxarray.open_rasterio(\"../../Raw_Data/NELF/ga_05.tif\",masked=True)\n",
    "GA60=GA60.rio.clip(CRW.to_crs(epsg=5070).geometry)\n",
    "GG60=rioxarray.open_rasterio(\"../../Raw_Data/NELF/gg_05.tif\",masked=True)\n",
    "GG60=GG60.rio.clip(CRW.to_crs(epsg=5070).geometry)\n",
    "YC60=rioxarray.open_rasterio(\"../../Raw_Data/NELF/yc_05.tif\",masked=True)\n",
    "YC60=YC60.rio.clip(CRW.to_crs(epsg=5070).geometry)"
   ]
  },
  {
   "cell_type": "code",
   "execution_count": null,
   "metadata": {},
   "outputs": [],
   "source": [
    "labels=['HDD','LDD','UF','CF','A','Other','Water','Total']\n",
    "unique, count = np.unique(RT20.to_numpy(), return_counts = True)\n",
    "RT20_Stats=pd.DataFrame({'Value':labels,'RT20':count})\n",
    "unique, count = np.unique(CC20.to_numpy(), return_counts = True)\n",
    "CC20_Stats=pd.DataFrame({'CC20':count})\n",
    "unique, count = np.unique(GA20.to_numpy(), return_counts = True)\n",
    "GA20_Stats=pd.DataFrame({'GA20':count})\n",
    "unique, count = np.unique(GG20.to_numpy(), return_counts = True)\n",
    "GG20_Stats=pd.DataFrame({'GG20':count})\n",
    "unique, count = np.unique(YC20.to_numpy(), return_counts = True)\n",
    "YC20_Stats=pd.DataFrame({'YC20':count})\n",
    "unique, count = np.unique(RT60.to_numpy(), return_counts = True)\n",
    "RT60_Stats=pd.DataFrame({'RT60':count})\n",
    "unique, count = np.unique(CC60.to_numpy(), return_counts = True)\n",
    "CC60_Stats=pd.DataFrame({'CC60':count})\n",
    "unique, count = np.unique(GA60.to_numpy(), return_counts = True)\n",
    "GA60_Stats=pd.DataFrame({'GA60':count})\n",
    "unique, count = np.unique(GG60.to_numpy(), return_counts = True)\n",
    "GG60_Stats=pd.DataFrame({'GG60':count})\n",
    "unique, count = np.unique(YC60.to_numpy(), return_counts = True)\n",
    "YC60_Stats=pd.DataFrame({'YC60':count})\n",
    "NELF_Stats=pd.concat([RT20_Stats,CC20_Stats,GA20_Stats,GG20_Stats,YC20_Stats,RT60_Stats,CC60_Stats,GA60_Stats,GG60_Stats,YC60_Stats],axis=1)\n",
    "NELF_Stats=NELF_Stats.iloc[:5,:]\n",
    "NELF_Stats['Recent Trends']=(NELF_Stats['RT60']-NELF_Stats['RT20'])*900*0.00024711\n",
    "NELF_Stats['Connected Communities']=900*(NELF_Stats['CC60']-NELF_Stats['CC20'])*0.00024711\n",
    "NELF_Stats['Go It Alone']=900*(NELF_Stats['GA60']-NELF_Stats['GA20'])*0.00024711\n",
    "NELF_Stats['Growing Global']=900*(NELF_Stats['GG60']-NELF_Stats['GG20'])*0.00024711\n",
    "NELF_Stats['Yankee Cosmopolitan']=900*(NELF_Stats['YC60']-NELF_Stats['YC20'])*0.00024711\n",
    "NELF_Stats=NELF_Stats.drop(['RT20','CC20','GA20','GG20','YC20','RT60','CC60','GA60','GG60','YC60'],axis=1).melt(id_vars=['Value'],var_name='Scenario')"
   ]
  },
  {
   "cell_type": "code",
   "execution_count": null,
   "metadata": {},
   "outputs": [],
   "source": [
    "g=sns.catplot(NELF_Stats,x='Value',y='value',col='Scenario',kind='bar',hue='Value',palette=['#730000','#E60000','#ABCD66','#5C8944','#F5F57A'],aspect=0.65)\n",
    "axes = g.axes.flatten()\n",
    "axes[0].set_ylabel(\"Change in area 2020-2060 (acres)\")\n",
    "for i in np.arange(0,5):\n",
    "    axes[i].set_xlabel('Land Use Category')\n",
    "axes[0].text(-1,-90000,'Land Use Category abbreviations\\nHDD: high density development\\nLDD: low density development\\nUF: unprotected forest\\nCF: conserved forest\\nA: agriculture')\n",
    "axes[0].text(5,-70000,'Source: New England Landscape Futures and Harvard Forest')\n",
    "axes[0].text(5,-90000,'Each scenario pressuposes different combinations of connectedness and natural resource innovation\\nwhile Recent Trends is the status quo. Connected Communities assumes local\\nconnectedness with high innovation, Go It Alone assumes local connectedness with low innovation,\\nGrowing Global assumes globalization with low innovation, and Yankee Cosmopolitan assumes\\nglobal connectedness with high innovation. Read more at https://harvardforest.fas.harvard.edu/other-tags/future-scenarios.')\n",
    "plt.savefig('Output Maps/Change Graphs.png',dpi=300,bbox_inches='tight')"
   ]
  },
  {
   "cell_type": "code",
   "execution_count": null,
   "metadata": {},
   "outputs": [],
   "source": [
    "RT2020.plot()\n",
    "plt.show()"
   ]
  },
  {
   "cell_type": "code",
   "execution_count": null,
   "metadata": {},
   "outputs": [],
   "source": [
    "fig,ax=plt.subplots()\n",
    "hidden=ax.imshow(summ[0,:,:],cmap='Greys')\n",
    "show(summ,cmap='Reds',ax=ax)\n",
    "ax.imshow((RT2020<=2)[0,:,:],cmap='Greys')\n",
    "fig.colorbar(hidden)\n",
    "plt.show()"
   ]
  },
  {
   "cell_type": "markdown",
   "metadata": {
    "id": "KXIB1NJYXlzn",
    "jp-MarkdownHeadingCollapsed": true
   },
   "source": [
    "# UMASS CAPS Data"
   ]
  },
  {
   "cell_type": "code",
   "execution_count": null,
   "metadata": {
    "id": "iRx2rcIeXlzn"
   },
   "outputs": [],
   "source": [
    "#Open and visualize caps data for whole state\n",
    "UMASS = rio.open('../../Raw_Data/standard/standard/iei.tif').read(1)\n",
    "plot_extent = rio.plot.plotting_extent(rio.open('../../Raw_Data/standard/standard/iei.tif'))\n",
    "f, ax =plt.subplots()\n",
    "\n",
    "show(UMASS,ax=ax,cmap='Greens',extent=plot_extent)\n",
    "\n",
    "ax.set(title='Ecological Integrity in MA')\n",
    "ax.add_artist(ScaleBar(1,location='lower left'))\n",
    "plt.show()"
   ]
  },
  {
   "cell_type": "code",
   "execution_count": null,
   "metadata": {},
   "outputs": [],
   "source": [
    "CRW.plot()"
   ]
  },
  {
   "cell_type": "code",
   "execution_count": null,
   "metadata": {},
   "outputs": [],
   "source": [
    "CRW.total_bounds"
   ]
  },
  {
   "cell_type": "code",
   "execution_count": null,
   "metadata": {
    "id": "6P8MOBSRXlzo"
   },
   "outputs": [],
   "source": [
    "# Just for CRW\n",
    "UMASS,trans=mask(rio.open('../../Raw_Data/standard/standard/iei.tif'),CRW.to_crs(epsg=26986).geometry,crop=True,filled=False)\n",
    "f, ax =plt.subplots(figsize=(6,8))\n",
    "hidden=ax.imshow(UMASS[0,:,:],cmap='Greens',extent=[195915.05,236893.2,863926.13,911511.69],vmin=0,vmax=1)\n",
    "#ax.set(title='Ecological Integrity in the Watershed')\n",
    "ax.add_artist(ScaleBar(1,location='lower right'))\n",
    "ax.axis('off')\n",
    "#cx.add_basemap(ax,source=cx.providers.CartoDB.Positron,crs='epsg:26986')\n",
    "show(UMASS,cmap='Greens',ax=ax,extent=[195915.05,236893.2,863926.13,911511.69],vmin=0,vmax=1)\n",
    "towns.boundary.plot(ax=ax,color='black',linewidth=0.5)\n",
    "Charles.plot(ax=ax,color='#060270',edgecolor='#060270',linewidth=0.5)\n",
    "f.colorbar(hidden,label='Integrity Rating',orientation='horizontal',shrink=0.7,aspect=20,pad=0.05)\n",
    "#ax.text(194900,859000,'Source: UMASS CAPS Data (https://umasscaps.org/)')\n",
    "f.savefig('Output Maps/CAPS Ecological Integrity for publication.png',transparent=True,dpi=300,bbox_inches='tight')"
   ]
  },
  {
   "cell_type": "code",
   "execution_count": null,
   "metadata": {},
   "outputs": [],
   "source": [
    "help(geocube)"
   ]
  },
  {
   "cell_type": "code",
   "execution_count": null,
   "metadata": {},
   "outputs": [],
   "source": [
    "CAPS=rioxarray.open_rasterio('../../Raw_Data/standard/standard/iei.tif',masked=True)\n",
    "CAPS.name='INT_Rating'\n",
    "CAPS=CAPS.rio.clip(CRW.to_crs(epsg=26986).geometry)\n",
    "CAPS_gdf=vectorize(CAPS)"
   ]
  },
  {
   "cell_type": "code",
   "execution_count": null,
   "metadata": {},
   "outputs": [],
   "source": [
    "fig,ax=plt.subplots(figsize=(6,8))\n",
    "CAPS_gdf[CAPS_gdf['INT_Rating']>0.6].plot(ax=ax,color='#ff9101')\n",
    "towns.to_crs(epsg=26986).boundary.plot(ax=ax, color='black',linewidth=0.5)\n",
    "#plt.title('Hydric Soil Rating')\n",
    "Charles.plot(ax=ax,color='#060270',edgecolor='#060270',linewidth=0.5)\n",
    "ax.add_artist(ScaleBar(1,location='lower right'))\n",
    "#cx.add_basemap(ax,source=cx.providers.CartoDB.Positron,crs='epsg:26986')\n",
    "ax.axis('off')\n",
    "#ax.text(194900,859000,'Source: SSURGO data accessed from MassGIS',fontsize=10)\n",
    "fig.savefig('Output Maps/Top 40 CAPS sites for publication.png',transparent=True,dpi=300,bbox_inches='tight')"
   ]
  },
  {
   "cell_type": "markdown",
   "metadata": {
    "jp-MarkdownHeadingCollapsed": true
   },
   "source": [
    "# Impervious Cover"
   ]
  },
  {
   "cell_type": "code",
   "execution_count": null,
   "metadata": {},
   "outputs": [],
   "source": [
    "NLCD2019_imp=ee.Image('USGS/NLCD_RELEASES/2019_REL/NLCD/2019').clip(Charles).select('impervious').reproject(crs='EPSG:26986',scale=30)\n",
    "imp2019=geemap.ee_export_image(\n",
    "    NLCD2019_imp, filename='../../Working_Data/imp2019.tif', region=Charles.geometry(), file_per_band=False\n",
    ")"
   ]
  },
  {
   "cell_type": "code",
   "execution_count": null,
   "metadata": {},
   "outputs": [],
   "source": [
    "NLCD2021_imp=ee.Image('USGS/NLCD_RELEASES/2021_REL/NLCD/2021').clip(Charles).select('impervious').reproject(crs='EPSG:26986',scale=30)\n",
    "imp2021=geemap.ee_export_image(\n",
    "    NLCD2021_imp, filename='../../Working_Data/imp2021.tif', region=Charles.geometry(), file_per_band=False\n",
    ")"
   ]
  },
  {
   "cell_type": "code",
   "execution_count": null,
   "metadata": {},
   "outputs": [],
   "source": [
    "f, ax =plt.subplots(nrows=1, ncols=3,figsize=(10,10))\n",
    "f.tight_layout()\n",
    "\n",
    "plot_extent = rio.plot.plotting_extent(rio.open('../../Working_Data/imp2019.tif'))\n",
    "imp2019,trans=mask(rio.open('../../Working_Data/imp2019.tif'),CRW.to_crs(epsg=26986).geometry,crop=True)\n",
    "hidden = ax[0].imshow(imp2019[0,:,:],cmap='Greys',extent=plot_extent)\n",
    "\n",
    "# Add data and layers\n",
    "show(imp2019,cmap='Greys',ax=ax[0],extent=plot_extent)\n",
    "towns.to_crs(epsg=26986).boundary.plot(ax=ax[0], color='gray',linewidth=1)\n",
    "\n",
    "# Add colorbar using hidden version of raster\n",
    "f.colorbar(hidden,ax=ax[0],cmap='Greys',orientation='horizontal',aspect=25,shrink=0.7,pad=.04,label='Impervious Cover',format=\"%4i%%\")\n",
    "\n",
    "# Set properties of plot\n",
    "ax[0].set(title='Impervious cover (2019)')\n",
    "ax[0].add_artist(ScaleBar(1,location='lower right'))\n",
    "ax[0].set_axis_off()\n",
    "\n",
    "\n",
    "plot_extent = rio.plot.plotting_extent(rio.open('../../Working_Data/imp2021.tif'))\n",
    "imp2021,trans=mask(rio.open('../../Working_Data/imp2021.tif'),CRW.to_crs(epsg=26986).geometry,crop=True)\n",
    "hidden = ax[1].imshow(imp2021[0,:,:],cmap='Greys',extent=plot_extent)\n",
    "\n",
    "# Add data and layers\n",
    "show(imp2021,cmap='Greys',ax=ax[1],extent=plot_extent)\n",
    "towns.to_crs(epsg=26986).boundary.plot(ax=ax[1], color='gray',linewidth=1)\n",
    "\n",
    "# Add colorbar using hidden version of raster\n",
    "f.colorbar(hidden,ax=ax[1],cmap='Greys',orientation='horizontal',aspect=25,shrink=0.7,pad=.04,label='Impervious Cover',format=\"%4i%%\")\n",
    "\n",
    "# Set properties of plot\n",
    "ax[1].set(title='Impervious cover (2021)')\n",
    "ax[1].add_artist(ScaleBar(1,location='lower right'))\n",
    "ax[1].set_axis_off()\n",
    "\n",
    "hidden = ax[2].imshow(imp2021[0,:,:]-imp2019[0,:,:],cmap='Oranges',extent=plot_extent,vmin=0,vmax=60)\n",
    "\n",
    "# Add data and layers\n",
    "show(imp2021-imp2019,cmap='Oranges',ax=ax[2],extent=plot_extent,vmin=0,vmax=60)\n",
    "towns.to_crs(epsg=26986).boundary.plot(ax=ax[2], color='gray',linewidth=1)\n",
    "\n",
    "# Add colorbar using hidden version of raster\n",
    "f.colorbar(hidden,ax=ax[2],cmap='Oranges',orientation='horizontal',aspect=25,shrink=0.7,pad=.04,label='Impervious Cover',format=\"%4i%%\")\n",
    "\n",
    "# Set properties of plot\n",
    "ax[2].set(title='Change')\n",
    "ax[2].add_artist(ScaleBar(1,location='lower right'))\n",
    "ax[2].set_axis_off()\n",
    "\n",
    "ax[0].text(195000,845000,'Source: National Land Cover Database (NLCD)')\n",
    "f.savefig('Output Maps/Impervious Cover 2019 and 2021.png',dpi=300,bbox_inches='tight')"
   ]
  },
  {
   "cell_type": "markdown",
   "metadata": {
    "jp-MarkdownHeadingCollapsed": true
   },
   "source": [
    "# Heat"
   ]
  },
  {
   "cell_type": "code",
   "execution_count": null,
   "metadata": {},
   "outputs": [],
   "source": [
    "heat,trans=mask(rio.open(\"../../Raw_Data/Heat/LST_index_normwater_mapc.tif\"),CRW.to_crs(epsg=26986).geometry,crop=True,filled=False)\n",
    "heat_M,trans=mask(rio.open(\"../../Raw_Data/Heat/LST_index_normwater_mapc.tif\"),CRW_Middle.to_crs(epsg=26986).geometry,crop=True,filled=False)"
   ]
  },
  {
   "cell_type": "code",
   "execution_count": null,
   "metadata": {},
   "outputs": [],
   "source": [
    "pd.DataFrame(rasterstats.zonal_stats(CRW, \"../../Raw_Data/Heat/LST_index_normwater_mapc.tif\",stats=\"count min mean max median\"),index=CRW.index)"
   ]
  },
  {
   "cell_type": "code",
   "execution_count": null,
   "metadata": {},
   "outputs": [],
   "source": [
    "heat=(100*heat-.14119)/0.943675\n",
    "heat_M=(100*heat_M-.14119)/0.943675"
   ]
  },
  {
   "cell_type": "code",
   "execution_count": null,
   "metadata": {},
   "outputs": [],
   "source": [
    "codes3=[1,2]\n",
    "colors3=['#a6cee3','#f5f5f5','#FF9101']\n",
    "my_cmap3 = mpl.colors.LinearSegmentedColormap.from_list('my_cmap3', colors3)"
   ]
  },
  {
   "cell_type": "code",
   "execution_count": null,
   "metadata": {},
   "outputs": [],
   "source": [
    "ax=CRW_Middle.boundary.plot(figsize=(6,8),color='black',linewidth=0.5)\n",
    "Charles.clip(CRW_Middle).to_crs(epsg=26986).plot(ax=ax,color='#060270',edgecolor='#060270',linewidth=0.5)\n",
    "hidden=ax.imshow(heat_M[0,:,:],cmap=my_cmap3,vmin=0,vmax=100)\n",
    "show(heat_M,cmap=my_cmap3,ax=ax,extent=Middle_extent,vmin=0,vmax=100)\n",
    "#plt.colorbar(hidden,orientation='vertical',shrink=0.5,aspect=10,pad=0.1,label='Percentile',format='%ith')\n",
    "ax.add_artist(ScaleBar(1,location='lower right'))\n",
    "ax.axis('off')\n",
    "plt.savefig('Output Maps/Heat Ranking wLegend.png',transparent=True,dpi=300,bbox_inches='tight')"
   ]
  },
  {
   "cell_type": "code",
   "execution_count": 136,
   "metadata": {},
   "outputs": [
    {
     "data": {
      "text/html": [
       "<pre style=\"white-space:pre;overflow-x:auto;line-height:normal;font-family:Menlo,'DejaVu Sans Mono',consolas,'Courier New',monospace\"></pre>\n"
      ],
      "text/plain": []
     },
     "metadata": {},
     "output_type": "display_data"
    },
    {
     "data": {
      "text/html": [
       "\n",
       "            <style>\n",
       "                .geemap-dark {\n",
       "                    --jp-widgets-color: white;\n",
       "                    --jp-widgets-label-color: white;\n",
       "                    --jp-ui-font-color1: white;\n",
       "                    --jp-layout-color2: #454545;\n",
       "                    background-color: #383838;\n",
       "                }\n",
       "                    \n",
       "                .geemap-dark .jupyter-button {\n",
       "                    --jp-layout-color3: #383838;\n",
       "                }\n",
       "                \n",
       "                .geemap-colab {\n",
       "                    background-color: var(--colab-primary-surface-color, white);\n",
       "                }\n",
       "                    \n",
       "                .geemap-colab .jupyter-button {\n",
       "                    --jp-layout-color3: var(--colab-primary-surface-color, white);\n",
       "                }\n",
       "            </style>\n",
       "            "
      ],
      "text/plain": [
       "\u001b[1m<\u001b[0m\u001b[1;95mIPython.core.display.HTML\u001b[0m\u001b[39m object\u001b[0m\u001b[1m>\u001b[0m"
      ]
     },
     "metadata": {},
     "output_type": "display_data"
    }
   ],
   "source": [
    "def apply_scale_factors(image):\n",
    "  optical_bands = image.select('SR_B.').multiply(0.0000275).add(-0.2)\n",
    "  thermal_bands = image.select('ST_B.*').multiply(0.00341802).add(149.0)\n",
    "  return image.addBands(optical_bands, None, True).addBands(\n",
    "      thermal_bands, None, True\n",
    "  )"
   ]
  },
  {
   "cell_type": "code",
   "execution_count": 137,
   "metadata": {},
   "outputs": [
    {
     "data": {
      "text/html": [
       "<pre style=\"white-space:pre;overflow-x:auto;line-height:normal;font-family:Menlo,'DejaVu Sans Mono',consolas,'Courier New',monospace\"></pre>\n"
      ],
      "text/plain": []
     },
     "metadata": {},
     "output_type": "display_data"
    },
    {
     "data": {
      "text/html": [
       "\n",
       "            <style>\n",
       "                .geemap-dark {\n",
       "                    --jp-widgets-color: white;\n",
       "                    --jp-widgets-label-color: white;\n",
       "                    --jp-ui-font-color1: white;\n",
       "                    --jp-layout-color2: #454545;\n",
       "                    background-color: #383838;\n",
       "                }\n",
       "                    \n",
       "                .geemap-dark .jupyter-button {\n",
       "                    --jp-layout-color3: #383838;\n",
       "                }\n",
       "                \n",
       "                .geemap-colab {\n",
       "                    background-color: var(--colab-primary-surface-color, white);\n",
       "                }\n",
       "                    \n",
       "                .geemap-colab .jupyter-button {\n",
       "                    --jp-layout-color3: var(--colab-primary-surface-color, white);\n",
       "                }\n",
       "            </style>\n",
       "            "
      ],
      "text/plain": [
       "\u001b[1m<\u001b[0m\u001b[1;95mIPython.core.display.HTML\u001b[0m\u001b[39m object\u001b[0m\u001b[1m>\u001b[0m"
      ]
     },
     "metadata": {},
     "output_type": "display_data"
    }
   ],
   "source": [
    "def CharClip(image):\n",
    "    return image.clip(geemap.geopandas_to_ee(CRW))"
   ]
  },
  {
   "cell_type": "code",
   "execution_count": 143,
   "metadata": {},
   "outputs": [
    {
     "data": {
      "text/html": [
       "<pre style=\"white-space:pre;overflow-x:auto;line-height:normal;font-family:Menlo,'DejaVu Sans Mono',consolas,'Courier New',monospace\"></pre>\n"
      ],
      "text/plain": []
     },
     "metadata": {},
     "output_type": "display_data"
    },
    {
     "data": {
      "text/html": [
       "\n",
       "            <style>\n",
       "                .geemap-dark {\n",
       "                    --jp-widgets-color: white;\n",
       "                    --jp-widgets-label-color: white;\n",
       "                    --jp-ui-font-color1: white;\n",
       "                    --jp-layout-color2: #454545;\n",
       "                    background-color: #383838;\n",
       "                }\n",
       "                    \n",
       "                .geemap-dark .jupyter-button {\n",
       "                    --jp-layout-color3: #383838;\n",
       "                }\n",
       "                \n",
       "                .geemap-colab {\n",
       "                    background-color: var(--colab-primary-surface-color, white);\n",
       "                }\n",
       "                    \n",
       "                .geemap-colab .jupyter-button {\n",
       "                    --jp-layout-color3: var(--colab-primary-surface-color, white);\n",
       "                }\n",
       "            </style>\n",
       "            "
      ],
      "text/plain": [
       "\u001b[1m<\u001b[0m\u001b[1;95mIPython.core.display.HTML\u001b[0m\u001b[39m object\u001b[0m\u001b[1m>\u001b[0m"
      ]
     },
     "metadata": {},
     "output_type": "display_data"
    }
   ],
   "source": [
    "#Cloud mask function\n",
    "def mask_l8_clouds(image):\n",
    "    qa = image.select('QA_PIXEL')\n",
    "    bit_mask = 1 << 1\n",
    "    bit_mask1 = 1 << 2\n",
    "    bit_mask2 = 1 << 3\n",
    "    bit_mask3 = 1 << 4\n",
    "    bit_mask4 = 1 << 5\n",
    "    bit_mask5 = 1 << 7\n",
    "    mask = (\n",
    "        qa.bitwiseAnd(bit_mask)\n",
    "        .eq(0)\n",
    "        .And(qa.bitwiseAnd(bit_mask1).eq(0))\n",
    "        .And(qa.bitwiseAnd(bit_mask2).eq(0))\n",
    "        .And(qa.bitwiseAnd(bit_mask3).eq(0))\n",
    "        .And(qa.bitwiseAnd(bit_mask4).eq(0))\n",
    "        .And(qa.bitwiseAnd(bit_mask5).eq(0))\n",
    "    )\n",
    "    return image.updateMask(mask)"
   ]
  },
  {
   "cell_type": "code",
   "execution_count": 149,
   "metadata": {},
   "outputs": [
    {
     "data": {
      "text/html": [
       "<pre style=\"white-space:pre;overflow-x:auto;line-height:normal;font-family:Menlo,'DejaVu Sans Mono',consolas,'Courier New',monospace\"></pre>\n"
      ],
      "text/plain": []
     },
     "metadata": {},
     "output_type": "display_data"
    },
    {
     "data": {
      "text/html": [
       "\n",
       "            <style>\n",
       "                .geemap-dark {\n",
       "                    --jp-widgets-color: white;\n",
       "                    --jp-widgets-label-color: white;\n",
       "                    --jp-ui-font-color1: white;\n",
       "                    --jp-layout-color2: #454545;\n",
       "                    background-color: #383838;\n",
       "                }\n",
       "                    \n",
       "                .geemap-dark .jupyter-button {\n",
       "                    --jp-layout-color3: #383838;\n",
       "                }\n",
       "                \n",
       "                .geemap-colab {\n",
       "                    background-color: var(--colab-primary-surface-color, white);\n",
       "                }\n",
       "                    \n",
       "                .geemap-colab .jupyter-button {\n",
       "                    --jp-layout-color3: var(--colab-primary-surface-color, white);\n",
       "                }\n",
       "            </style>\n",
       "            "
      ],
      "text/plain": [
       "\u001b[1m<\u001b[0m\u001b[1;95mIPython.core.display.HTML\u001b[0m\u001b[39m object\u001b[0m\u001b[1m>\u001b[0m"
      ]
     },
     "metadata": {},
     "output_type": "display_data"
    }
   ],
   "source": [
    "L8=ee.ImageCollection(\"LANDSAT/LC08/C02/T1_L2\").map(mask_l8_clouds).map(apply_scale_factors).filterBounds(geemap.geopandas_to_ee(CRW)).map(CharClip).select('ST_B10').filter(ee.Filter.calendarRange(6, 8, 'month'))"
   ]
  },
  {
   "cell_type": "code",
   "execution_count": 153,
   "metadata": {},
   "outputs": [
    {
     "data": {
      "text/html": [
       "<pre style=\"white-space:pre;overflow-x:auto;line-height:normal;font-family:Menlo,'DejaVu Sans Mono',consolas,'Courier New',monospace\"></pre>\n"
      ],
      "text/plain": []
     },
     "metadata": {},
     "output_type": "display_data"
    },
    {
     "data": {
      "text/html": [
       "\n",
       "            <style>\n",
       "                .geemap-dark {\n",
       "                    --jp-widgets-color: white;\n",
       "                    --jp-widgets-label-color: white;\n",
       "                    --jp-ui-font-color1: white;\n",
       "                    --jp-layout-color2: #454545;\n",
       "                    background-color: #383838;\n",
       "                }\n",
       "                    \n",
       "                .geemap-dark .jupyter-button {\n",
       "                    --jp-layout-color3: #383838;\n",
       "                }\n",
       "                \n",
       "                .geemap-colab {\n",
       "                    background-color: var(--colab-primary-surface-color, white);\n",
       "                }\n",
       "                    \n",
       "                .geemap-colab .jupyter-button {\n",
       "                    --jp-layout-color3: var(--colab-primary-surface-color, white);\n",
       "                }\n",
       "            </style>\n",
       "            "
      ],
      "text/plain": [
       "\u001b[1m<\u001b[0m\u001b[1;95mIPython.core.display.HTML\u001b[0m\u001b[39m object\u001b[0m\u001b[1m>\u001b[0m"
      ]
     },
     "metadata": {},
     "output_type": "display_data"
    },
    {
     "data": {
      "text/html": [
       "<pre style=\"white-space:pre;overflow-x:auto;line-height:normal;font-family:Menlo,'DejaVu Sans Mono',consolas,'Courier New',monospace\"></pre>\n"
      ],
      "text/plain": []
     },
     "metadata": {},
     "output_type": "display_data"
    },
    {
     "data": {
      "text/html": [
       "<iframe srcdoc=\"&lt;!DOCTYPE html&gt;\n",
       "&lt;html&gt;\n",
       "&lt;head&gt;\n",
       "    \n",
       "    &lt;meta http-equiv=&quot;content-type&quot; content=&quot;text/html; charset=UTF-8&quot; /&gt;\n",
       "    \n",
       "        &lt;script&gt;\n",
       "            L_NO_TOUCH = false;\n",
       "            L_DISABLE_3D = false;\n",
       "        &lt;/script&gt;\n",
       "    \n",
       "    &lt;style&gt;html, body {width: 100%;height: 100%;margin: 0;padding: 0;}&lt;/style&gt;\n",
       "    &lt;style&gt;#map {position:absolute;top:0;bottom:0;right:0;left:0;}&lt;/style&gt;\n",
       "    &lt;script src=&quot;https://cdn.jsdelivr.net/npm/leaflet@1.9.3/dist/leaflet.js&quot;&gt;&lt;/script&gt;\n",
       "    &lt;script src=&quot;https://code.jquery.com/jquery-3.7.1.min.js&quot;&gt;&lt;/script&gt;\n",
       "    &lt;script src=&quot;https://cdn.jsdelivr.net/npm/bootstrap@5.2.2/dist/js/bootstrap.bundle.min.js&quot;&gt;&lt;/script&gt;\n",
       "    &lt;script src=&quot;https://cdnjs.cloudflare.com/ajax/libs/Leaflet.awesome-markers/2.0.2/leaflet.awesome-markers.js&quot;&gt;&lt;/script&gt;\n",
       "    &lt;link rel=&quot;stylesheet&quot; href=&quot;https://cdn.jsdelivr.net/npm/leaflet@1.9.3/dist/leaflet.css&quot;/&gt;\n",
       "    &lt;link rel=&quot;stylesheet&quot; href=&quot;https://cdn.jsdelivr.net/npm/bootstrap@5.2.2/dist/css/bootstrap.min.css&quot;/&gt;\n",
       "    &lt;link rel=&quot;stylesheet&quot; href=&quot;https://netdna.bootstrapcdn.com/bootstrap/3.0.0/css/bootstrap.min.css&quot;/&gt;\n",
       "    &lt;link rel=&quot;stylesheet&quot; href=&quot;https://cdn.jsdelivr.net/npm/@fortawesome/fontawesome-free@6.2.0/css/all.min.css&quot;/&gt;\n",
       "    &lt;link rel=&quot;stylesheet&quot; href=&quot;https://cdnjs.cloudflare.com/ajax/libs/Leaflet.awesome-markers/2.0.2/leaflet.awesome-markers.css&quot;/&gt;\n",
       "    &lt;link rel=&quot;stylesheet&quot; href=&quot;https://cdn.jsdelivr.net/gh/python-visualization/folium/folium/templates/leaflet.awesome.rotate.min.css&quot;/&gt;\n",
       "    \n",
       "            &lt;meta name=&quot;viewport&quot; content=&quot;width=device-width,\n",
       "                initial-scale=1.0, maximum-scale=1.0, user-scalable=no&quot; /&gt;\n",
       "            &lt;style&gt;\n",
       "                #map_f542c204cd03a1b42550dcc104010bd1 {\n",
       "                    position: relative;\n",
       "                    width: 100.0%;\n",
       "                    height: 100.0%;\n",
       "                    left: 0.0%;\n",
       "                    top: 0.0%;\n",
       "                }\n",
       "                .leaflet-container { font-size: 1rem; }\n",
       "            &lt;/style&gt;\n",
       "        \n",
       "    &lt;script src=&quot;https://cdn.jsdelivr.net/npm/leaflet.fullscreen@3.0.0/Control.FullScreen.min.js&quot;&gt;&lt;/script&gt;\n",
       "    &lt;link rel=&quot;stylesheet&quot; href=&quot;https://cdn.jsdelivr.net/npm/leaflet.fullscreen@3.0.0/Control.FullScreen.css&quot;/&gt;\n",
       "    &lt;script src=&quot;https://cdnjs.cloudflare.com/ajax/libs/leaflet.draw/1.0.2/leaflet.draw.js&quot;&gt;&lt;/script&gt;\n",
       "    &lt;link rel=&quot;stylesheet&quot; href=&quot;https://cdnjs.cloudflare.com/ajax/libs/leaflet.draw/1.0.2/leaflet.draw.css&quot;/&gt;\n",
       "    &lt;script src=&quot;https://unpkg.com/leaflet-control-geocoder/dist/Control.Geocoder.js&quot;&gt;&lt;/script&gt;\n",
       "    &lt;link rel=&quot;stylesheet&quot; href=&quot;https://unpkg.com/leaflet-control-geocoder/dist/Control.Geocoder.css&quot;/&gt;\n",
       "&lt;/head&gt;\n",
       "&lt;body&gt;\n",
       "    \n",
       "    \n",
       "            &lt;div class=&quot;folium-map&quot; id=&quot;map_f542c204cd03a1b42550dcc104010bd1&quot; &gt;&lt;/div&gt;\n",
       "        \n",
       "&lt;/body&gt;\n",
       "&lt;script&gt;\n",
       "    \n",
       "    \n",
       "            var map_f542c204cd03a1b42550dcc104010bd1 = L.map(\n",
       "                &quot;map_f542c204cd03a1b42550dcc104010bd1&quot;,\n",
       "                {\n",
       "                    center: [20.0, 0.0],\n",
       "                    crs: L.CRS.EPSG3857,\n",
       "                    zoom: 2,\n",
       "                    zoomControl: true,\n",
       "                    preferCanvas: false,\n",
       "                    eeInitialize: true,\n",
       "                    addGoogleMap: false,\n",
       "                    pluginLatlngpopup: false,\n",
       "                    pluginFullscreen: true,\n",
       "                    pluginDraw: true,\n",
       "                    DrawExport: false,\n",
       "                    pluginMinimap: false,\n",
       "                    locateControl: false,\n",
       "                    searchControl: true,\n",
       "                    layersControl: true,\n",
       "                }\n",
       "            );\n",
       "\n",
       "            \n",
       "\n",
       "        \n",
       "    \n",
       "            var tile_layer_d9f412e0132cbb7e8dc60cdc0b1a5de6 = L.tileLayer(\n",
       "                &quot;https://tile.openstreetmap.org/{z}/{x}/{y}.png&quot;,\n",
       "                {&quot;attribution&quot;: &quot;\\u0026copy; \\u003ca href=\\&quot;https://www.openstreetmap.org/copyright\\&quot;\\u003eOpenStreetMap\\u003c/a\\u003e contributors&quot;, &quot;detectRetina&quot;: false, &quot;maxNativeZoom&quot;: 19, &quot;maxZoom&quot;: 19, &quot;minZoom&quot;: 0, &quot;noWrap&quot;: false, &quot;opacity&quot;: 1, &quot;subdomains&quot;: &quot;abc&quot;, &quot;tms&quot;: false}\n",
       "            );\n",
       "        \n",
       "    \n",
       "            tile_layer_d9f412e0132cbb7e8dc60cdc0b1a5de6.addTo(map_f542c204cd03a1b42550dcc104010bd1);\n",
       "        \n",
       "    \n",
       "            L.control.fullscreen(\n",
       "                {&quot;forceSeparateButton&quot;: false, &quot;position&quot;: &quot;topleft&quot;, &quot;title&quot;: &quot;Full Screen&quot;, &quot;titleCancel&quot;: &quot;Exit Full Screen&quot;}\n",
       "            ).addTo(map_f542c204cd03a1b42550dcc104010bd1);\n",
       "        \n",
       "    \n",
       "            var options = {\n",
       "              position: &quot;topleft&quot;,\n",
       "              draw: {},\n",
       "              edit: {},\n",
       "            }\n",
       "            // FeatureGroup is to store editable layers.\n",
       "            var drawnItems_draw_control_4a7262c548e93849d0d025009e8ee66c = new L.featureGroup().addTo(\n",
       "                map_f542c204cd03a1b42550dcc104010bd1\n",
       "            );\n",
       "            options.edit.featureGroup = drawnItems_draw_control_4a7262c548e93849d0d025009e8ee66c;\n",
       "            var draw_control_4a7262c548e93849d0d025009e8ee66c = new L.Control.Draw(\n",
       "                options\n",
       "            ).addTo( map_f542c204cd03a1b42550dcc104010bd1 );\n",
       "            map_f542c204cd03a1b42550dcc104010bd1.on(L.Draw.Event.CREATED, function(e) {\n",
       "                var layer = e.layer,\n",
       "                    type = e.layerType;\n",
       "                var coords = JSON.stringify(layer.toGeoJSON());\n",
       "                layer.on(&#x27;click&#x27;, function() {\n",
       "                    alert(coords);\n",
       "                    console.log(coords);\n",
       "                });\n",
       "                drawnItems_draw_control_4a7262c548e93849d0d025009e8ee66c.addLayer(layer);\n",
       "             });\n",
       "            map_f542c204cd03a1b42550dcc104010bd1.on(&#x27;draw:created&#x27;, function(e) {\n",
       "                drawnItems_draw_control_4a7262c548e93849d0d025009e8ee66c.addLayer(e.layer);\n",
       "            });\n",
       "            \n",
       "        \n",
       "    \n",
       "            L.Control.geocoder(\n",
       "                {&quot;collapsed&quot;: true, &quot;defaultMarkGeocode&quot;: true, &quot;position&quot;: &quot;topleft&quot;}\n",
       "            ).on(&#x27;markgeocode&#x27;, function(e) {\n",
       "                map_f542c204cd03a1b42550dcc104010bd1.setView(e.geocode.center, 11);\n",
       "            }).addTo(map_f542c204cd03a1b42550dcc104010bd1);\n",
       "\n",
       "        \n",
       "    \n",
       "            map_f542c204cd03a1b42550dcc104010bd1.fitBounds(\n",
       "                [[20, 0], [20, 0]],\n",
       "                {&quot;maxZoom&quot;: 2}\n",
       "            );\n",
       "        \n",
       "    \n",
       "            map_f542c204cd03a1b42550dcc104010bd1.fitBounds(\n",
       "                [[42, -71], [42, -71]],\n",
       "                {&quot;maxZoom&quot;: 10}\n",
       "            );\n",
       "        \n",
       "    \n",
       "            var tile_layer_cd52fb40775d4fe50159931c49209c90 = L.tileLayer(\n",
       "                &quot;https://earthengine.googleapis.com/v1/projects/ee-cefisher20/maps/352594133ff5ce06f94371d452a71d25-4af9da817378b7f14f049b69ac1705cd/tiles/{z}/{x}/{y}&quot;,\n",
       "                {&quot;attribution&quot;: &quot;Google Earth Engine&quot;, &quot;detectRetina&quot;: false, &quot;maxNativeZoom&quot;: 24, &quot;maxZoom&quot;: 24, &quot;minZoom&quot;: 0, &quot;noWrap&quot;: false, &quot;opacity&quot;: 1.0, &quot;subdomains&quot;: &quot;abc&quot;, &quot;tms&quot;: false}\n",
       "            );\n",
       "        \n",
       "    \n",
       "            tile_layer_cd52fb40775d4fe50159931c49209c90.addTo(map_f542c204cd03a1b42550dcc104010bd1);\n",
       "        \n",
       "    \n",
       "            var layer_control_1cda0dc51c29f06fa324304fdb422096_layers = {\n",
       "                base_layers : {\n",
       "                    &quot;openstreetmap&quot; : tile_layer_d9f412e0132cbb7e8dc60cdc0b1a5de6,\n",
       "                },\n",
       "                overlays :  {\n",
       "                    &quot;Layer untitled&quot; : tile_layer_cd52fb40775d4fe50159931c49209c90,\n",
       "                },\n",
       "            };\n",
       "            let layer_control_1cda0dc51c29f06fa324304fdb422096 = L.control.layers(\n",
       "                layer_control_1cda0dc51c29f06fa324304fdb422096_layers.base_layers,\n",
       "                layer_control_1cda0dc51c29f06fa324304fdb422096_layers.overlays,\n",
       "                {&quot;autoZIndex&quot;: true, &quot;collapsed&quot;: true, &quot;position&quot;: &quot;topright&quot;}\n",
       "            ).addTo(map_f542c204cd03a1b42550dcc104010bd1);\n",
       "\n",
       "        \n",
       "&lt;/script&gt;\n",
       "&lt;/html&gt;\" width=\"100%\" height=\"600\"style=\"border:none !important;\" \"allowfullscreen\" \"webkitallowfullscreen\" \"mozallowfullscreen\"></iframe>"
      ],
      "text/plain": [
       "\u001b[1m<\u001b[0m\u001b[1;95mgeemap.foliumap.Map\u001b[0m\u001b[39m object at \u001b[0m\u001b[1;36m0x0000023B9DEACC10\u001b[0m\u001b[1m>\u001b[0m"
      ]
     },
     "execution_count": 153,
     "metadata": {},
     "output_type": "execute_result"
    }
   ],
   "source": [
    "year='2016'\n",
    "img=L8.filterDate(year+'-01-01',year+'-12-31').mean().reproject(crs='EPSG:26986',scale=30)\n",
    "m=geemapf.Map()\n",
    "m.set_center(-71,42,10)\n",
    "m.add_layer(img,vis_params={'palette':'Oranges'})\n",
    "m"
   ]
  },
  {
   "cell_type": "code",
   "execution_count": 168,
   "metadata": {},
   "outputs": [
    {
     "data": {
      "text/html": [
       "<pre style=\"white-space:pre;overflow-x:auto;line-height:normal;font-family:Menlo,'DejaVu Sans Mono',consolas,'Courier New',monospace\"></pre>\n"
      ],
      "text/plain": []
     },
     "metadata": {},
     "output_type": "display_data"
    },
    {
     "data": {
      "text/html": [
       "\n",
       "            <style>\n",
       "                .geemap-dark {\n",
       "                    --jp-widgets-color: white;\n",
       "                    --jp-widgets-label-color: white;\n",
       "                    --jp-ui-font-color1: white;\n",
       "                    --jp-layout-color2: #454545;\n",
       "                    background-color: #383838;\n",
       "                }\n",
       "                    \n",
       "                .geemap-dark .jupyter-button {\n",
       "                    --jp-layout-color3: #383838;\n",
       "                }\n",
       "                \n",
       "                .geemap-colab {\n",
       "                    background-color: var(--colab-primary-surface-color, white);\n",
       "                }\n",
       "                    \n",
       "                .geemap-colab .jupyter-button {\n",
       "                    --jp-layout-color3: var(--colab-primary-surface-color, white);\n",
       "                }\n",
       "            </style>\n",
       "            "
      ],
      "text/plain": [
       "\u001b[1m<\u001b[0m\u001b[1;95mIPython.core.display.HTML\u001b[0m\u001b[39m object\u001b[0m\u001b[1m>\u001b[0m"
      ]
     },
     "metadata": {},
     "output_type": "display_data"
    },
    {
     "name": "stdout",
     "output_type": "stream",
     "text": [
      "Generating URL ...\n",
      "Downloading data from https://earthengine.googleapis.com/v1/projects/ee-cefisher20/thumbnails/f338ce37a423b752623a43bd46fda80a-2dc7cc53b523ea6f629f92af56907697:getPixels\n",
      "Please wait ...\n",
      "Data downloaded to C:\\Users\\Chad\\Desktop\\CRWA Project\\Working_Data\\JulyLST2019_2023.tif\n"
     ]
    }
   ],
   "source": [
    "img=L8.filterDate('2019-01-01','2023-12-31').mean().reproject(crs='EPSG:26986',scale=30)\n",
    "geemap.ee_export_image(img,filename='../../Working_Data/JulyLST2019_2023.tif', region=geemap.geopandas_to_ee(CRW).geometry(), file_per_band=False)"
   ]
  },
  {
   "cell_type": "code",
   "execution_count": 154,
   "metadata": {},
   "outputs": [
    {
     "data": {
      "text/html": [
       "<pre style=\"white-space:pre;overflow-x:auto;line-height:normal;font-family:Menlo,'DejaVu Sans Mono',consolas,'Courier New',monospace\"></pre>\n"
      ],
      "text/plain": []
     },
     "metadata": {},
     "output_type": "display_data"
    },
    {
     "data": {
      "text/html": [
       "\n",
       "            <style>\n",
       "                .geemap-dark {\n",
       "                    --jp-widgets-color: white;\n",
       "                    --jp-widgets-label-color: white;\n",
       "                    --jp-ui-font-color1: white;\n",
       "                    --jp-layout-color2: #454545;\n",
       "                    background-color: #383838;\n",
       "                }\n",
       "                    \n",
       "                .geemap-dark .jupyter-button {\n",
       "                    --jp-layout-color3: #383838;\n",
       "                }\n",
       "                \n",
       "                .geemap-colab {\n",
       "                    background-color: var(--colab-primary-surface-color, white);\n",
       "                }\n",
       "                    \n",
       "                .geemap-colab .jupyter-button {\n",
       "                    --jp-layout-color3: var(--colab-primary-surface-color, white);\n",
       "                }\n",
       "            </style>\n",
       "            "
      ],
      "text/plain": [
       "\u001b[1m<\u001b[0m\u001b[1;95mIPython.core.display.HTML\u001b[0m\u001b[39m object\u001b[0m\u001b[1m>\u001b[0m"
      ]
     },
     "metadata": {},
     "output_type": "display_data"
    },
    {
     "name": "stdout",
     "output_type": "stream",
     "text": [
      "Generating URL ...\n",
      "Downloading data from https://earthengine.googleapis.com/v1/projects/ee-cefisher20/thumbnails/4446270b89ceb2ab7365b27f1d1600d4-c38bfccaaf2ca048e332e71dbe47c465:getPixels\n",
      "Please wait ...\n",
      "Data downloaded to C:\\Users\\Chad\\Desktop\\CRWA Project\\Working_Data\\JulyLST2014.tif\n",
      "Generating URL ...\n",
      "Downloading data from https://earthengine.googleapis.com/v1/projects/ee-cefisher20/thumbnails/4c18054ae8feb17549400887ff4b02ed-6ee9ab0c8d5db5f28b2b7bfee23a065b:getPixels\n",
      "Please wait ...\n",
      "Data downloaded to C:\\Users\\Chad\\Desktop\\CRWA Project\\Working_Data\\JulyLST2015.tif\n",
      "Generating URL ...\n",
      "Downloading data from https://earthengine.googleapis.com/v1/projects/ee-cefisher20/thumbnails/5d07a9c94b1db0876f55f00621f542ac-23b37af2ba20e6c128e6efcc2fd8d9e1:getPixels\n",
      "Please wait ...\n",
      "Data downloaded to C:\\Users\\Chad\\Desktop\\CRWA Project\\Working_Data\\JulyLST2016.tif\n",
      "Generating URL ...\n",
      "Downloading data from https://earthengine.googleapis.com/v1/projects/ee-cefisher20/thumbnails/dfbaa55ea7e2ced955592cee05b3cad0-d4fb52b909b688584cc6b38c0df17ae4:getPixels\n",
      "Please wait ...\n",
      "Data downloaded to C:\\Users\\Chad\\Desktop\\CRWA Project\\Working_Data\\JulyLST2017.tif\n",
      "Generating URL ...\n",
      "Downloading data from https://earthengine.googleapis.com/v1/projects/ee-cefisher20/thumbnails/ad24ed55c0095c1d5461035396c54284-80b67a3448b7a87c576ded1bcf159064:getPixels\n",
      "Please wait ...\n",
      "Data downloaded to C:\\Users\\Chad\\Desktop\\CRWA Project\\Working_Data\\JulyLST2018.tif\n",
      "Generating URL ...\n",
      "Downloading data from https://earthengine.googleapis.com/v1/projects/ee-cefisher20/thumbnails/8aa015c29e3e45fd42902be8bafda4ef-0ea8a21a70c2d6ae46b5c6f329efc34b:getPixels\n",
      "Please wait ...\n",
      "Data downloaded to C:\\Users\\Chad\\Desktop\\CRWA Project\\Working_Data\\JulyLST2019.tif\n",
      "Generating URL ...\n",
      "Downloading data from https://earthengine.googleapis.com/v1/projects/ee-cefisher20/thumbnails/22dcd439a31ea3fdc444ba433675db61-522a55220175365fbbbb3a70d28eef28:getPixels\n",
      "Please wait ...\n",
      "Data downloaded to C:\\Users\\Chad\\Desktop\\CRWA Project\\Working_Data\\JulyLST2020.tif\n",
      "Generating URL ...\n",
      "Downloading data from https://earthengine.googleapis.com/v1/projects/ee-cefisher20/thumbnails/b3ae75bfd6945f307547eb775966e25b-bb1d02a3024383d7be93b277b4dda508:getPixels\n",
      "Please wait ...\n",
      "Data downloaded to C:\\Users\\Chad\\Desktop\\CRWA Project\\Working_Data\\JulyLST2021.tif\n",
      "Generating URL ...\n",
      "Downloading data from https://earthengine.googleapis.com/v1/projects/ee-cefisher20/thumbnails/128f41c3028eba728fa2992c62ae2fdf-56938f91c31439452a2e7d9daa7c9f12:getPixels\n",
      "Please wait ...\n",
      "Data downloaded to C:\\Users\\Chad\\Desktop\\CRWA Project\\Working_Data\\JulyLST2022.tif\n",
      "Generating URL ...\n",
      "Downloading data from https://earthengine.googleapis.com/v1/projects/ee-cefisher20/thumbnails/16b388a214a03db95cea4e6c2d13d374-143258724957d9af541f7c17a4653e8c:getPixels\n",
      "Please wait ...\n",
      "Data downloaded to C:\\Users\\Chad\\Desktop\\CRWA Project\\Working_Data\\JulyLST2023.tif\n"
     ]
    }
   ],
   "source": [
    "for year in ['2014','2015','2016','2017','2018','2019','2020','2021','2022','2023']:\n",
    "    img=L8.filterDate(year+'-01-01',year+'-12-31').mean().reproject(crs='EPSG:26986',scale=30)\n",
    "    geemap.ee_export_image(img,filename='../../Working_Data/JulyLST'+year+'.tif', region=geemap.geopandas_to_ee(CRW).geometry(), file_per_band=False)"
   ]
  },
  {
   "cell_type": "code",
   "execution_count": 222,
   "metadata": {},
   "outputs": [
    {
     "data": {
      "text/html": [
       "<pre style=\"white-space:pre;overflow-x:auto;line-height:normal;font-family:Menlo,'DejaVu Sans Mono',consolas,'Courier New',monospace\"></pre>\n"
      ],
      "text/plain": []
     },
     "metadata": {},
     "output_type": "display_data"
    },
    {
     "data": {
      "text/html": [
       "\n",
       "            <style>\n",
       "                .geemap-dark {\n",
       "                    --jp-widgets-color: white;\n",
       "                    --jp-widgets-label-color: white;\n",
       "                    --jp-ui-font-color1: white;\n",
       "                    --jp-layout-color2: #454545;\n",
       "                    background-color: #383838;\n",
       "                }\n",
       "                    \n",
       "                .geemap-dark .jupyter-button {\n",
       "                    --jp-layout-color3: #383838;\n",
       "                }\n",
       "                \n",
       "                .geemap-colab {\n",
       "                    background-color: var(--colab-primary-surface-color, white);\n",
       "                }\n",
       "                    \n",
       "                .geemap-colab .jupyter-button {\n",
       "                    --jp-layout-color3: var(--colab-primary-surface-color, white);\n",
       "                }\n",
       "            </style>\n",
       "            "
      ],
      "text/plain": [
       "\u001b[1m<\u001b[0m\u001b[1;95mIPython.core.display.HTML\u001b[0m\u001b[39m object\u001b[0m\u001b[1m>\u001b[0m"
      ]
     },
     "metadata": {},
     "output_type": "display_data"
    }
   ],
   "source": [
    "Kelvin_2023,trans=mask(rio.open(\"../../Working_Data/JulyLST2019_2023.tif\"),CRW.to_crs(epsg=26986).geometry,crop=True,filled=False)\n",
    "plot_extent = rio.plot.plotting_extent(rio.open('../../Working_Data/JulyLST2023.tif'))\n",
    "heat_2023=((Kelvin_2023 - 273.15) * 1.8) + 32"
   ]
  },
  {
   "cell_type": "code",
   "execution_count": 232,
   "metadata": {},
   "outputs": [
    {
     "data": {
      "text/html": [
       "<pre style=\"white-space:pre;overflow-x:auto;line-height:normal;font-family:Menlo,'DejaVu Sans Mono',consolas,'Courier New',monospace\"></pre>\n"
      ],
      "text/plain": []
     },
     "metadata": {},
     "output_type": "display_data"
    },
    {
     "data": {
      "text/html": [
       "\n",
       "            <style>\n",
       "                .geemap-dark {\n",
       "                    --jp-widgets-color: white;\n",
       "                    --jp-widgets-label-color: white;\n",
       "                    --jp-ui-font-color1: white;\n",
       "                    --jp-layout-color2: #454545;\n",
       "                    background-color: #383838;\n",
       "                }\n",
       "                    \n",
       "                .geemap-dark .jupyter-button {\n",
       "                    --jp-layout-color3: #383838;\n",
       "                }\n",
       "                \n",
       "                .geemap-colab {\n",
       "                    background-color: var(--colab-primary-surface-color, white);\n",
       "                }\n",
       "                    \n",
       "                .geemap-colab .jupyter-button {\n",
       "                    --jp-layout-color3: var(--colab-primary-surface-color, white);\n",
       "                }\n",
       "            </style>\n",
       "            "
      ],
      "text/plain": [
       "\u001b[1m<\u001b[0m\u001b[1;95mIPython.core.display.HTML\u001b[0m\u001b[39m object\u001b[0m\u001b[1m>\u001b[0m"
      ]
     },
     "metadata": {},
     "output_type": "display_data"
    },
    {
     "data": {
      "text/html": [
       "<pre style=\"white-space:pre;overflow-x:auto;line-height:normal;font-family:Menlo,'DejaVu Sans Mono',consolas,'Courier New',monospace\"></pre>\n"
      ],
      "text/plain": []
     },
     "metadata": {},
     "output_type": "display_data"
    },
    {
     "data": {
      "image/png": "[encoded data removed]",
      "text/plain": [
       "\u001b[1m<\u001b[0m\u001b[1;95mFigure\u001b[0m\u001b[39m size 64\u001b[0m\u001b[1;36m0x480\u001b[0m\u001b[39m with \u001b[0m\u001b[1;36m1\u001b[0m\u001b[39m Axes\u001b[0m\u001b[1m>\u001b[0m"
      ]
     },
     "metadata": {},
     "output_type": "display_data"
    }
   ],
   "source": [
    "trees=np.ravel(TCC2021[(heat_2023>70) & (heat_2023<200)].data)\n",
    "heat=np.ravel(heat_2023[(heat_2023>70) & (heat_2023<200)].data)\n",
    "results=scipy.stats.linregress(trees,heat)\n",
    "plt.plot(trees, heat, 'o', label='original data')\n",
    "plt.plot(trees, results.intercept + results.slope*trees, 'r', label='fitted line')\n",
    "plt.legend()\n",
    "plt.show()"
   ]
  },
  {
   "cell_type": "code",
   "execution_count": 223,
   "metadata": {},
   "outputs": [
    {
     "data": {
      "text/html": [
       "<pre style=\"white-space:pre;overflow-x:auto;line-height:normal;font-family:Menlo,'DejaVu Sans Mono',consolas,'Courier New',monospace\"></pre>\n"
      ],
      "text/plain": []
     },
     "metadata": {},
     "output_type": "display_data"
    },
    {
     "data": {
      "text/html": [
       "\n",
       "            <style>\n",
       "                .geemap-dark {\n",
       "                    --jp-widgets-color: white;\n",
       "                    --jp-widgets-label-color: white;\n",
       "                    --jp-ui-font-color1: white;\n",
       "                    --jp-layout-color2: #454545;\n",
       "                    background-color: #383838;\n",
       "                }\n",
       "                    \n",
       "                .geemap-dark .jupyter-button {\n",
       "                    --jp-layout-color3: #383838;\n",
       "                }\n",
       "                \n",
       "                .geemap-colab {\n",
       "                    background-color: var(--colab-primary-surface-color, white);\n",
       "                }\n",
       "                    \n",
       "                .geemap-colab .jupyter-button {\n",
       "                    --jp-layout-color3: var(--colab-primary-surface-color, white);\n",
       "                }\n",
       "            </style>\n",
       "            "
      ],
      "text/plain": [
       "\u001b[1m<\u001b[0m\u001b[1;95mIPython.core.display.HTML\u001b[0m\u001b[39m object\u001b[0m\u001b[1m>\u001b[0m"
      ]
     },
     "metadata": {},
     "output_type": "display_data"
    },
    {
     "data": {
      "text/html": [
       "<pre style=\"white-space:pre;overflow-x:auto;line-height:normal;font-family:Menlo,'DejaVu Sans Mono',consolas,'Courier New',monospace\"></pre>\n"
      ],
      "text/plain": []
     },
     "metadata": {},
     "output_type": "display_data"
    },
    {
     "data": {
      "image/png": "[encoded data removed]",
      "text/plain": [
       "\u001b[1m<\u001b[0m\u001b[1;95mFigure\u001b[0m\u001b[39m size 60\u001b[0m\u001b[1;36m0x800\u001b[0m\u001b[39m with \u001b[0m\u001b[1;36m2\u001b[0m\u001b[39m Axes\u001b[0m\u001b[1m>\u001b[0m"
      ]
     },
     "metadata": {},
     "output_type": "display_data"
    }
   ],
   "source": [
    "# Create subplots\n",
    "f, ax = plt.subplots(figsize=(6,8))\n",
    "f.tight_layout()\n",
    "\n",
    "# Create hidden version of raster to be used for color bar\n",
    "hidden = ax.imshow(heat_2023[0,:,:],cmap='Oranges',extent=plot_extent,alpha=1,vmin=70,vmax=140)\n",
    "\n",
    "# Add data and layers\n",
    "show(heat_2023,cmap='Oranges',ax=ax,extent=plot_extent,alpha=1,vmin=70,vmax=140)\n",
    "towns.to_crs(epsg=26986).boundary.plot(ax=ax, color='black',linewidth=0.5)\n",
    "Charles.plot(ax=ax,color='#060270',edgecolor='#060270',linewidth=0.5)\n",
    "\n",
    "# Add colorbar using hidden version of raster\n",
    "f.colorbar(hidden, cmap='Oranges',orientation='horizontal',shrink=0.7,aspect=20,pad=0.05,label='Average (2019 - 2023) Summer Afternoon \\n Land Surface Temperature (F)',format=\"%4i\")\n",
    "\n",
    "# Set properties of plot\n",
    "#ax[0].set(title='Tree Cover Change (2008 - 2021) in the Charles River Watershed')\n",
    "ax.add_artist(ScaleBar(1,location='lower right'))\n",
    "ax.set_axis_off()\n",
    "#add_north_arrow(ax=ax,scale=0.5,ylim_pos=0.95,xlim_pos=0.95,text_scaler=4, text_yT=-3)\n",
    "f.savefig('Output Maps/heat v2.png',transparent=True,dpi=300,bbox_inches='tight')"
   ]
  },
  {
   "cell_type": "markdown",
   "metadata": {},
   "source": [
    "# Combined Sewer Outflows"
   ]
  },
  {
   "cell_type": "code",
   "execution_count": null,
   "metadata": {},
   "outputs": [],
   "source": [
    "layers = fiona.listlayers('../../Raw_Data/CSO/CSO_exportApril2024.gdb')\n",
    "for layer in layers:\n",
    "    CSO = gpd.read_file('../../Raw_Data/CSO/CSO_exportApril2024.gdb',layer=layer).to_crs(epsg=26986).clip(CRW)"
   ]
  },
  {
   "cell_type": "code",
   "execution_count": null,
   "metadata": {},
   "outputs": [],
   "source": [
    "fig,ax=plt.subplots(figsize=(20,20))\n",
    "CSO.plot(ax=ax)\n",
    "cx.add_basemap(ax,source=cx.providers.CartoDB.Positron,crs='epsg:26986')\n",
    "ax.axis('off')\n",
    "fig.savefig('Output Maps/CSO all.png')"
   ]
  },
  {
   "cell_type": "markdown",
   "metadata": {
    "jp-MarkdownHeadingCollapsed": true
   },
   "source": [
    "# Open Space"
   ]
  },
  {
   "cell_type": "code",
   "execution_count": null,
   "metadata": {},
   "outputs": [],
   "source": [
    "OS = gpd.read_file('../../Raw_Data/OpenSpace/OPENSPACE_POLY.shp',driver='pyogrio').clip(CRW)"
   ]
  },
  {
   "cell_type": "markdown",
   "metadata": {
    "jp-MarkdownHeadingCollapsed": true
   },
   "source": [
    "## Level of Protection"
   ]
  },
  {
   "cell_type": "code",
   "execution_count": null,
   "metadata": {},
   "outputs": [],
   "source": [
    "LOP_recode={\n",
    "    'P': 'A',\n",
    "    'T': 'B',\n",
    "    'L': 'C',\n",
    "    'N': 'D',\n",
    "    'X': 'E'\n",
    "}\n",
    "OS['LOP_Recode']=OS['LEV_PROT'].map(LOP_recode)\n",
    "\n",
    "LOP_palette = {'A':'#238b45','B':'#74c476','C':'#c7e9c0','D':'#9B4832','E':'#6E756B'}\n",
    "LOP_cmap = mpl.colors.ListedColormap([LOP_palette[b] for b in ['A','B','C','D','E']])"
   ]
  },
  {
   "cell_type": "code",
   "execution_count": null,
   "metadata": {},
   "outputs": [],
   "source": [
    "fig,ax=plt.subplots(figsize=(6,8))\n",
    "OS.plot(ax=ax,column='LOP_Recode',legend=False,cmap=LOP_cmap,legend_kwds={'loc':'upper left'})\n",
    "leg1 = ax.get_legend()\n",
    "new_legtxt = ['In Perpetuity','Term Limited','Limited','Not Protected','Unknown']\n",
    "\n",
    "#Fixing legend entries\n",
    "#for ix,eb in enumerate(leg1.get_texts()):\n",
    "#    eb.set_text(new_legtxt[ix])\n",
    "ax.axis('off')\n",
    "\n",
    "ax.add_artist(ScaleBar(1,location='lower right'))\n",
    "towns.boundary.plot(ax=ax,color='black',linewidth=0.5)\n",
    "Charles.plot(ax=ax,color='blue',edgecolor='blue',linewidth=0.5)\n",
    "fig.savefig('Output Maps/Open Space Protection.png',transparent=True,dpi=300,bbox_inches='tight')"
   ]
  },
  {
   "cell_type": "markdown",
   "metadata": {
    "jp-MarkdownHeadingCollapsed": true
   },
   "source": [
    "## Primary Purpose"
   ]
  },
  {
   "cell_type": "code",
   "execution_count": null,
   "metadata": {},
   "outputs": [],
   "source": [
    "PP_Recode={\n",
    "    'R':'A',\n",
    "    'C':'B',\n",
    "    'B':'C',\n",
    "    'H':'D',\n",
    "    'A':'E',\n",
    "    'W':'F',\n",
    "    'F':'G',\n",
    "    'O':'H',\n",
    "    'X':'I'\n",
    "}\n",
    "OS['PP_Recode']=OS['PRIM_PURP'].map(PP_Recode)\n",
    "\n",
    "PP_palette = {'A':'#2E6C16','B':'#41BD10','C':'#3E931D','D':'#614B43','E':'#B69E40','F':'#158FB8','G':'#5DE2E7','H':'#7A7A7A','I':'#3A3A3A'}\n",
    "PP_cmap = mpl.colors.ListedColormap([PP_palette[b] for b in ['A','B','C','D','E','F','G','H','I']])"
   ]
  },
  {
   "cell_type": "code",
   "execution_count": null,
   "metadata": {},
   "outputs": [],
   "source": [
    "fig,ax=plt.subplots(figsize=(10,10))\n",
    "OS.plot(ax=ax,column='PP_Recode',legend=True,cmap=PP_cmap,legend_kwds={'loc':'upper left'})\n",
    "leg1 = ax.get_legend()\n",
    "new_legtxt = ['Recreation','Conservation','Recreation/Conservation','Historical','Agriculture','Water Supply','Flood Control','Other','Unknown']\n",
    "\n",
    "#Fixing legend entries\n",
    "for ix,eb in enumerate(leg1.get_texts()):\n",
    "    eb.set_text(new_legtxt[ix])\n",
    "ax.axis('off')\n",
    "\n",
    "towns.boundary.plot(ax=ax,color='black',linewidth=0.5)\n",
    "Charles.plot(ax=ax,color='blue',edgecolor='blue',linewidth=0.5)\n",
    "fig.savefig('Output Maps/Open Space Primary Purpose.png',transparent=True,dpi=300,bbox_inches='tight')"
   ]
  },
  {
   "cell_type": "markdown",
   "metadata": {
    "jp-MarkdownHeadingCollapsed": true
   },
   "source": [
    "## Public Access"
   ]
  },
  {
   "cell_type": "code",
   "execution_count": null,
   "metadata": {},
   "outputs": [],
   "source": [
    "PA_recode={\n",
    "    'Y':'A',\n",
    "    'L':'B',\n",
    "    'N':'C',\n",
    "    'X':'D'\n",
    "}\n",
    "OS['PA_Recode']=OS['PUB_ACCESS'].map(PA_recode)\n",
    "\n",
    "PA_palette = {'A':'mediumseagreen','B':'goldenrod','C':'indianred','D':'#696969'}\n",
    "PA_cmap = mpl.colors.ListedColormap([PA_palette[b] for b in ['A','B','C','D']])"
   ]
  },
  {
   "cell_type": "code",
   "execution_count": null,
   "metadata": {},
   "outputs": [],
   "source": [
    "fig,ax=plt.subplots(figsize=(6,8))\n",
    "OS.plot(ax=ax,column='PA_Recode',legend=True,cmap=PA_cmap,legend_kwds={'loc':'upper left'})\n",
    "leg1 = ax.get_legend()\n",
    "new_legtxt = ['Yes','Limited','No','Unknown']\n",
    "\n",
    "#Fixing legend entries\n",
    "for ix,eb in enumerate(leg1.get_texts()):\n",
    "    eb.set_text(new_legtxt[ix])\n",
    "ax.axis('off')\n",
    "\n",
    "ax.add_artist(ScaleBar(1,location='lower right'))\n",
    "towns.boundary.plot(ax=ax,color='black',linewidth=0.5)\n",
    "Charles.plot(ax=ax,color='blue',edgecolor='blue',linewidth=0.5)\n",
    "fig.savefig('Output Maps/Open Space Public Access wLegend.png',transparent=True,dpi=300,bbox_inches='tight')"
   ]
  },
  {
   "cell_type": "markdown",
   "metadata": {},
   "source": [
    "## Ownership"
   ]
  },
  {
   "cell_type": "code",
   "execution_count": null,
   "metadata": {},
   "outputs": [],
   "source": [
    "OWN_recode={\n",
    "    'F':'A',\n",
    "    'S':'B',\n",
    "    'M':'C',\n",
    "    'N':'D',\n",
    "    'P':'E',\n",
    "    'B':'F',\n",
    "    'L':'G',\n",
    "    'O':'H',\n",
    "    'X':'I'\n",
    "}\n",
    "OS['OWN_Recode']=OS['OWNER_TYPE'].map(OWN_recode)\n",
    "\n",
    "OWN_palette = {'A':'#003c30','B':'#0e726a','C':'#5bb2a8','D':'#995d13','E':'#cfa155','F':'#238b45','G':'#74c476','H':'#7b7373','I':'#281D19'}\n",
    "OWN_cmap = mpl.colors.ListedColormap([OWN_palette[b] for b in ['A','B','C','D','E','F','G','H','I']])"
   ]
  },
  {
   "cell_type": "code",
   "execution_count": null,
   "metadata": {},
   "outputs": [],
   "source": [
    "fig,ax=plt.subplots(figsize=(6,8))\n",
    "OS.clip(CRW_Middle).plot(ax=ax,column='OWN_Recode',legend=False,cmap=OWN_cmap,legend_kwds={'loc':'upper left'})\n",
    "#leg1 = ax.get_legend()\n",
    "#new_legtxt = ['Federal','State','Municipal','Private Nonprofit','Private for Profit','Public Nonprofit','Land Trust','Other','Unknown']\n",
    "\n",
    "#Fixing legend entries\n",
    "#for ix,eb in enumerate(leg1.get_texts()):\n",
    "#    eb.set_text(new_legtxt[ix])\n",
    "ax.axis('off')\n",
    "\n",
    "ax.add_artist(ScaleBar(1,location='lower right'))\n",
    "CRW_Middle.boundary.plot(ax=ax,color='black',linewidth=0.5)\n",
    "Charles.clip(CRW_Middle).plot(ax=ax,color='#060270',edgecolor='#060270',linewidth=0.5)\n",
    "fig.savefig('Output Maps/Open Space Ownership for publication.png',transparent=True,dpi=300,bbox_inches='tight')"
   ]
  },
  {
   "cell_type": "code",
   "execution_count": null,
   "metadata": {},
   "outputs": [],
   "source": [
    "fig,ax=plt.subplots(figsize=(6,8))\n",
    "OS.plot(ax=ax,column='OWN_Recode',legend=True,cmap=OWN_cmap,legend_kwds={'loc':'upper left'})\n",
    "leg1 = ax.get_legend()\n",
    "new_legtxt = ['Federal','State','Municipal','Private Nonprofit','Private for Profit','Public Nonprofit','Land Trust','Other','Unknown']\n",
    "\n",
    "#Fixing legend entries\n",
    "for ix,eb in enumerate(leg1.get_texts()):\n",
    "    eb.set_text(new_legtxt[ix])\n",
    "ax.axis('off')\n",
    "\n",
    "ax.add_artist(ScaleBar(1,location='lower right'))\n",
    "towns.boundary.plot(ax=ax,color='black',linewidth=0.5)\n",
    "Charles.plot(ax=ax,color='#060270',edgecolor='#060270',linewidth=0.5)\n",
    "fig.savefig('Output Maps/Open Space Ownership for publication.png',transparent=True,dpi=300,bbox_inches='tight')"
   ]
  },
  {
   "cell_type": "code",
   "execution_count": null,
   "metadata": {},
   "outputs": [],
   "source": [
    "# area in square meters converted to acres\n",
    "OS.dissolve('OWN_Recode')['geometry'].area*2.47105381/10000"
   ]
  },
  {
   "cell_type": "code",
   "execution_count": null,
   "metadata": {},
   "outputs": [],
   "source": [
    "(OS.dissolve('OWN_Recode')['geometry'].area*2.47105381/10000)/sum(OS.dissolve('OWN_Recode')['geometry'].area*2.47105381/10000)*100"
   ]
  },
  {
   "cell_type": "code",
   "execution_count": null,
   "metadata": {},
   "outputs": [],
   "source": [
    "OSStats=pd.DataFrame(rasterstats.zonal_stats(OS.dissolve('OWN_Recode'), \"../../Working_Data/TCC2021.tif\",stats=\"count min mean max median\"),index=OS.dissolve('OWN_Recode').index)\n",
    "OSStats['mean']*OS.dissolve('OWN_Recode')['geometry'].area*2.47105381/10000*(1/100)"
   ]
  },
  {
   "cell_type": "code",
   "execution_count": null,
   "metadata": {},
   "outputs": [],
   "source": [
    "OSStats['mean']"
   ]
  },
  {
   "cell_type": "markdown",
   "metadata": {
    "jp-MarkdownHeadingCollapsed": true
   },
   "source": [
    "## Statistics"
   ]
  },
  {
   "cell_type": "code",
   "execution_count": null,
   "metadata": {},
   "outputs": [],
   "source": [
    "LOP_zones=OS.dissolve(by='LEV_PROT')[['geometry']]\n",
    "LOP_stats=pd.DataFrame(rasterstats.zonal_stats(LOP_zones, \"../../Working_Data/TCC\"+'2008'+\".tif\",stats=\"count min mean max median\"),index=LOP_zones.index)\n",
    "for year in ['2008','2009','2010','2011','2012','2013','2014','2015','2016','2017','2018','2019','2020','2021']:\n",
    "    stats=pd.DataFrame(rasterstats.zonal_stats(LOP_zones, \"../../Working_Data/TCC\"+year+\".tif\",stats=\"count min mean max median\"),index=LOP_zones.index)\n",
    "    LOP_stats=LOP_stats.join(stats,on=LOP_zones.index,rsuffix=year)\n",
    "LOP_stats[['mean2008','mean2009','mean2010','mean2011','mean2012','mean2013','mean2014','mean2015','mean2016','mean2017','mean2018','mean2019','mean2020','mean2021']].to_csv('../../Working_Data/Canopy by Level of Protection.csv')"
   ]
  },
  {
   "cell_type": "code",
   "execution_count": null,
   "metadata": {},
   "outputs": [],
   "source": [
    "LOPData=pd.read_csv('../../Working_Data/Canopy by Level of Protection.csv')\n",
    "LOPData=pd.melt(LOPData,id_vars='LEV_PROT',var_name='Year')\n",
    "for i in LOPData.index:\n",
    "    LOPData['Year'].iloc[i]=LOPData['Year'].iloc[i][-4:]\n",
    "LOPData['LOP_Recode']=LOPData['LEV_PROT'].map(LOP_recode)\n",
    "LOPData=LOPData.sort_values(['LOP_Recode','Year'])"
   ]
  },
  {
   "cell_type": "code",
   "execution_count": null,
   "metadata": {},
   "outputs": [],
   "source": [
    "fig,ax=plt.subplots(figsize=(6,8))\n",
    "sns.lineplot(LOPData,x='Year',y='value',hue='LOP_Recode',ax=ax,legend=True,palette={'A':'#238b45','B':'#74c476','C':'#c7e9c0','D':'#9B4832','E':'#6E756B'})\n",
    "ax.set_ylabel('Canopy Coverage (%)')\n",
    "ax.set_xlabel('Year')\n",
    "\n",
    "leg1 = ax.get_legend()\n",
    "new_legtxt = ['In Perpetuity','Term Limited','Limited','Not Protected','Unknown']\n",
    "leg1.set_title('')\n",
    "plt.xticks(rotation=45)\n",
    "\n",
    "#Fixing legend entries\n",
    "for ix,eb in enumerate(leg1.get_texts()):\n",
    "    eb.set_text(new_legtxt[ix])\n",
    "\n",
    "sns.move_legend(ax, \"upper left\", bbox_to_anchor=(1, 1))\n",
    "fig.savefig('Output Maps/Canopy time series by Level of Protection.png',dpi=300,transparent=True,bbox_inches='tight')"
   ]
  },
  {
   "cell_type": "markdown",
   "metadata": {},
   "source": [
    "# Parcel Data"
   ]
  },
  {
   "cell_type": "code",
   "execution_count": 233,
   "metadata": {},
   "outputs": [
    {
     "data": {
      "text/html": [
       "<pre style=\"white-space:pre;overflow-x:auto;line-height:normal;font-family:Menlo,'DejaVu Sans Mono',consolas,'Courier New',monospace\"></pre>\n"
      ],
      "text/plain": []
     },
     "metadata": {},
     "output_type": "display_data"
    },
    {
     "data": {
      "text/html": [
       "\n",
       "            <style>\n",
       "                .geemap-dark {\n",
       "                    --jp-widgets-color: white;\n",
       "                    --jp-widgets-label-color: white;\n",
       "                    --jp-ui-font-color1: white;\n",
       "                    --jp-layout-color2: #454545;\n",
       "                    background-color: #383838;\n",
       "                }\n",
       "                    \n",
       "                .geemap-dark .jupyter-button {\n",
       "                    --jp-layout-color3: #383838;\n",
       "                }\n",
       "                \n",
       "                .geemap-colab {\n",
       "                    background-color: var(--colab-primary-surface-color, white);\n",
       "                }\n",
       "                    \n",
       "                .geemap-colab .jupyter-button {\n",
       "                    --jp-layout-color3: var(--colab-primary-surface-color, white);\n",
       "                }\n",
       "            </style>\n",
       "            "
      ],
      "text/plain": [
       "\u001b[1m<\u001b[0m\u001b[1;95mIPython.core.display.HTML\u001b[0m\u001b[39m object\u001b[0m\u001b[1m>\u001b[0m"
      ]
     },
     "metadata": {},
     "output_type": "display_data"
    }
   ],
   "source": [
    "# I clipped this in ArcGIS because was so large and had to combine east and west\n",
    "Parcels=gpd.read_file('../../Working_Data/ParcelsClipped_fromstate.shp',driver='pyogrio')"
   ]
  },
  {
   "cell_type": "code",
   "execution_count": 234,
   "metadata": {},
   "outputs": [
    {
     "data": {
      "text/html": [
       "<pre style=\"white-space:pre;overflow-x:auto;line-height:normal;font-family:Menlo,'DejaVu Sans Mono',consolas,'Courier New',monospace\"></pre>\n"
      ],
      "text/plain": []
     },
     "metadata": {},
     "output_type": "display_data"
    },
    {
     "data": {
      "text/html": [
       "\n",
       "            <style>\n",
       "                .geemap-dark {\n",
       "                    --jp-widgets-color: white;\n",
       "                    --jp-widgets-label-color: white;\n",
       "                    --jp-ui-font-color1: white;\n",
       "                    --jp-layout-color2: #454545;\n",
       "                    background-color: #383838;\n",
       "                }\n",
       "                    \n",
       "                .geemap-dark .jupyter-button {\n",
       "                    --jp-layout-color3: #383838;\n",
       "                }\n",
       "                \n",
       "                .geemap-colab {\n",
       "                    background-color: var(--colab-primary-surface-color, white);\n",
       "                }\n",
       "                    \n",
       "                .geemap-colab .jupyter-button {\n",
       "                    --jp-layout-color3: var(--colab-primary-surface-color, white);\n",
       "                }\n",
       "            </style>\n",
       "            "
      ],
      "text/plain": [
       "\u001b[1m<\u001b[0m\u001b[1;95mIPython.core.display.HTML\u001b[0m\u001b[39m object\u001b[0m\u001b[1m>\u001b[0m"
      ]
     },
     "metadata": {},
     "output_type": "display_data"
    }
   ],
   "source": [
    "codes=Parcels.USE_CODE.unique()\n",
    "codes=codes[codes != np.array(None)]\n",
    "codes.sort()\n",
    "np.savetxt(\"../../Working_Data/ParcelsUseCodes.csv\", codes,fmt='%s', delimiter=\",\")\n",
    "#https://www.mass.gov/doc/property-type-classification-codes-non-arms-length-codes-and-sales-report-spreadsheet/download"
   ]
  },
  {
   "cell_type": "code",
   "execution_count": 235,
   "metadata": {},
   "outputs": [
    {
     "data": {
      "text/html": [
       "<pre style=\"white-space:pre;overflow-x:auto;line-height:normal;font-family:Menlo,'DejaVu Sans Mono',consolas,'Courier New',monospace\"></pre>\n"
      ],
      "text/plain": []
     },
     "metadata": {},
     "output_type": "display_data"
    },
    {
     "data": {
      "text/html": [
       "\n",
       "            <style>\n",
       "                .geemap-dark {\n",
       "                    --jp-widgets-color: white;\n",
       "                    --jp-widgets-label-color: white;\n",
       "                    --jp-ui-font-color1: white;\n",
       "                    --jp-layout-color2: #454545;\n",
       "                    background-color: #383838;\n",
       "                }\n",
       "                    \n",
       "                .geemap-dark .jupyter-button {\n",
       "                    --jp-layout-color3: #383838;\n",
       "                }\n",
       "                \n",
       "                .geemap-colab {\n",
       "                    background-color: var(--colab-primary-surface-color, white);\n",
       "                }\n",
       "                    \n",
       "                .geemap-colab .jupyter-button {\n",
       "                    --jp-layout-color3: var(--colab-primary-surface-color, white);\n",
       "                }\n",
       "            </style>\n",
       "            "
      ],
      "text/plain": [
       "\u001b[1m<\u001b[0m\u001b[1;95mIPython.core.display.HTML\u001b[0m\u001b[39m object\u001b[0m\u001b[1m>\u001b[0m"
      ]
     },
     "metadata": {},
     "output_type": "display_data"
    }
   ],
   "source": [
    "public=pd.read_csv('../../Working_Data/ParcelsUseCodes_CONVERTER.csv')"
   ]
  },
  {
   "cell_type": "code",
   "execution_count": 236,
   "metadata": {},
   "outputs": [
    {
     "data": {
      "text/html": [
       "<pre style=\"white-space:pre;overflow-x:auto;line-height:normal;font-family:Menlo,'DejaVu Sans Mono',consolas,'Courier New',monospace\"></pre>\n"
      ],
      "text/plain": []
     },
     "metadata": {},
     "output_type": "display_data"
    },
    {
     "data": {
      "text/html": [
       "\n",
       "            <style>\n",
       "                .geemap-dark {\n",
       "                    --jp-widgets-color: white;\n",
       "                    --jp-widgets-label-color: white;\n",
       "                    --jp-ui-font-color1: white;\n",
       "                    --jp-layout-color2: #454545;\n",
       "                    background-color: #383838;\n",
       "                }\n",
       "                    \n",
       "                .geemap-dark .jupyter-button {\n",
       "                    --jp-layout-color3: #383838;\n",
       "                }\n",
       "                \n",
       "                .geemap-colab {\n",
       "                    background-color: var(--colab-primary-surface-color, white);\n",
       "                }\n",
       "                    \n",
       "                .geemap-colab .jupyter-button {\n",
       "                    --jp-layout-color3: var(--colab-primary-surface-color, white);\n",
       "                }\n",
       "            </style>\n",
       "            "
      ],
      "text/plain": [
       "\u001b[1m<\u001b[0m\u001b[1;95mIPython.core.display.HTML\u001b[0m\u001b[39m object\u001b[0m\u001b[1m>\u001b[0m"
      ]
     },
     "metadata": {},
     "output_type": "display_data"
    }
   ],
   "source": [
    "Parcels_wPublic=Parcels.merge(public, on='USE_CODE')"
   ]
  },
  {
   "cell_type": "code",
   "execution_count": 237,
   "metadata": {},
   "outputs": [
    {
     "data": {
      "text/html": [
       "<pre style=\"white-space:pre;overflow-x:auto;line-height:normal;font-family:Menlo,'DejaVu Sans Mono',consolas,'Courier New',monospace\"></pre>\n"
      ],
      "text/plain": []
     },
     "metadata": {},
     "output_type": "display_data"
    },
    {
     "data": {
      "text/html": [
       "\n",
       "            <style>\n",
       "                .geemap-dark {\n",
       "                    --jp-widgets-color: white;\n",
       "                    --jp-widgets-label-color: white;\n",
       "                    --jp-ui-font-color1: white;\n",
       "                    --jp-layout-color2: #454545;\n",
       "                    background-color: #383838;\n",
       "                }\n",
       "                    \n",
       "                .geemap-dark .jupyter-button {\n",
       "                    --jp-layout-color3: #383838;\n",
       "                }\n",
       "                \n",
       "                .geemap-colab {\n",
       "                    background-color: var(--colab-primary-surface-color, white);\n",
       "                }\n",
       "                    \n",
       "                .geemap-colab .jupyter-button {\n",
       "                    --jp-layout-color3: var(--colab-primary-surface-color, white);\n",
       "                }\n",
       "            </style>\n",
       "            "
      ],
      "text/plain": [
       "\u001b[1m<\u001b[0m\u001b[1;95mIPython.core.display.HTML\u001b[0m\u001b[39m object\u001b[0m\u001b[1m>\u001b[0m"
      ]
     },
     "metadata": {},
     "output_type": "display_data"
    }
   ],
   "source": [
    "bad_geos_indexes=Parcels_wPublic[~Parcels_wPublic.geometry.is_valid].index\n",
    "for i in bad_geos_indexes:\n",
    "    Parcels_wPublic.geometry[i]=shapely.validation.make_valid(Parcels_wPublic.geometry[i])"
   ]
  },
  {
   "cell_type": "code",
   "execution_count": 238,
   "metadata": {},
   "outputs": [
    {
     "data": {
      "text/html": [
       "<pre style=\"white-space:pre;overflow-x:auto;line-height:normal;font-family:Menlo,'DejaVu Sans Mono',consolas,'Courier New',monospace\"></pre>\n"
      ],
      "text/plain": []
     },
     "metadata": {},
     "output_type": "display_data"
    },
    {
     "data": {
      "text/html": [
       "\n",
       "            <style>\n",
       "                .geemap-dark {\n",
       "                    --jp-widgets-color: white;\n",
       "                    --jp-widgets-label-color: white;\n",
       "                    --jp-ui-font-color1: white;\n",
       "                    --jp-layout-color2: #454545;\n",
       "                    background-color: #383838;\n",
       "                }\n",
       "                    \n",
       "                .geemap-dark .jupyter-button {\n",
       "                    --jp-layout-color3: #383838;\n",
       "                }\n",
       "                \n",
       "                .geemap-colab {\n",
       "                    background-color: var(--colab-primary-surface-color, white);\n",
       "                }\n",
       "                    \n",
       "                .geemap-colab .jupyter-button {\n",
       "                    --jp-layout-color3: var(--colab-primary-surface-color, white);\n",
       "                }\n",
       "            </style>\n",
       "            "
      ],
      "text/plain": [
       "\u001b[1m<\u001b[0m\u001b[1;95mIPython.core.display.HTML\u001b[0m\u001b[39m object\u001b[0m\u001b[1m>\u001b[0m"
      ]
     },
     "metadata": {},
     "output_type": "display_data"
    }
   ],
   "source": [
    "Parcels_dissolved=Parcels_wPublic.dissolve('Public',as_index=False)"
   ]
  },
  {
   "cell_type": "code",
   "execution_count": 239,
   "metadata": {},
   "outputs": [
    {
     "data": {
      "text/html": [
       "<pre style=\"white-space:pre;overflow-x:auto;line-height:normal;font-family:Menlo,'DejaVu Sans Mono',consolas,'Courier New',monospace\"></pre>\n"
      ],
      "text/plain": []
     },
     "metadata": {},
     "output_type": "display_data"
    },
    {
     "data": {
      "text/html": [
       "\n",
       "            <style>\n",
       "                .geemap-dark {\n",
       "                    --jp-widgets-color: white;\n",
       "                    --jp-widgets-label-color: white;\n",
       "                    --jp-ui-font-color1: white;\n",
       "                    --jp-layout-color2: #454545;\n",
       "                    background-color: #383838;\n",
       "                }\n",
       "                    \n",
       "                .geemap-dark .jupyter-button {\n",
       "                    --jp-layout-color3: #383838;\n",
       "                }\n",
       "                \n",
       "                .geemap-colab {\n",
       "                    background-color: var(--colab-primary-surface-color, white);\n",
       "                }\n",
       "                    \n",
       "                .geemap-colab .jupyter-button {\n",
       "                    --jp-layout-color3: var(--colab-primary-surface-color, white);\n",
       "                }\n",
       "            </style>\n",
       "            "
      ],
      "text/plain": [
       "\u001b[1m<\u001b[0m\u001b[1;95mIPython.core.display.HTML\u001b[0m\u001b[39m object\u001b[0m\u001b[1m>\u001b[0m"
      ]
     },
     "metadata": {},
     "output_type": "display_data"
    },
    {
     "data": {
      "text/html": [
       "<pre style=\"white-space:pre;overflow-x:auto;line-height:normal;font-family:Menlo,'DejaVu Sans Mono',consolas,'Courier New',monospace\"></pre>\n"
      ],
      "text/plain": []
     },
     "metadata": {},
     "output_type": "display_data"
    },
    {
     "data": {
      "text/html": [
       "<div>\n",
       "<style scoped>\n",
       "    .dataframe tbody tr th:only-of-type {\n",
       "        vertical-align: middle;\n",
       "    }\n",
       "\n",
       "    .dataframe tbody tr th {\n",
       "        vertical-align: top;\n",
       "    }\n",
       "\n",
       "    .dataframe thead th {\n",
       "        text-align: right;\n",
       "    }\n",
       "</style>\n",
       "<table border=\"1\" class=\"dataframe\">\n",
       "  <thead>\n",
       "    <tr style=\"text-align: right;\">\n",
       "      <th></th>\n",
       "      <th>min</th>\n",
       "      <th>max</th>\n",
       "      <th>mean</th>\n",
       "      <th>count</th>\n",
       "      <th>median</th>\n",
       "    </tr>\n",
       "    <tr>\n",
       "      <th>Public</th>\n",
       "      <th></th>\n",
       "      <th></th>\n",
       "      <th></th>\n",
       "      <th></th>\n",
       "      <th></th>\n",
       "    </tr>\n",
       "  </thead>\n",
       "  <tbody>\n",
       "    <tr>\n",
       "      <th>R</th>\n",
       "      <td>1.0</td>\n",
       "      <td>97.0</td>\n",
       "      <td>54.301283</td>\n",
       "      <td>597288</td>\n",
       "      <td>61.0</td>\n",
       "    </tr>\n",
       "    <tr>\n",
       "      <th>U</th>\n",
       "      <td>1.0</td>\n",
       "      <td>97.0</td>\n",
       "      <td>59.638088</td>\n",
       "      <td>200955</td>\n",
       "      <td>74.0</td>\n",
       "    </tr>\n",
       "    <tr>\n",
       "      <th>X</th>\n",
       "      <td>2.0</td>\n",
       "      <td>95.0</td>\n",
       "      <td>40.010156</td>\n",
       "      <td>18610</td>\n",
       "      <td>32.0</td>\n",
       "    </tr>\n",
       "  </tbody>\n",
       "</table>\n",
       "</div>"
      ],
      "text/plain": [
       "\n",
       "        min   max       mean   count  median\n",
       "Public                                      \n",
       "R       \u001b[1;36m1.0\u001b[0m  \u001b[1;36m97.0\u001b[0m  \u001b[1;36m54.301283\u001b[0m  \u001b[1;36m597288\u001b[0m    \u001b[1;36m61.0\u001b[0m\n",
       "U       \u001b[1;36m1.0\u001b[0m  \u001b[1;36m97.0\u001b[0m  \u001b[1;36m59.638088\u001b[0m  \u001b[1;36m200955\u001b[0m    \u001b[1;36m74.0\u001b[0m\n",
       "X       \u001b[1;36m2.0\u001b[0m  \u001b[1;36m95.0\u001b[0m  \u001b[1;36m40.010156\u001b[0m   \u001b[1;36m18610\u001b[0m    \u001b[1;36m32.0\u001b[0m"
      ]
     },
     "execution_count": 239,
     "metadata": {},
     "output_type": "execute_result"
    }
   ],
   "source": [
    "ParStats=pd.DataFrame(rasterstats.zonal_stats(Parcels_dissolved, \"../../Working_Data/TCC2021.tif\",stats=\"count min mean max median\"),index=Parcels_dissolved.Public)\n",
    "ParStats"
   ]
  },
  {
   "cell_type": "code",
   "execution_count": 240,
   "metadata": {},
   "outputs": [
    {
     "data": {
      "text/html": [
       "<pre style=\"white-space:pre;overflow-x:auto;line-height:normal;font-family:Menlo,'DejaVu Sans Mono',consolas,'Courier New',monospace\"></pre>\n"
      ],
      "text/plain": []
     },
     "metadata": {},
     "output_type": "display_data"
    },
    {
     "data": {
      "text/html": [
       "\n",
       "            <style>\n",
       "                .geemap-dark {\n",
       "                    --jp-widgets-color: white;\n",
       "                    --jp-widgets-label-color: white;\n",
       "                    --jp-ui-font-color1: white;\n",
       "                    --jp-layout-color2: #454545;\n",
       "                    background-color: #383838;\n",
       "                }\n",
       "                    \n",
       "                .geemap-dark .jupyter-button {\n",
       "                    --jp-layout-color3: #383838;\n",
       "                }\n",
       "                \n",
       "                .geemap-colab {\n",
       "                    background-color: var(--colab-primary-surface-color, white);\n",
       "                }\n",
       "                    \n",
       "                .geemap-colab .jupyter-button {\n",
       "                    --jp-layout-color3: var(--colab-primary-surface-color, white);\n",
       "                }\n",
       "            </style>\n",
       "            "
      ],
      "text/plain": [
       "\u001b[1m<\u001b[0m\u001b[1;95mIPython.core.display.HTML\u001b[0m\u001b[39m object\u001b[0m\u001b[1m>\u001b[0m"
      ]
     },
     "metadata": {},
     "output_type": "display_data"
    }
   ],
   "source": [
    "my_palette = {'R':'#ecd8a5','U':'#5bb2a8','X':'#d5d5d5'}\n",
    "my_cmap10 = mpl.colors.ListedColormap([my_palette[b] for b in ['R','U','X']])"
   ]
  },
  {
   "cell_type": "code",
   "execution_count": 241,
   "metadata": {},
   "outputs": [
    {
     "data": {
      "text/html": [
       "<pre style=\"white-space:pre;overflow-x:auto;line-height:normal;font-family:Menlo,'DejaVu Sans Mono',consolas,'Courier New',monospace\"></pre>\n"
      ],
      "text/plain": []
     },
     "metadata": {},
     "output_type": "display_data"
    },
    {
     "data": {
      "text/html": [
       "\n",
       "            <style>\n",
       "                .geemap-dark {\n",
       "                    --jp-widgets-color: white;\n",
       "                    --jp-widgets-label-color: white;\n",
       "                    --jp-ui-font-color1: white;\n",
       "                    --jp-layout-color2: #454545;\n",
       "                    background-color: #383838;\n",
       "                }\n",
       "                    \n",
       "                .geemap-dark .jupyter-button {\n",
       "                    --jp-layout-color3: #383838;\n",
       "                }\n",
       "                \n",
       "                .geemap-colab {\n",
       "                    background-color: var(--colab-primary-surface-color, white);\n",
       "                }\n",
       "                    \n",
       "                .geemap-colab .jupyter-button {\n",
       "                    --jp-layout-color3: var(--colab-primary-surface-color, white);\n",
       "                }\n",
       "            </style>\n",
       "            "
      ],
      "text/plain": [
       "\u001b[1m<\u001b[0m\u001b[1;95mIPython.core.display.HTML\u001b[0m\u001b[39m object\u001b[0m\u001b[1m>\u001b[0m"
      ]
     },
     "metadata": {},
     "output_type": "display_data"
    },
    {
     "data": {
      "text/html": [
       "<pre style=\"white-space:pre;overflow-x:auto;line-height:normal;font-family:Menlo,'DejaVu Sans Mono',consolas,'Courier New',monospace\"></pre>\n"
      ],
      "text/plain": []
     },
     "metadata": {},
     "output_type": "display_data"
    },
    {
     "data": {
      "image/png": "[encoded data removed]",
      "text/plain": [
       "\u001b[1m<\u001b[0m\u001b[1;95mFigure\u001b[0m\u001b[39m size 60\u001b[0m\u001b[1;36m0x800\u001b[0m\u001b[39m with \u001b[0m\u001b[1;36m1\u001b[0m\u001b[39m Axes\u001b[0m\u001b[1m>\u001b[0m"
      ]
     },
     "metadata": {},
     "output_type": "display_data"
    }
   ],
   "source": [
    "fig,ax=plt.subplots(figsize=(6,8))\n",
    "Parcels_dissolved.plot(ax=ax,column='Public',cmap=my_cmap10,legend=True,legend_kwds={'loc':'upper left'})\n",
    "towns.to_crs(epsg=26986).boundary.plot(ax=ax, color='black',linewidth=0.5)\n",
    "#plt.title('Hydric Soil Rating')\n",
    "Charles.plot(ax=ax,color='#060270',edgecolor='#060270',linewidth=0.5)\n",
    "ax.add_artist(ScaleBar(1,location='lower right'))\n",
    "#cx.add_basemap(ax,source=cx.providers.CartoDB.Positron,crs='epsg:26986')\n",
    "leg1 = ax.get_legend()\n",
    "new_legtxt = ['Private','Public','Unknown']\n",
    "\n",
    "#Fixing legend entries\n",
    "for ix,eb in enumerate(leg1.get_texts()):\n",
    "    eb.set_text(new_legtxt[ix])\n",
    "ax.axis('off')\n",
    "#ax.text(194900,859000,'Source: SSURGO data accessed from MassGIS',fontsize=10)\n",
    "fig.savefig('Output Maps/Parcel public private for publication.png',transparent=True,dpi=300,bbox_inches='tight')"
   ]
  },
  {
   "cell_type": "code",
   "execution_count": 250,
   "metadata": {},
   "outputs": [
    {
     "data": {
      "text/html": [
       "<pre style=\"white-space:pre;overflow-x:auto;line-height:normal;font-family:Menlo,'DejaVu Sans Mono',consolas,'Courier New',monospace\"></pre>\n"
      ],
      "text/plain": []
     },
     "metadata": {},
     "output_type": "display_data"
    },
    {
     "data": {
      "text/html": [
       "\n",
       "            <style>\n",
       "                .geemap-dark {\n",
       "                    --jp-widgets-color: white;\n",
       "                    --jp-widgets-label-color: white;\n",
       "                    --jp-ui-font-color1: white;\n",
       "                    --jp-layout-color2: #454545;\n",
       "                    background-color: #383838;\n",
       "                }\n",
       "                    \n",
       "                .geemap-dark .jupyter-button {\n",
       "                    --jp-layout-color3: #383838;\n",
       "                }\n",
       "                \n",
       "                .geemap-colab {\n",
       "                    background-color: var(--colab-primary-surface-color, white);\n",
       "                }\n",
       "                    \n",
       "                .geemap-colab .jupyter-button {\n",
       "                    --jp-layout-color3: var(--colab-primary-surface-color, white);\n",
       "                }\n",
       "            </style>\n",
       "            "
      ],
      "text/plain": [
       "\u001b[1m<\u001b[0m\u001b[1;95mIPython.core.display.HTML\u001b[0m\u001b[39m object\u001b[0m\u001b[1m>\u001b[0m"
      ]
     },
     "metadata": {},
     "output_type": "display_data"
    },
    {
     "data": {
      "text/html": [
       "<pre style=\"white-space:pre;overflow-x:auto;line-height:normal;font-family:Menlo,'DejaVu Sans Mono',consolas,'Courier New',monospace\"></pre>\n"
      ],
      "text/plain": []
     },
     "metadata": {},
     "output_type": "display_data"
    },
    {
     "data": {
      "text/html": [
       "<div>\n",
       "<style scoped>\n",
       "    .dataframe tbody tr th:only-of-type {\n",
       "        vertical-align: middle;\n",
       "    }\n",
       "\n",
       "    .dataframe tbody tr th {\n",
       "        vertical-align: top;\n",
       "    }\n",
       "\n",
       "    .dataframe thead th {\n",
       "        text-align: right;\n",
       "    }\n",
       "</style>\n",
       "<table border=\"1\" class=\"dataframe\">\n",
       "  <thead>\n",
       "    <tr style=\"text-align: right;\">\n",
       "      <th></th>\n",
       "      <th>mean</th>\n",
       "    </tr>\n",
       "  </thead>\n",
       "  <tbody>\n",
       "    <tr>\n",
       "      <th>0</th>\n",
       "      <td>37.724265</td>\n",
       "    </tr>\n",
       "    <tr>\n",
       "      <th>35</th>\n",
       "      <td>19.460000</td>\n",
       "    </tr>\n",
       "    <tr>\n",
       "      <th>36</th>\n",
       "      <td>70.442857</td>\n",
       "    </tr>\n",
       "    <tr>\n",
       "      <th>1</th>\n",
       "      <td>55.615005</td>\n",
       "    </tr>\n",
       "    <tr>\n",
       "      <th>2</th>\n",
       "      <td>55.482754</td>\n",
       "    </tr>\n",
       "    <tr>\n",
       "      <th>...</th>\n",
       "      <td>...</td>\n",
       "    </tr>\n",
       "    <tr>\n",
       "      <th>91</th>\n",
       "      <td>50.333333</td>\n",
       "    </tr>\n",
       "    <tr>\n",
       "      <th>33</th>\n",
       "      <td>64.378001</td>\n",
       "    </tr>\n",
       "    <tr>\n",
       "      <th>34</th>\n",
       "      <td>60.902629</td>\n",
       "    </tr>\n",
       "    <tr>\n",
       "      <th>68</th>\n",
       "      <td>67.970044</td>\n",
       "    </tr>\n",
       "    <tr>\n",
       "      <th>92</th>\n",
       "      <td>40.475362</td>\n",
       "    </tr>\n",
       "  </tbody>\n",
       "</table>\n",
       "<p>93 rows × 1 columns</p>\n",
       "</div>"
      ],
      "text/plain": [
       "\n",
       "         mean\n",
       "\u001b[1;36m0\u001b[0m   \u001b[1;36m37.724265\u001b[0m\n",
       "\u001b[1;36m35\u001b[0m  \u001b[1;36m19.460000\u001b[0m\n",
       "\u001b[1;36m36\u001b[0m  \u001b[1;36m70.442857\u001b[0m\n",
       "\u001b[1;36m1\u001b[0m   \u001b[1;36m55.615005\u001b[0m\n",
       "\u001b[1;36m2\u001b[0m   \u001b[1;36m55.482754\u001b[0m\n",
       "..        \u001b[33m...\u001b[0m\n",
       "\u001b[1;36m91\u001b[0m  \u001b[1;36m50.333333\u001b[0m\n",
       "\u001b[1;36m33\u001b[0m  \u001b[1;36m64.378001\u001b[0m\n",
       "\u001b[1;36m34\u001b[0m  \u001b[1;36m60.902629\u001b[0m\n",
       "\u001b[1;36m68\u001b[0m  \u001b[1;36m67.970044\u001b[0m\n",
       "\u001b[1;36m92\u001b[0m  \u001b[1;36m40.475362\u001b[0m\n",
       "\n",
       "\u001b[1m[\u001b[0m\u001b[1;36m93\u001b[0m rows x \u001b[1;36m1\u001b[0m columns\u001b[1m]\u001b[0m"
      ]
     },
     "execution_count": 250,
     "metadata": {},
     "output_type": "execute_result"
    }
   ],
   "source": [
    "Parcels_towns_dissolved=Parcels_wPublic.dissolve(['Public','TOWN_ID'],as_index=False).sort_values('TOWN_ID')\n",
    "Parcels_towns_stats=pd.DataFrame(rasterstats.zonal_stats(Parcels_towns_dissolved, \"../../Working_Data/TCC2021.tif\",stats=\"mean\"),index=Parcels_towns_dissolved.index)"
   ]
  },
  {
   "cell_type": "code",
   "execution_count": 264,
   "metadata": {},
   "outputs": [
    {
     "data": {
      "text/html": [
       "<pre style=\"white-space:pre;overflow-x:auto;line-height:normal;font-family:Menlo,'DejaVu Sans Mono',consolas,'Courier New',monospace\"></pre>\n"
      ],
      "text/plain": []
     },
     "metadata": {},
     "output_type": "display_data"
    },
    {
     "data": {
      "text/html": [
       "\n",
       "            <style>\n",
       "                .geemap-dark {\n",
       "                    --jp-widgets-color: white;\n",
       "                    --jp-widgets-label-color: white;\n",
       "                    --jp-ui-font-color1: white;\n",
       "                    --jp-layout-color2: #454545;\n",
       "                    background-color: #383838;\n",
       "                }\n",
       "                    \n",
       "                .geemap-dark .jupyter-button {\n",
       "                    --jp-layout-color3: #383838;\n",
       "                }\n",
       "                \n",
       "                .geemap-colab {\n",
       "                    background-color: var(--colab-primary-surface-color, white);\n",
       "                }\n",
       "                    \n",
       "                .geemap-colab .jupyter-button {\n",
       "                    --jp-layout-color3: var(--colab-primary-surface-color, white);\n",
       "                }\n",
       "            </style>\n",
       "            "
      ],
      "text/plain": [
       "\u001b[1m<\u001b[0m\u001b[1;95mIPython.core.display.HTML\u001b[0m\u001b[39m object\u001b[0m\u001b[1m>\u001b[0m"
      ]
     },
     "metadata": {},
     "output_type": "display_data"
    },
    {
     "data": {
      "text/html": [
       "<pre style=\"white-space:pre;overflow-x:auto;line-height:normal;font-family:Menlo,'DejaVu Sans Mono',consolas,'Courier New',monospace\"></pre>\n"
      ],
      "text/plain": []
     },
     "metadata": {},
     "output_type": "display_data"
    },
    {
     "data": {
      "text/plain": [
       "\n",
       "\u001b[1;35marray\u001b[0m\u001b[1m(\u001b[0m\u001b[1m[\u001b[0m \u001b[1;36m10\u001b[0m,  \u001b[1;36m14\u001b[0m,  \u001b[1;36m25\u001b[0m,  \u001b[1;36m26\u001b[0m,  \u001b[1;36m35\u001b[0m,  \u001b[1;36m46\u001b[0m,  \u001b[1;36m49\u001b[0m,  \u001b[1;36m73\u001b[0m,  \u001b[1;36m78\u001b[0m,  \u001b[1;36m99\u001b[0m, \u001b[1;36m101\u001b[0m, \u001b[1;36m136\u001b[0m, \u001b[1;36m138\u001b[0m,\n",
       "       \u001b[1;36m139\u001b[0m, \u001b[1;36m155\u001b[0m, \u001b[1;36m157\u001b[0m, \u001b[1;36m175\u001b[0m, \u001b[1;36m177\u001b[0m, \u001b[1;36m179\u001b[0m, \u001b[1;36m185\u001b[0m, \u001b[1;36m187\u001b[0m, \u001b[1;36m198\u001b[0m, \u001b[1;36m199\u001b[0m, \u001b[1;36m207\u001b[0m, \u001b[1;36m208\u001b[0m, \u001b[1;36m269\u001b[0m,\n",
       "       \u001b[1;36m274\u001b[0m, \u001b[1;36m307\u001b[0m, \u001b[1;36m308\u001b[0m, \u001b[1;36m314\u001b[0m, \u001b[1;36m315\u001b[0m, \u001b[1;36m317\u001b[0m, \u001b[1;36m333\u001b[0m, \u001b[1;36m335\u001b[0m, \u001b[1;36m350\u001b[0m\u001b[1m]\u001b[0m, \u001b[33mdtype\u001b[0m=\u001b[35mint64\u001b[0m\u001b[1m)\u001b[0m"
      ]
     },
     "execution_count": 264,
     "metadata": {},
     "output_type": "execute_result"
    }
   ],
   "source": [
    "Parcels_statsbytown['TOWN_ID'].unique()"
   ]
  },
  {
   "cell_type": "code",
   "execution_count": 266,
   "metadata": {},
   "outputs": [
    {
     "data": {
      "text/html": [
       "<pre style=\"white-space:pre;overflow-x:auto;line-height:normal;font-family:Menlo,'DejaVu Sans Mono',consolas,'Courier New',monospace\"></pre>\n"
      ],
      "text/plain": []
     },
     "metadata": {},
     "output_type": "display_data"
    },
    {
     "data": {
      "text/html": [
       "\n",
       "            <style>\n",
       "                .geemap-dark {\n",
       "                    --jp-widgets-color: white;\n",
       "                    --jp-widgets-label-color: white;\n",
       "                    --jp-ui-font-color1: white;\n",
       "                    --jp-layout-color2: #454545;\n",
       "                    background-color: #383838;\n",
       "                }\n",
       "                    \n",
       "                .geemap-dark .jupyter-button {\n",
       "                    --jp-layout-color3: #383838;\n",
       "                }\n",
       "                \n",
       "                .geemap-colab {\n",
       "                    background-color: var(--colab-primary-surface-color, white);\n",
       "                }\n",
       "                    \n",
       "                .geemap-colab .jupyter-button {\n",
       "                    --jp-layout-color3: var(--colab-primary-surface-color, white);\n",
       "                }\n",
       "            </style>\n",
       "            "
      ],
      "text/plain": [
       "\u001b[1m<\u001b[0m\u001b[1;95mIPython.core.display.HTML\u001b[0m\u001b[39m object\u001b[0m\u001b[1m>\u001b[0m"
      ]
     },
     "metadata": {},
     "output_type": "display_data"
    }
   ],
   "source": [
    "town_dict={\n",
    "    10: 'ARLINGTON',\n",
    "    14: 'ASHLAND',  \n",
    "    25:'BELLINGHAM ',  \n",
    "    26: 'BELMONT',  \n",
    "    35:'BOSTON',  \n",
    "    46:'BROOKLINE',  \n",
    "    49: 'CAMBRIDGE',  \n",
    "    73:'DEDHAM',  \n",
    "    78: 'DOVER',  \n",
    "    99:'FOXBOROUGH', \n",
    "    101:'FRANKLIN', \n",
    "    136: 'HOLLISTON', \n",
    "    138: 'HOPEDALE',\n",
    "    139:'HOPKINTON', \n",
    "    155:'LEXINGTON', \n",
    "    157:'LINCOLN', \n",
    "    175:'MEDFIELD', \n",
    "    177:'MEDWAY', \n",
    "    179:'MENDON', \n",
    "    185:'MILFORD', \n",
    "    187:'MILLIS', \n",
    "    198:'NATICK', \n",
    "    199:'NEEDHAM', \n",
    "    207:'NEWTON', \n",
    "    208:'NORFOLK', \n",
    "    269:'SHERBORN',\n",
    "    274:'SOMERVILLE', \n",
    "    307:'WALPOLE', \n",
    "    308:'WALTHAM', \n",
    "    314:'WATERTOWN', \n",
    "    315:'WAYLAND', \n",
    "    317:'WELLESLEY', \n",
    "    333:'WESTON', \n",
    "    335:'WESTWOOD', \n",
    "    350:'WRENTHAM'\n",
    "}"
   ]
  },
  {
   "cell_type": "code",
   "execution_count": 272,
   "metadata": {},
   "outputs": [
    {
     "data": {
      "text/html": [
       "<pre style=\"white-space:pre;overflow-x:auto;line-height:normal;font-family:Menlo,'DejaVu Sans Mono',consolas,'Courier New',monospace\"></pre>\n"
      ],
      "text/plain": []
     },
     "metadata": {},
     "output_type": "display_data"
    },
    {
     "data": {
      "text/html": [
       "\n",
       "            <style>\n",
       "                .geemap-dark {\n",
       "                    --jp-widgets-color: white;\n",
       "                    --jp-widgets-label-color: white;\n",
       "                    --jp-ui-font-color1: white;\n",
       "                    --jp-layout-color2: #454545;\n",
       "                    background-color: #383838;\n",
       "                }\n",
       "                    \n",
       "                .geemap-dark .jupyter-button {\n",
       "                    --jp-layout-color3: #383838;\n",
       "                }\n",
       "                \n",
       "                .geemap-colab {\n",
       "                    background-color: var(--colab-primary-surface-color, white);\n",
       "                }\n",
       "                    \n",
       "                .geemap-colab .jupyter-button {\n",
       "                    --jp-layout-color3: var(--colab-primary-surface-color, white);\n",
       "                }\n",
       "            </style>\n",
       "            "
      ],
      "text/plain": [
       "\u001b[1m<\u001b[0m\u001b[1;95mIPython.core.display.HTML\u001b[0m\u001b[39m object\u001b[0m\u001b[1m>\u001b[0m"
      ]
     },
     "metadata": {},
     "output_type": "display_data"
    },
    {
     "data": {
      "text/html": [
       "<pre style=\"white-space:pre;overflow-x:auto;line-height:normal;font-family:Menlo,'DejaVu Sans Mono',consolas,'Courier New',monospace\"></pre>\n"
      ],
      "text/plain": []
     },
     "metadata": {},
     "output_type": "display_data"
    },
    {
     "data": {
      "image/png": "[encoded data removed]",
      "text/plain": [
       "\u001b[1m<\u001b[0m\u001b[1;95mFigure\u001b[0m\u001b[39m size 192\u001b[0m\u001b[1;36m0x2000\u001b[0m\u001b[39m with \u001b[0m\u001b[1;36m35\u001b[0m\u001b[39m Axes\u001b[0m\u001b[1m>\u001b[0m"
      ]
     },
     "metadata": {},
     "output_type": "display_data"
    }
   ],
   "source": [
    "Parcels_statsbytown=Parcels_towns_dissolved.join(Parcels_towns_stats)[['Public','TOWN_ID','mean']]\n",
    "Parcels_statsbytown=Parcels_statsbytown.replace({\"TOWN_ID\": town_dict})\n",
    "sns.catplot(\n",
    "    data=Parcels_statsbytown, x=\"mean\", y=\"Public\", col=\"TOWN_ID\",\n",
    "    kind=\"bar\", height=4, aspect=.6,col_wrap=8,hue='Public',orient='h'\n",
    ")\n",
    "plt.savefig('Output Maps/Canopy by Town (2021).png',dpi=300,transparent=True,bbox_inches='tight')"
   ]
  },
  {
   "cell_type": "code",
   "execution_count": null,
   "metadata": {},
   "outputs": [],
   "source": [
    "parcels=gpd.read_file('../../Working_Data/Parcels_Clipped.shp',driver='pyogrio')"
   ]
  },
  {
   "cell_type": "code",
   "execution_count": null,
   "metadata": {},
   "outputs": [],
   "source": [
    "parcels.columns"
   ]
  },
  {
   "cell_type": "code",
   "execution_count": null,
   "metadata": {},
   "outputs": [],
   "source": [
    "owners=parcels.owner_name\n",
    "owners"
   ]
  },
  {
   "cell_type": "code",
   "execution_count": null,
   "metadata": {},
   "outputs": [],
   "source": [
    "def parcelsearch(search):\n",
    "    return parcels[owners.str.contains(search)==True]"
   ]
  },
  {
   "cell_type": "code",
   "execution_count": null,
   "metadata": {},
   "outputs": [],
   "source": [
    "# https://www.mass.gov/info-details/find-my-electric-gas-and-water-company\n",
    "# NSTAR\n",
    "# Medical Area Total Energy? - a powerplant in Longwood\n",
    "# Alliance Energy LLC? - gas terminals\n",
    "# Southern Energy Kendall - generator in Kendall Square\n",
    "# Deveaney Energy Inc - utility in Newton\n",
    "# ANP Bellingham Energy Company - natural gas plant in Bellingham\n",
    "# Northeast Energy Assoc - generators in Bellingham"
   ]
  },
  {
   "cell_type": "code",
   "execution_count": null,
   "metadata": {},
   "outputs": [],
   "source": [
    "owners[owners.str.contains('ELECTR')==True]"
   ]
  },
  {
   "cell_type": "code",
   "execution_count": null,
   "metadata": {},
   "outputs": [],
   "source": [
    "eversource=pd.concat([parcelsearch('NSTAR E'),parcelsearch('NSTAR G'),parcels[owners=='NSTAR']]).dissolve()\n",
    "national=pd.concat([parcelsearch('MASS ELE'),parcelsearch('MASSACHUSETTS ELE')]).dissolve()\n",
    "electric=pd.concat([eversource,national]).dissolve()"
   ]
  },
  {
   "cell_type": "code",
   "execution_count": null,
   "metadata": {},
   "outputs": [],
   "source": [
    "U_stats=pd.DataFrame(rasterstats.zonal_stats(electric, \"../../Working_Data/TCC\"+'2008'+\".tif\",stats=\"count min mean max median\"),index=electric.index)\n",
    "for year in ['2008','2009','2010','2011','2012','2013','2014','2015','2016','2017','2018','2019','2020','2021']:\n",
    "    stats=pd.DataFrame(rasterstats.zonal_stats(electric, \"../../Working_Data/TCC\"+year+\".tif\",stats=\"count min mean max median\"),index=electric.index)\n",
    "    U_stats=U_stats.join(stats,on=electric.index,rsuffix=year)\n",
    "U_stats[['mean2008','mean2009','mean2010','mean2011','mean2012','mean2013','mean2014','mean2015','mean2016','mean2017','mean2018','mean2019','mean2020','mean2021']].to_csv('../../Working_Data/Canopy in electric parcels.csv')"
   ]
  },
  {
   "cell_type": "code",
   "execution_count": null,
   "metadata": {},
   "outputs": [],
   "source": [
    "O_stats=pd.DataFrame(rasterstats.zonal_stats(CRW.dissolve(), \"../../Working_Data/TCC\"+'2008'+\".tif\",stats=\"count min mean max median\"),index=CRW.dissolve().index)\n",
    "for year in ['2008','2009','2010','2011','2012','2013','2014','2015','2016','2017','2018','2019','2020','2021']:\n",
    "    stats=pd.DataFrame(rasterstats.zonal_stats(CRW.dissolve(), \"../../Working_Data/TCC\"+year+\".tif\",stats=\"count min mean max median\"),index=CRW.dissolve().index)\n",
    "    O_stats=O_stats.join(stats,on=CRW.dissolve().index,rsuffix=year)\n",
    "O_stats[['mean2008','mean2009','mean2010','mean2011','mean2012','mean2013','mean2014','mean2015','mean2016','mean2017','mean2018','mean2019','mean2020','mean2021']].to_csv('../../Working_Data/Canopy watershed.csv')"
   ]
  },
  {
   "cell_type": "code",
   "execution_count": null,
   "metadata": {},
   "outputs": [],
   "source": [
    "electric=pd.read_csv('../../Working_Data/Canopy in electric parcels.csv')\n",
    "electric=pd.melt(electric,var_name='Year')\n",
    "for i in electric.index:\n",
    "    electric['Year'].iloc[i]=electric['Year'].iloc[i][-4:]\n",
    "watershed=pd.read_csv('../../Working_Data/Canopy watershed.csv')\n",
    "watershed=pd.melt(watershed,var_name='Year')\n",
    "for i in watershed.index:\n",
    "    watershed['Year'].iloc[i]=watershed['Year'].iloc[i][-4:]"
   ]
  },
  {
   "cell_type": "code",
   "execution_count": null,
   "metadata": {},
   "outputs": [],
   "source": [
    "sns.lineplot(electric[1:],x='Year',y='value',color='yellow')\n",
    "sns.lineplot(watershed[1:],x='Year',y='value',color='blue')\n",
    "plt.show()"
   ]
  },
  {
   "cell_type": "code",
   "execution_count": null,
   "metadata": {},
   "outputs": [],
   "source": [
    "# blue=eversource\n",
    "# orange = cambridge electric\n",
    "# purple = national grid\n",
    "fig,ax=plt.subplots(figsize=(6,8))\n",
    "eversource.plot(ax=ax,color='blue')\n",
    "parcelsearch('CAMBRIDGE ELECTRIC').plot(ax=ax,color='orange')\n",
    "national.plot(ax=ax,color='purple')\n",
    "ax.axis('off')\n",
    "ax.add_artist(ScaleBar(1,location='lower right'))\n",
    "towns.boundary.plot(ax=ax,color='black',linewidth=0.5)\n",
    "fig.savefig('Output Maps/Utility Land.png',transparent=True,dpi=300, bbox_inches='tight')"
   ]
  },
  {
   "cell_type": "code",
   "execution_count": null,
   "metadata": {},
   "outputs": [],
   "source": [
    "fig,ax=plt.subplots(figsize=(6,8))\n",
    "parcelsearch('NSTAR').plot(ax=ax)\n",
    "parcelsearch('ELECTRIC').plot(ax=ax)\n",
    "ax.axis('off')\n",
    "ax.add_artist(ScaleBar(1,location='lower right'))\n",
    "towns.boundary.plot(ax=ax,color='black',linewidth=0.5)\n",
    "plt.show()"
   ]
  },
  {
   "cell_type": "code",
   "execution_count": null,
   "metadata": {},
   "outputs": [],
   "source": [
    "parcels[parcels.poly_typ!='Boston_poly'].plot(column='poly_typ',legend=True,figsize=(10,10))\n",
    "plt.savefig('Output Maps/Parcel Data.png',dpi=300,bbox_inches='tight',transparent=True)"
   ]
  },
  {
   "cell_type": "markdown",
   "metadata": {
    "jp-MarkdownHeadingCollapsed": true
   },
   "source": [
    "# Transmission Lines"
   ]
  },
  {
   "cell_type": "code",
   "execution_count": null,
   "metadata": {},
   "outputs": [],
   "source": [
    "TL=gpd.read_file('../../Raw_Data/Transmission Lines/Electric_Power_Transmission_Lines_A.shp',driver='pyogrio').to_crs(epsg=26986).clip(CRW)\n",
    "fig,ax=plt.subplots(figsize=(6,8))\n",
    "TL.plot(ax=ax,column='TYPE',legend=False,cmap='seismic',legend_kwds={'loc':'upper left'})\n",
    "towns.boundary.plot(ax=ax,color='black',linewidth=0.5)\n",
    "Charles.plot(ax=ax,color='blue',edgecolor='blue',linewidth=0.5)\n",
    "ax.axis('off')\n",
    "ax.add_artist(ScaleBar(1,location='lower right'))\n",
    "fig.savefig('Output Maps/Transmission Lines.png',dpi=300,bbox_inches='tight',transparent=True)"
   ]
  },
  {
   "cell_type": "markdown",
   "metadata": {
    "jp-MarkdownHeadingCollapsed": true
   },
   "source": [
    "# Gas Pipelines"
   ]
  },
  {
   "cell_type": "code",
   "execution_count": null,
   "metadata": {},
   "outputs": [],
   "source": [
    "gas=gpd.read_file('../../Raw_Data/Gas Lines/NaturalGas_InterIntrastate_Pipelines_US_EIA.shp',driver='pyogrio').to_crs(epsg=26986).clip(CRW)\n",
    "fig,ax=plt.subplots(figsize=(6,8))\n",
    "gas.plot(ax=ax,color='red')\n",
    "towns.boundary.plot(ax=ax,color='black',linewidth=0.5)\n",
    "Charles.plot(ax=ax,color='blue',edgecolor='blue',linewidth=0.5)\n",
    "ax.axis('off')\n",
    "ax.add_artist(ScaleBar(1,location='lower right'))\n",
    "fig.savefig('Output Maps/Gas Lines.png',dpi=300,bbox_inches='tight',transparent=True)"
   ]
  },
  {
   "cell_type": "markdown",
   "metadata": {
    "jp-MarkdownHeadingCollapsed": true
   },
   "source": [
    "# Tree Ordinances"
   ]
  },
  {
   "cell_type": "code",
   "execution_count": null,
   "metadata": {},
   "outputs": [],
   "source": [
    "Ords=Charles_Towns.sort_values(by='name')\n",
    "Ords=Ords.merge(pd.read_csv('../../Raw_Data/Tree Ordinances.csv'),left_on='name',right_on='Municipality')\n",
    "Ords.plot(column='Tree Ordinance',legend=True)"
   ]
  },
  {
   "cell_type": "markdown",
   "metadata": {
    "jp-MarkdownHeadingCollapsed": true
   },
   "source": [
    "# TNC Conservation Priority Data"
   ]
  },
  {
   "cell_type": "code",
   "execution_count": null,
   "metadata": {},
   "outputs": [],
   "source": [
    "layers = fiona.listlayers('../../Raw_Data/TNC_Cons/MA_CharlesRiver_NBS_11.07.2019.gdb')\n",
    "habitat=gpd.read_file('../../Raw_Data/TNC_Cons/MA_CharlesRiver_NBS_11.07.2019.gdb',layer='MA_CharlesRiver_Category_Habitat')\n",
    "coastal=gpd.read_file('../../Raw_Data/TNC_Cons/MA_CharlesRiver_NBS_11.07.2019.gdb',layer='MA_CharlesRiver_Category_CoastalFlood')\n",
    "inland=gpd.read_file('../../Raw_Data/TNC_Cons/MA_CharlesRiver_NBS_11.07.2019.gdb',layer='MA_CharlesRiver_Category_InlandFlood')\n",
    "water=gpd.read_file('../../Raw_Data/TNC_Cons/MA_CharlesRiver_NBS_11.07.2019.gdb',layer='MA_CharlesRiver_Category_WaterResourceProtection')\n",
    "A=gpd.read_file('../../Raw_Data/TNC_Cons/MA_CharlesRiver_NBS_11.07.2019.gdb',layer='MA_CharlesRiver_Conservation_Priorities_A')\n",
    "B=gpd.read_file('../../Raw_Data/TNC_Cons/MA_CharlesRiver_NBS_11.07.2019.gdb',layer='MA_CharlesRiver_Conservation_Priorities_B')\n",
    "C=gpd.read_file('../../Raw_Data/TNC_Cons/MA_CharlesRiver_NBS_11.07.2019.gdb',layer='MA_CharlesRiver_Conservation_Priorities_C')"
   ]
  },
  {
   "cell_type": "code",
   "execution_count": null,
   "metadata": {},
   "outputs": [],
   "source": [
    "layers"
   ]
  },
  {
   "cell_type": "code",
   "execution_count": null,
   "metadata": {},
   "outputs": [],
   "source": [
    "HP_cons_opps=gpd.read_file('../../Raw_Data/TNC_Cons/High Level Conservation Opp/High Priority Conservation Opportunities/High Priority Conservation Opportunities.shp').to_crs(epsg=26986)"
   ]
  },
  {
   "cell_type": "code",
   "execution_count": null,
   "metadata": {},
   "outputs": [],
   "source": [
    "fig,ax=plt.subplots(figsize=(6,8))\n",
    "HP_cons_opps[HP_cons_opps.Priority=='High Priority'].plot(ax=ax,color='red')\n",
    "towns.boundary.plot(ax=ax,color='black',linewidth=0.5)\n",
    "Charles.plot(ax=ax,color='blue',edgecolor='blue',linewidth=0.5)\n",
    "ax.axis('off')\n",
    "ax.add_artist(ScaleBar(1,location='lower right'))\n",
    "fig.savefig('Output Maps/High Priority Conservation Areas.png',dpi=300,transparent=True,bbox_inches='tight')"
   ]
  },
  {
   "cell_type": "code",
   "execution_count": null,
   "metadata": {},
   "outputs": [],
   "source": [
    "HP_cons_opps=HP_cons_opps.dissolve()[['geometry']]\n",
    "HPCons_stats=pd.DataFrame(rasterstats.zonal_stats(HP_cons_opps, \"../../Working_Data/TCC\"+'2021'+\".tif\",stats=\"count min mean max median\"),index=HP_cons_opps.index)\n",
    "print('Tree Canopy in HP zones: ',HPCons_stats['count'][0]*.3*HPCons_stats['mean'][0]*0.00024711,' acres')"
   ]
  },
  {
   "cell_type": "markdown",
   "metadata": {
    "id": "Brk_iHcsXlzd",
    "jp-MarkdownHeadingCollapsed": true
   },
   "source": [
    "# Land Cover Maps"
   ]
  },
  {
   "cell_type": "code",
   "execution_count": null,
   "metadata": {
    "id": "zTgesC1mXlzd",
    "outputId": "2fa59732-2450-40b2-b454-e1abdc03baac"
   },
   "outputs": [],
   "source": [
    "# Unzip CRWA files\n",
    "zipfile.ZipFile(r\"C:\\Users\\Chad\\Desktop\\CRWA Project\\Raw_Data\\Send_CR_LandCover_2021.zip\").extractall(path=\"C:/Users/Chad/Desktop/CRWA Project/Raw_Data/Send_CR_LandCover_2021/\")\n",
    "zipfile.ZipFile(r\"C:\\Users\\Chad\\Desktop\\CRWA Project\\Raw_Data\\Send_CR_LULC_2021.zip\").extractall(path=\"C:/Users/Chad/Desktop/CRWA Project/Raw_Data/Send_CR_LULC_2021/\")"
   ]
  },
  {
   "cell_type": "code",
   "execution_count": null,
   "metadata": {},
   "outputs": [],
   "source": [
    "LC2021=rio.open('../../Raw_Data/Send_CR_LandCover_2021/Send_CR_LandCover_2021/landcover_2021_charlesriver_v4a.tif').read(1)\n",
    "LULC2021=rio.open('../../Raw_Data/Send_CR_LULC_2021/Send_CR_LULC_2021/landuselandcover_2021_charlesriver_v8a.tif').read(1)"
   ]
  },
  {
   "cell_type": "code",
   "execution_count": null,
   "metadata": {},
   "outputs": [],
   "source": [
    "# Get MASSGIS data and compare to these"
   ]
  },
  {
   "cell_type": "code",
   "execution_count": null,
   "metadata": {},
   "outputs": [],
   "source": [
    "#Forest Areas\n",
    "NLCD2019lc=ee.Image('USGS/NLCD_RELEASES/2019_REL/NLCD/2019').clip(Charles).select('landcover')"
   ]
  },
  {
   "cell_type": "code",
   "execution_count": null,
   "metadata": {
    "id": "FdiKcYkWXlze",
    "outputId": "9bcae880-e47d-4791-dae0-5ad1c27906cb"
   },
   "outputs": [],
   "source": [
    "#Impervious Cover\n",
    "NLCD2019=ee.Image('USGS/NLCD_RELEASES/2019_REL/NLCD/2019').clip(Charles).select('impervious')\n",
    "map_2 = geemapf.Map(center=[42.36565, -71.10832], zoom=9,tiles=\"cartodb positron\")\n",
    "image_viz_params = {\n",
    "    'bands': ['impervious'],\n",
    "    'min': 0,\n",
    "    'max': 100,\n",
    "    'palette': 'plasma'\n",
    "}\n",
    "map_2.add_layer(NLCD2019, image_viz_params)\n",
    "map_2\n",
    "\n",
    "#NLCD data from previous years to see changes"
   ]
  },
  {
   "cell_type": "markdown",
   "metadata": {},
   "source": [
    "# Climate-driven threats to trees"
   ]
  },
  {
   "cell_type": "code",
   "execution_count": null,
   "metadata": {},
   "outputs": [],
   "source": [
    "# Changes in rainfall, flooding, riparian flooding, temperature ee.ImageCollection(\"NASA/ORNL/DAYMET_V4\")\n",
    "# Insects and pest pressure https://www.fs.usda.gov/foresthealth/applied-sciences/mapping-reporting/national-risk-maps.shtml\n",
    "# Shifting of weather data to during flowering (graph of temperature, storms over time (smaller time frame) summarized at the watershed)\n",
    "# Hemlock wooly adelgate, beech leaf disease, emerald ash borer, oak wilt\n",
    "# How does climate layer on top of the disease stuff"
   ]
  },
  {
   "cell_type": "markdown",
   "metadata": {
    "id": "Ut8VxhJQXlze"
   },
   "source": [
    "# Dams"
   ]
  },
  {
   "cell_type": "code",
   "execution_count": null,
   "metadata": {
    "id": "MoBHBNj8Xlze",
    "outputId": "2457d024-6b20-4d39-98d7-3cae1822a119"
   },
   "outputs": [],
   "source": [
    "#https://www.mass.gov/info-details/massgis-data-dams"
   ]
  },
  {
   "cell_type": "markdown",
   "metadata": {},
   "source": [
    "# EJ"
   ]
  },
  {
   "cell_type": "code",
   "execution_count": null,
   "metadata": {},
   "outputs": [],
   "source": [
    "# MASSGIS EJ pop, Census data, Redlining\n",
    "# Heat hours https://journals.plos.org/plosone/article?id=10.1371/journal.pone.0224959#pone.0224959.ref015 or https://climate-vulnerability.mapc.org/\n",
    "# NASA Appears LST monthly averages!"
   ]
  },
  {
   "cell_type": "markdown",
   "metadata": {},
   "source": [
    "# FEMA flood zones"
   ]
  },
  {
   "cell_type": "code",
   "execution_count": null,
   "metadata": {},
   "outputs": [],
   "source": [
    "# https://www.mass.gov/info-details/massgis-data-fema-national-flood-hazard-layer"
   ]
  },
  {
   "cell_type": "markdown",
   "metadata": {},
   "source": [
    "# AF TES"
   ]
  },
  {
   "cell_type": "code",
   "execution_count": null,
   "metadata": {},
   "outputs": [],
   "source": [
    "# https://www.treeequityscore.org/map#8.58/42.24/-71.4325"
   ]
  },
  {
   "cell_type": "markdown",
   "metadata": {
    "id": "dAQ0I0X1Xlze"
   },
   "source": [
    "# Towns"
   ]
  },
  {
   "cell_type": "code",
   "execution_count": null,
   "metadata": {
    "id": "SaKc2oe_Xlzf",
    "outputId": "27319006-ae6e-4679-e303-54d18df92d12"
   },
   "outputs": [],
   "source": [
    "#https://www.mass.gov/info-details/massgis-data-municipalities"
   ]
  },
  {
   "cell_type": "markdown",
   "metadata": {
    "id": "C9Aae0c5Xlzf"
   },
   "source": [
    "# Invasive Species Data Collection"
   ]
  },
  {
   "cell_type": "code",
   "execution_count": null,
   "metadata": {
    "id": "B9jUQVW2Xlzf",
    "outputId": "efa314d5-8729-4f09-8e3f-95438b371c51"
   },
   "outputs": [],
   "source": [
    "#Extract Sentinel 2 bands and indices of interest\n",
    "def extractBandsIndices(image):\n",
    "    return image.select(['B2','B3','B4','B5_10m','B6_10m','B7_10m','B8','B8A_10m','B11_10m','B12_10m',\n",
    "                         'NDVI','NBR','SAVI','RENDVI','EVI'])"
   ]
  },
  {
   "cell_type": "code",
   "execution_count": null,
   "metadata": {
    "id": "Rpxbb-dEXlzf",
    "outputId": "996c9801-8c0b-4440-ab9c-f965e9cf87f8"
   },
   "outputs": [],
   "source": [
    "#Resample Sentinel 2 bands to 10 m\n",
    "def resample10m(image):\n",
    "    proj_10m=image.select('B4').projection()\n",
    "    B5_res=image.select('B5').resample('bicubic').reproject(proj_10m).rename('B5_10m')\n",
    "    B6_res=image.select('B6').resample('bicubic').reproject(proj_10m).rename('B6_10m')\n",
    "    B7_res=image.select('B7').resample('bicubic').reproject(proj_10m).rename('B7_10m')\n",
    "    B8A_res=image.select('B8A').resample('bicubic').reproject(proj_10m).rename('B8A_10m')\n",
    "    B11_res=image.select('B11').resample('bicubic').reproject(proj_10m).rename('B11_10m')\n",
    "    B12_res=image.select('B12').resample('bicubic').reproject(proj_10m).rename('B12_10m')\n",
    "    return image.addBands([B5_res,B6_res,B7_res,B8A_res,B11_res,B12_res])"
   ]
  },
  {
   "cell_type": "code",
   "execution_count": null,
   "metadata": {
    "id": "RsT4fCb6Xlzk",
    "outputId": "811d8221-5fe2-470e-9896-540f17ec481a"
   },
   "outputs": [],
   "source": [
    "#Add 5 vegetation indices of interest\n",
    "def addIndices(image):\n",
    "    NDVI = image.normalizedDifference(['B8', 'B4']).rename('NDVI')\n",
    "    NBR = image.normalizedDifference(['B12_10m','B8']).rename('NBR')\n",
    "    SAVI = image.expression(\n",
    "        '1.5 * ((NIR - RED)) / (NIR + RED + 0.5)', {\n",
    "            'NIR' : image.select('B8'),\n",
    "            'RED' : image.select('B4'),\n",
    "        }).rename('SAVI')\n",
    "    RENDVI = image.normalizedDifference(['B6_10m','B5_10m']).rename('RENDVI')\n",
    "    EVI = image.expression(\n",
    "        '2.5 * ((NIR - RED) / (NIR + 6 * RED - 7.5 * BLUE + 1))', {\n",
    "            'NIR' : image.select('B8'),\n",
    "            'RED' : image.select('B4'),\n",
    "            'BLUE': image.select('B2')}).rename('EVI')\n",
    "    return image.addBands([NDVI,NBR,SAVI,RENDVI,EVI])"
   ]
  },
  {
   "cell_type": "code",
   "execution_count": null,
   "metadata": {
    "id": "MioYJ8luXlzk",
    "outputId": "a407a920-0ff9-4f17-a62d-5fa3861f11d0"
   },
   "outputs": [],
   "source": [
    "#Cloud mask function\n",
    "def mask_s2_clouds(image):\n",
    "    qa = image.select('QA60')\n",
    "    cloud_bit_mask = 1 << 10\n",
    "    cirrus_bit_mask = 1 << 11\n",
    "    mask = (\n",
    "        qa.bitwiseAnd(cloud_bit_mask)\n",
    "        .eq(0)\n",
    "        .And(qa.bitwiseAnd(cirrus_bit_mask).eq(0))\n",
    "    )\n",
    "    return image.updateMask(mask).divide(10000)"
   ]
  },
  {
   "cell_type": "code",
   "execution_count": null,
   "metadata": {
    "id": "YJHuW3GSXlzl",
    "outputId": "4259ecdc-66cc-4035-9ec4-3ada9a12b79c"
   },
   "outputs": [],
   "source": [
    "#Land cover mask function\n",
    "def mask_forests(image):\n",
    "    mask=(NLCD2019lc.eq(41).Or(NLCD2019lc.eq(42).Or(NLCD2019lc.eq(43))))\n",
    "    return image.updateMask(mask)"
   ]
  },
  {
   "cell_type": "code",
   "execution_count": null,
   "metadata": {
    "id": "k7dZtQQOXlzl",
    "outputId": "d7efd30e-2ad7-4c19-dda1-cfbc057e9b61"
   },
   "outputs": [],
   "source": [
    "#Pre-processing sentinel-2 data\n",
    "S2_All=ee.ImageCollection((\"COPERNICUS/S2_SR_HARMONIZED\")).map(mask_s2_clouds).filterBounds(Charles.geometry()).map(Charclip).map(resample10m).map(addIndices).map(extractBandsIndices)"
   ]
  },
  {
   "cell_type": "code",
   "execution_count": null,
   "metadata": {
    "id": "iVe7zEEJXlzl",
    "outputId": "ea879cdd-243d-417a-e137-b795dd465f49"
   },
   "outputs": [],
   "source": [
    "S2_All.size()"
   ]
  },
  {
   "cell_type": "code",
   "execution_count": null,
   "metadata": {
    "id": "ddcJDLABXlzl",
    "outputId": "18982626-49e9-4c44-c70a-7f05a23aa176"
   },
   "outputs": [],
   "source": [
    "S2_All_list=S2_All.toList(S2_All.size())"
   ]
  },
  {
   "cell_type": "code",
   "execution_count": null,
   "metadata": {
    "id": "vh9bJr8xXlzm",
    "outputId": "e48c256f-9a47-4d35-ab94-e4cd637fdef2"
   },
   "outputs": [],
   "source": [
    "#Map of first image in collection\n",
    "map_3 = geemapf.Map(center=[42.36565, -71.10832], zoom=9,tiles=\"cartodb positron\")\n",
    "map_3.add_layer(ee.Image(S2_All_list.get(1)).visualize(bands=['B4','B3','B2'],max=0.2))\n",
    "map_3"
   ]
  },
  {
   "cell_type": "code",
   "execution_count": null,
   "metadata": {
    "id": "VrxGQGbWXlzm",
    "outputId": "4959932e-6c4b-466d-ec67-8dd69585aeb4"
   },
   "outputs": [],
   "source": [
    "NDVI=S2_All.select('NDVI')"
   ]
  },
  {
   "cell_type": "code",
   "execution_count": null,
   "metadata": {
    "id": "pWfeG-K0Xlzm",
    "outputId": "5defd9c0-3592-4109-9cce-8e6df07c6d17"
   },
   "outputs": [],
   "source": [
    "NDVI_list=NDVI.toList(NDVI.size())"
   ]
  },
  {
   "cell_type": "code",
   "execution_count": null,
   "metadata": {
    "id": "ck8-aRXtXlzm",
    "outputId": "108e924e-2992-4dd0-ce49-58862ecc3898"
   },
   "outputs": [],
   "source": [
    "map_4 = geemapf.Map(center=[42.36565, -71.10832], zoom=9,tiles=\"cartodb positron\")\n",
    "map_4.add_layer(ee.Image(NDVI_list.get(1)))\n",
    "map_4"
   ]
  },
  {
   "cell_type": "markdown",
   "metadata": {
    "id": "7_1qgeCKXlzp"
   },
   "source": [
    "# Scratch workspace"
   ]
  },
  {
   "cell_type": "code",
   "execution_count": null,
   "metadata": {
    "id": "i46791X3Xlzd",
    "outputId": "b980981d-9b6c-4a4b-dcbb-a98712ca6dbe"
   },
   "outputs": [],
   "source": [
    "#Forest Areas\n",
    "NLCD2019lc=ee.Image('USGS/NLCD_RELEASES/2019_REL/NLCD/2019').clip(Charles).select('landcover')\n",
    "map_1 = geemapf.Map(center=[42.36565, -71.10832], zoom=9,tiles=\"cartodb positron\")\n",
    "map_1.add_layer(NLCD2019lc.updateMask(NLCD2019lc.eq(41)),name='Deciduous Forest',color='light green')\n",
    "map_1.add_layer(NLCD2019lc.updateMask(NLCD2019lc.eq(42)),name='Evergreen Forest',color='dark green')\n",
    "map_1.add_layer(NLCD2019lc.updateMask(NLCD2019lc.eq(43)),name='Mixed Forest',color='green')\n",
    "map_1\n",
    "\n",
    "#NLCD change maps for forest types, check out different times\n",
    "#Add boundary to map"
   ]
  },
  {
   "cell_type": "code",
   "execution_count": null,
   "metadata": {
    "colab": {
     "base_uri": "https://localhost:8080/",
     "height": 17
    },
    "id": "8jU7B3f0Xlzb",
    "outputId": "1d248ad3-9c96-4dc7-aa39-e0a9ba6087ea"
   },
   "outputs": [],
   "source": [
    "# Create HTML map of each year for the forest cover data\n",
    "for i in range(2000,2021):\n",
    "    year=i\n",
    "    image=ee.ImageCollection('MODIS/006/MOD44B').filterDate(str(i)+'-01-01',str(i+1)+'-01-01').map(Charclip)\n",
    "    image_viz_params = {\n",
    "        'bands': ['Percent_Tree_Cover'],\n",
    "        'min': 0,\n",
    "        'max': 100,\n",
    "        'palette': 'Greens'\n",
    "    }\n",
    "    map_1 = geemapf.Map(center=[42.36565, -71.10832], zoom=9,tiles=\"cartodb positron\")\n",
    "    map_1.add_layer(image, image_viz_params)\n",
    "    legend_keys=['0%','25%','50%','75%','100%']\n",
    "    map_1.add_legend('Percent_Tree_Cover',legend_keys,[\"#f7fcf5\",\"#c7e9c0\",\"#74c476\",\"#238b45\",\"#00441b\"])\n",
    "    map_1\n",
    "    map_1.save('TreeCoverMaps\\Tree Cover '+str(i)+'.html')\n",
    "\n"
   ]
  },
  {
   "cell_type": "code",
   "execution_count": null,
   "metadata": {
    "id": "sOy5yPkaT6rn"
   },
   "outputs": [],
   "source": [
    "#Extracting Charles River Watershed Boundary\n",
    "CRW_ = gpd.read_file(\"..\\Raw_Data\\watshd\\watshdp1.shp\")\n",
    "CRW = CRW_[CRW_.NAME==\"CHARLES\"]\n",
    "CRW.plot()"
   ]
  },
  {
   "cell_type": "code",
   "execution_count": null,
   "metadata": {
    "colab": {
     "base_uri": "https://localhost:8080/",
     "height": 17
    },
    "id": "_iegR70mXlzq",
    "outputId": "1ccb7fc0-94ef-4b95-9a4e-bfb10294e184"
   },
   "outputs": [],
   "source": [
    "#List of invasive species of interest\n",
    "# Japanese knotweed, Asian bittersweet, glossy buckthorn, euonymous, multiflora rose, cork tree, kudzu, porcelain berry\n",
    "# https://www.massaudubon.org/nature-wildlife/invasive-plants-in-massachusetts\n",
    "def get_obs(years,taxon_id):\n",
    "  response=pyinaturalist.v1.observations.get_observations(year=years,taxon_id=taxon_id,geo=True,page='all',place_id=2)\n",
    "  my_observations = pyinaturalist.Observation.from_json_list(response)\n",
    "  df = pd.DataFrame(\n",
    "      [\n",
    "          {\n",
    "              'latitude': o.location[0],\n",
    "              'longitude': o.location[1],\n",
    "              'date': o.observed_on.isoformat()\n",
    "          }\n",
    "          for o in my_observations\n",
    "          if o.location\n",
    "      ]\n",
    "  )\n",
    "  gdf = gpd.GeoDataFrame(\n",
    "      df, geometry=gpd.points_from_xy(df.longitude, df.latitude), crs=\"EPSG:4326\"\n",
    "  )\n",
    "  return gdf"
   ]
  },
  {
   "cell_type": "code",
   "execution_count": null,
   "metadata": {
    "colab": {
     "base_uri": "https://localhost:8080/",
     "height": 17
    },
    "id": "E2dJcQ7GknrO",
    "outputId": "e7d1243a-0c67-4796-9f48-9278977381bf"
   },
   "outputs": [],
   "source": [
    "# https://nbviewer.org/gist/perrygeo/c426355e40037c452434\n",
    "def density_heatmap(d, bins=(100,100), smoothing=1.3, cmap='jet'):\n",
    "    def getx(pt):\n",
    "        return pt.coords[0][0]\n",
    "\n",
    "    def gety(pt):\n",
    "        return pt.coords[0][1]\n",
    "\n",
    "    x = list(d.geometry.apply(getx))\n",
    "    y = list(d.geometry.apply(gety))\n",
    "    heatmap, xedges, yedges = np.histogram2d(y, x, bins=bins)\n",
    "    extent = [yedges[0], yedges[-1], xedges[-1], xedges[0]]\n",
    "\n",
    "    logheatmap = np.log(heatmap)\n",
    "    logheatmap[np.isneginf(logheatmap)] = 0\n",
    "    logheatmap = ndimage.gaussian_filter(logheatmap, smoothing, mode='nearest')\n",
    "\n",
    "    plt.imshow(logheatmap, cmap=cmap, extent=extent)\n",
    "    plt.colorbar()\n",
    "    plt.gca().invert_yaxis()\n",
    "    plt.show()"
   ]
  },
  {
   "cell_type": "code",
   "execution_count": null,
   "metadata": {
    "colab": {
     "base_uri": "https://localhost:8080/",
     "height": 54
    },
    "id": "8bpyIxlLl4QA",
    "outputId": "ad7a3ae1-0dfc-41d7-eb5a-eca4b6379132"
   },
   "outputs": [],
   "source": [
    "\n",
    "years=[2020,2021,2022,2023,2024]\n",
    "knotweed=914922\n",
    "bittersweet=64540\n",
    "buckthorn=55972\n",
    "euonymus=117433\n",
    "multiflora=78882\n",
    "corktree=166636\n",
    "porcelain=204237\n",
    "kudzu=62671\n",
    "barberry=58727\n",
    "\n",
    "knot_gdf=get_obs(years,knotweed)\n",
    "bitt_gdf=get_obs(years,bittersweet)\n",
    "buck_gdf=get_obs(years,buckthorn)\n",
    "euon_gdf=get_obs(years,euonymus)\n",
    "mult_gdf=get_obs(years,multiflora)\n",
    "cork_gdf=get_obs(years,corktree)\n",
    "porc_gdf=get_obs(years,porcelain)\n",
    "kudz_gdf=get_obs(years,kudzu)\n",
    "barb_gdf=get_obs(years,barberry)"
   ]
  },
  {
   "cell_type": "code",
   "execution_count": null,
   "metadata": {
    "colab": {
     "base_uri": "https://localhost:8080/",
     "height": 1000
    },
    "id": "p5qaBUUghPcY",
    "outputId": "c9ff5723-8f74-42aa-9247-243dd3d7993b"
   },
   "outputs": [],
   "source": [
    "d={\n",
    "  'Knotweed':knot_gdf,\n",
    "  'Bittersweet':bitt_gdf,\n",
    "  'Buckthorn':buck_gdf,\n",
    "  'Euonymus':euon_gdf,\n",
    "  'Multiflora':mult_gdf,\n",
    "  'Corktree':cork_gdf,\n",
    "  'Porcelain Berry':porc_gdf,\n",
    "  'Kudzu':kudz_gdf,\n",
    "  'Barberry':barb_gdf\n",
    "}\n",
    "for name, value in d.items():\n",
    "  ax = Charles_lower_gdf.to_crs(epsg=3857).boundary.plot(figsize=(10,10), color='blue',linewidth=0.5)\n",
    "  Charles_upper_gdf.to_crs(epsg=3857).boundary.plot(ax=ax,figsize=(10,10), color='green',linewidth=0.5)\n",
    "  value.clip(Charles_gdf).to_crs(epsg=3857).plot(ax=ax)\n",
    "  plt.title(name+\" (2020 - 2024)\")\n",
    "  cx.add_basemap(ax,source=cx.providers.CartoDB.Positron)\n",
    "  ax.set_axis_off()\n",
    "  ax.add_artist(ScaleBar(1,location='lower right'))\n",
    "  plt.savefig(name+'.png')"
   ]
  },
  {
   "cell_type": "code",
   "execution_count": null,
   "metadata": {
    "colab": {
     "base_uri": "https://localhost:8080/",
     "height": 17
    },
    "id": "s_RpMpXXXlzZ",
    "outputId": "a417ca27-c9d9-49f0-b650-e6144a585513"
   },
   "outputs": [],
   "source": [
    "#Create function to clip image to be used for clipping image collections\n",
    "def Charclip(image):\n",
    "    return image.clip(Charles)"
   ]
  },
  {
   "cell_type": "code",
   "execution_count": null,
   "metadata": {
    "colab": {
     "base_uri": "https://localhost:8080/",
     "height": 17
    },
    "id": "TFdaNCWgXlza",
    "outputId": "0492908a-50af-4059-a07e-1eee657e9099"
   },
   "outputs": [],
   "source": [
    "#Import and clip MODIS VCF data to Charles and animate\n",
    "treeData=ee.ImageCollection('MODIS/006/MOD44B').filterBounds(Charles.geometry()).select('Percent_Tree_Cover').map(Charclip)\n",
    "videoArgs = {\n",
    "  'dimensions': 768,\n",
    "  'region': Charles.geometry(),\n",
    "  'framesPerSecond': 1,\n",
    "  'crs': 'EPSG:3857',\n",
    "  'min': 0,\n",
    "  'max': 100,\n",
    "  'palette': [\"#f7fcf5\",\"#c7e9c0\",\"#74c476\",\"#238b45\",\"#00441b\"],\n",
    "  'format':'gif'\n",
    "}"
   ]
  },
  {
   "cell_type": "code",
   "execution_count": null,
   "metadata": {
    "colab": {
     "base_uri": "https://localhost:8080/",
     "height": 17
    },
    "id": "18bqDchsXlza",
    "outputId": "dfede884-aab5-4587-edfb-02f4512efa26"
   },
   "outputs": [],
   "source": [
    "#Obtain link to animation\n",
    "urllib.request.urlretrieve(treeData.getVideoThumbURL(videoArgs),'../../Working_Data/treeCoverNoLabels.gif')\n",
    "geemap.add_text_to_gif('../../Working_Data/treeCoverNoLabels.gif','treeCover.gif',text_sequence=[2000,2001,2002,2003,2004,2005,2006,2007,2008,2009,2010,2011,2012,2013,2014,2015,2016,2017,2018,2019,2020],font_color='white')"
   ]
  },
  {
   "cell_type": "code",
   "execution_count": null,
   "metadata": {
    "id": "bKuXdmLuMbdy"
   },
   "outputs": [],
   "source": []
  },
  {
   "cell_type": "code",
   "execution_count": null,
   "metadata": {
    "colab": {
     "base_uri": "https://localhost:8080/",
     "height": 68
    },
    "id": "woF5KCpIXlzY",
    "outputId": "a06269a4-e4b0-418d-c254-c643b6e3da5f"
   },
   "outputs": [],
   "source": [
    "#HUC codes from https://apps.nationalmap.gov/viewer/\n",
    "Charles=ee.FeatureCollection(\"USGS/WBD/2017/HUC10\").filter(\"huc10 == '0109000107' or huc10 == '0109000106'\")\n",
    "Charles_lower=ee.FeatureCollection(\"USGS/WBD/2017/HUC10\").filter(\"huc10 == '0109000107'\")\n",
    "Charles_upper=ee.FeatureCollection(\"USGS/WBD/2017/HUC10\").filter(\"huc10 == '0109000106'\")"
   ]
  },
  {
   "cell_type": "code",
   "execution_count": null,
   "metadata": {
    "colab": {
     "base_uri": "https://localhost:8080/",
     "height": 17
    },
    "id": "_KTPolURXlzY",
    "outputId": "eb5aecab-d991-41c9-9128-982111a17711"
   },
   "outputs": [],
   "source": [
    "#Convert earth engine feature collections to geopandas data frames\n",
    "Charles_gdf = ee.data.computeFeatures({\n",
    "    'expression': Charles,\n",
    "    'fileFormat': 'GEOPANDAS_GEODATAFRAME'\n",
    "})\n",
    "Charles_gdf.crs = 'EPSG:4326'\n",
    "\n",
    "Charles_lower_gdf = ee.data.computeFeatures({\n",
    "    'expression': Charles_lower,\n",
    "    'fileFormat': 'GEOPANDAS_GEODATAFRAME'\n",
    "})\n",
    "Charles_lower_gdf.crs = 'EPSG:4326'\n",
    "\n",
    "Charles_upper_gdf = ee.data.computeFeatures({\n",
    "    'expression': Charles_upper,\n",
    "    'fileFormat': 'GEOPANDAS_GEODATAFRAME'\n",
    "})\n",
    "Charles_upper_gdf.crs = 'EPSG:4326'"
   ]
  },
  {
   "cell_type": "code",
   "execution_count": null,
   "metadata": {
    "colab": {
     "base_uri": "https://localhost:8080/",
     "height": 829
    },
    "id": "upk8Kv4JXlzZ",
    "outputId": "5c397a27-73b8-47ff-9ca0-8a70ffe4bd36"
   },
   "outputs": [],
   "source": [
    "ax = Charles_lower_gdf.to_crs(epsg=3857).boundary.plot(figsize=(10,10), color='blue',linewidth=0.5)\n",
    "Charles_upper_gdf.to_crs(epsg=3857).boundary.plot(ax=ax,figsize=(10,10), color='green',linewidth=0.5)\n",
    "plt.title(\"Map of the Charles River Watershed\")\n",
    "cx.add_basemap(ax,source=cx.providers.CartoDB.Positron)\n",
    "ax.set_axis_off()\n",
    "ax.add_artist(ScaleBar(1,location='lower right'))\n",
    "plt.savefig(\"Charles River Watershed Overview Map.png\")"
   ]
  },
  {
   "cell_type": "code",
   "execution_count": null,
   "metadata": {
    "id": "UZgcAS3gXlzq"
   },
   "outputs": [],
   "source": [
    "# Projected climate impacts\n",
    "# USDA hardiness zones maps\n",
    "# Rainfall, drought prediction\n",
    "# Temperature projections"
   ]
  },
  {
   "cell_type": "code",
   "execution_count": null,
   "metadata": {
    "id": "fzlInpzlXlzr"
   },
   "outputs": [],
   "source": [
    "#Priority planting recommendations as areas with low canopy that already have permeable areas"
   ]
  },
  {
   "cell_type": "code",
   "execution_count": null,
   "metadata": {
    "id": "F2aw7d0GXlzr"
   },
   "outputs": [],
   "source": [
    "# American Forests tree equity score analyzer\n",
    "# Message Mushtaaq about why there are gaps in the data"
   ]
  },
  {
   "cell_type": "code",
   "execution_count": null,
   "metadata": {
    "id": "XFjRaVIgfeDc"
   },
   "outputs": [],
   "source": [
    "# South Natick Dam\n",
    "# Watertown Dam (probably not happening soon)\n",
    "# https://maps.coastalresilience.org/massachusetts/"
   ]
  },
  {
   "cell_type": "code",
   "execution_count": null,
   "metadata": {
    "colab": {
     "base_uri": "https://localhost:8080/",
     "height": 86
    },
    "id": "xz6leIotDNk7",
    "outputId": "7a9f1474-ad90-4629-f3c7-7917570f9d7a"
   },
   "outputs": [],
   "source": [
    "# Calculate and extract raster of tree cover change from 2005 to 2020 from GEE\n",
    "treeCover2005=ee.Image('MODIS/006/MOD44B/2005_03_06').clip(geemap.geopandas_to_ee(CRW)).select('Percent_Tree_Cover').reproject(crs='EPSG:3857',scale=250)\n",
    "treeCover2020=ee.Image('MODIS/006/MOD44B/2020_03_05').clip(geemap.geopandas_to_ee(CRW)).select('Percent_Tree_Cover').reproject(crs='EPSG:3857',scale=250)\n",
    "dtreeCover=treeCover2020.subtract(treeCover2005)\n",
    "dtreeCover=geemap.ee_export_image(dtreeCover, filename='../../Working_Data/dtreeCover.tif', region=geemap.geopandas_to_ee(CRW).geometry(), file_per_band=False)"
   ]
  },
  {
   "cell_type": "code",
   "execution_count": null,
   "metadata": {
    "colab": {
     "base_uri": "https://localhost:8080/",
     "height": 17
    },
    "id": "Ti4CyKtCGf04",
    "outputId": "1e03256c-2aa9-4e79-980c-1a971b667f5c"
   },
   "outputs": [],
   "source": [
    "# Mask tree cover change to watershed and obtain its plotting extent to use later for lining up vector data\n",
    "dtreeCover,trans=mask(rio.open('../../Working_Data/dtreeCover.tif'),CRW.to_crs(epsg=3857).geometry,crop=True)\n",
    "plot_extent = rio.plot.plotting_extent(rio.open('../../Working_Data/dtreeCover.tif'))"
   ]
  }
 ],
 "metadata": {
  "colab": {
   "include_colab_link": true,
   "provenance": []
  },
  "kernelspec": {
   "display_name": "Python 3 (ipykernel)",
   "language": "python",
   "name": "python3"
  },
  "language_info": {
   "codemirror_mode": {
    "name": "ipython",
    "version": 3
   },
   "file_extension": ".py",
   "mimetype": "text/x-python",
   "name": "python",
   "nbconvert_exporter": "python",
   "pygments_lexer": "ipython3",
   "version": "3.11.7"
  }
 },
 "nbformat": 4,
 "nbformat_minor": 4
}
