{
 "cells": [
  {
   "cell_type": "code",
   "execution_count": 3,
   "metadata": {},
   "outputs": [],
   "source": [
    "import pandas as pd"
   ]
  },
  {
   "cell_type": "code",
   "execution_count": 1,
   "metadata": {},
   "outputs": [
    {
     "name": "stdout",
     "output_type": "stream",
     "text": [
      "C:\\Users\\Chad\\Desktop\\CRWA Project\\Public_Survey\n",
      "C:\\Users\\Chad\\Desktop\\CRWA Project\\Public_Survey\n"
     ]
    }
   ],
   "source": [
    "cd \"C:\\Users\\Chad\\Desktop\\CRWA Project\\Public_Survey\""
   ]
  },
  {
   "cell_type": "code",
   "execution_count": 79,
   "metadata": {},
   "outputs": [],
   "source": [
    "Responses_raw=pd.read_csv('./Cleaned_Responses.csv')"
   ]
  },
  {
   "cell_type": "code",
   "execution_count": 80,
   "metadata": {},
   "outputs": [
    {
     "data": {
      "text/plain": [
       "Index(['Town', 'Out of State?', 'Neighborhood', 'Renter', 'Trees', 'Tree_Clean', 'Planting',\n",
       "       'Protection', 'Future'],\n",
       "      dtype='object')"
      ]
     },
     "execution_count": null,
     "metadata": {},
     "output_type": "execute_result"
    }
   ],
   "source": [
    "Responses_raw.columns"
   ]
  },
  {
   "cell_type": "code",
   "execution_count": 81,
   "metadata": {},
   "outputs": [
    {
     "data": {
      "text/plain": [
       "38"
      ]
     },
     "execution_count": null,
     "metadata": {},
     "output_type": "execute_result"
    }
   ],
   "source": [
    "Responses_raw.Town.unique().size"
   ]
  },
  {
   "cell_type": "code",
   "execution_count": 82,
   "metadata": {},
   "outputs": [],
   "source": [
    "Responses=Responses_raw\n",
    "Responses['TOWN']=Responses_raw.Town.str.upper()"
   ]
  },
  {
   "cell_type": "code",
   "execution_count": 83,
   "metadata": {},
   "outputs": [],
   "source": [
    "Responses=Responses[['TOWN']].dropna()"
   ]
  },
  {
   "cell_type": "code",
   "execution_count": 84,
   "metadata": {},
   "outputs": [
    {
     "data": {
      "text/html": [
       "<div>\n",
       "<style scoped>\n",
       "    .dataframe tbody tr th:only-of-type {\n",
       "        vertical-align: middle;\n",
       "    }\n",
       "\n",
       "    .dataframe tbody tr th {\n",
       "        vertical-align: top;\n",
       "    }\n",
       "\n",
       "    .dataframe thead th {\n",
       "        text-align: right;\n",
       "    }\n",
       "</style>\n",
       "<table border=\"1\" class=\"dataframe\">\n",
       "  <thead>\n",
       "    <tr style=\"text-align: right;\">\n",
       "      <th></th>\n",
       "      <th>TOWN</th>\n",
       "    </tr>\n",
       "  </thead>\n",
       "  <tbody>\n",
       "    <tr>\n",
       "      <th>0</th>\n",
       "      <td>NEWTON</td>\n",
       "    </tr>\n",
       "    <tr>\n",
       "      <th>1</th>\n",
       "      <td>BROOKLINE</td>\n",
       "    </tr>\n",
       "    <tr>\n",
       "      <th>2</th>\n",
       "      <td>BOSTON</td>\n",
       "    </tr>\n",
       "    <tr>\n",
       "      <th>3</th>\n",
       "      <td>NATICK</td>\n",
       "    </tr>\n",
       "    <tr>\n",
       "      <th>4</th>\n",
       "      <td>BOSTON</td>\n",
       "    </tr>\n",
       "    <tr>\n",
       "      <th>...</th>\n",
       "      <td>...</td>\n",
       "    </tr>\n",
       "    <tr>\n",
       "      <th>306</th>\n",
       "      <td>NEWTON</td>\n",
       "    </tr>\n",
       "    <tr>\n",
       "      <th>307</th>\n",
       "      <td>NEWTON</td>\n",
       "    </tr>\n",
       "    <tr>\n",
       "      <th>308</th>\n",
       "      <td>DOVER</td>\n",
       "    </tr>\n",
       "    <tr>\n",
       "      <th>309</th>\n",
       "      <td>NEWTON</td>\n",
       "    </tr>\n",
       "    <tr>\n",
       "      <th>310</th>\n",
       "      <td>NEEDHAM</td>\n",
       "    </tr>\n",
       "  </tbody>\n",
       "</table>\n",
       "<p>302 rows × 1 columns</p>\n",
       "</div>"
      ],
      "text/plain": [
       "          TOWN\n",
       "0       NEWTON\n",
       "1    BROOKLINE\n",
       "2       BOSTON\n",
       "3       NATICK\n",
       "4       BOSTON\n",
       "..         ...\n",
       "306     NEWTON\n",
       "307     NEWTON\n",
       "308      DOVER\n",
       "309     NEWTON\n",
       "310    NEEDHAM\n",
       "\n",
       "[302 rows x 1 columns]"
      ]
     },
     "execution_count": null,
     "metadata": {},
     "output_type": "execute_result"
    }
   ],
   "source": [
    "import numpy as np\n",
    "Responses"
   ]
  },
  {
   "cell_type": "code",
   "execution_count": 85,
   "metadata": {},
   "outputs": [
    {
     "data": {
      "text/plain": [
       "TOWN\n",
       "NEWTON         94\n",
       "BOSTON         52\n",
       "CAMBRIDGE      31\n",
       "SOMERVILLE     19\n",
       "WATERTOWN      18\n",
       "WELLESLEY      10\n",
       "WALTHAM        10\n",
       "NATICK          7\n",
       "DEDHAM          6\n",
       "NEEDHAM         5\n",
       "WESTON          5\n",
       "ROSLINDALE      4\n",
       "BROOKLINE       4\n",
       "BELMONT         4\n",
       "DOVER           4\n",
       "ARLINGTON       3\n",
       "QUINCY          2\n",
       "MEDFORD         2\n",
       "WOBURN          2\n",
       "MEDWAY          2\n",
       "MILLIS          2\n",
       "NEW BEDFORD     1\n",
       "WALPOLE         1\n",
       "NORFOLK         1\n",
       "SHERBORN        1\n",
       "GOSHEN          1\n",
       "MELROSE         1\n",
       "WESTHAMPTON     1\n",
       "BELLINGHAM      1\n",
       "WESTWOOD        1\n",
       "MALDEN          1\n",
       "DORCHESTER      1\n",
       "MARSHFIELD      1\n",
       "GLOUCESTER      1\n",
       "CHELSEA         1\n",
       "MILTON          1\n",
       "LINCOLN         1\n",
       "Name: count, dtype: int64"
      ]
     },
     "execution_count": null,
     "metadata": {},
     "output_type": "execute_result"
    }
   ],
   "source": [
    "Responses.TOWN.value_counts()"
   ]
  },
  {
   "cell_type": "code",
   "execution_count": 86,
   "metadata": {},
   "outputs": [
    {
     "data": {
      "text/plain": [
       "array([94, 52, 31, 19, 18, 10, 10,  7,  6,  5,  5,  4,  4,  4,  4,  3,  2,  2,  2,  2,  2,  1,  1,  1,\n",
       "        1,  1,  1,  1,  1,  1,  1,  1,  1,  1,  1,  1,  1], dtype=int64)"
      ]
     },
     "execution_count": null,
     "metadata": {},
     "output_type": "execute_result"
    }
   ],
   "source": [
    "Responses.TOWN.value_counts().values"
   ]
  },
  {
   "cell_type": "code",
   "execution_count": 87,
   "metadata": {},
   "outputs": [],
   "source": [
    "Counts=pd.DataFrame({'TOWN':Responses.TOWN.value_counts().index,'Count':Responses.TOWN.value_counts().values})"
   ]
  },
  {
   "cell_type": "code",
   "execution_count": 88,
   "metadata": {},
   "outputs": [
    {
     "data": {
      "text/plain": [
       "Index(['TOWN', 'Count'], dtype='object')"
      ]
     },
     "execution_count": null,
     "metadata": {},
     "output_type": "execute_result"
    }
   ],
   "source": [
    "Counts.columns"
   ]
  },
  {
   "cell_type": "code",
   "execution_count": 89,
   "metadata": {},
   "outputs": [
    {
     "data": {
      "text/html": [
       "<div>\n",
       "<style scoped>\n",
       "    .dataframe tbody tr th:only-of-type {\n",
       "        vertical-align: middle;\n",
       "    }\n",
       "\n",
       "    .dataframe tbody tr th {\n",
       "        vertical-align: top;\n",
       "    }\n",
       "\n",
       "    .dataframe thead th {\n",
       "        text-align: right;\n",
       "    }\n",
       "</style>\n",
       "<table border=\"1\" class=\"dataframe\">\n",
       "  <thead>\n",
       "    <tr style=\"text-align: right;\">\n",
       "      <th></th>\n",
       "      <th>TOWN</th>\n",
       "      <th>Count</th>\n",
       "    </tr>\n",
       "  </thead>\n",
       "  <tbody>\n",
       "    <tr>\n",
       "      <th>0</th>\n",
       "      <td>NEWTON</td>\n",
       "      <td>94</td>\n",
       "    </tr>\n",
       "    <tr>\n",
       "      <th>1</th>\n",
       "      <td>BOSTON</td>\n",
       "      <td>52</td>\n",
       "    </tr>\n",
       "    <tr>\n",
       "      <th>2</th>\n",
       "      <td>CAMBRIDGE</td>\n",
       "      <td>31</td>\n",
       "    </tr>\n",
       "    <tr>\n",
       "      <th>3</th>\n",
       "      <td>SOMERVILLE</td>\n",
       "      <td>19</td>\n",
       "    </tr>\n",
       "    <tr>\n",
       "      <th>4</th>\n",
       "      <td>WATERTOWN</td>\n",
       "      <td>18</td>\n",
       "    </tr>\n",
       "    <tr>\n",
       "      <th>5</th>\n",
       "      <td>WELLESLEY</td>\n",
       "      <td>10</td>\n",
       "    </tr>\n",
       "    <tr>\n",
       "      <th>6</th>\n",
       "      <td>WALTHAM</td>\n",
       "      <td>10</td>\n",
       "    </tr>\n",
       "    <tr>\n",
       "      <th>7</th>\n",
       "      <td>NATICK</td>\n",
       "      <td>7</td>\n",
       "    </tr>\n",
       "    <tr>\n",
       "      <th>8</th>\n",
       "      <td>DEDHAM</td>\n",
       "      <td>6</td>\n",
       "    </tr>\n",
       "    <tr>\n",
       "      <th>9</th>\n",
       "      <td>NEEDHAM</td>\n",
       "      <td>5</td>\n",
       "    </tr>\n",
       "    <tr>\n",
       "      <th>10</th>\n",
       "      <td>WESTON</td>\n",
       "      <td>5</td>\n",
       "    </tr>\n",
       "    <tr>\n",
       "      <th>11</th>\n",
       "      <td>ROSLINDALE</td>\n",
       "      <td>4</td>\n",
       "    </tr>\n",
       "    <tr>\n",
       "      <th>12</th>\n",
       "      <td>BROOKLINE</td>\n",
       "      <td>4</td>\n",
       "    </tr>\n",
       "    <tr>\n",
       "      <th>13</th>\n",
       "      <td>BELMONT</td>\n",
       "      <td>4</td>\n",
       "    </tr>\n",
       "    <tr>\n",
       "      <th>14</th>\n",
       "      <td>DOVER</td>\n",
       "      <td>4</td>\n",
       "    </tr>\n",
       "    <tr>\n",
       "      <th>15</th>\n",
       "      <td>ARLINGTON</td>\n",
       "      <td>3</td>\n",
       "    </tr>\n",
       "    <tr>\n",
       "      <th>16</th>\n",
       "      <td>QUINCY</td>\n",
       "      <td>2</td>\n",
       "    </tr>\n",
       "    <tr>\n",
       "      <th>17</th>\n",
       "      <td>MEDFORD</td>\n",
       "      <td>2</td>\n",
       "    </tr>\n",
       "    <tr>\n",
       "      <th>18</th>\n",
       "      <td>WOBURN</td>\n",
       "      <td>2</td>\n",
       "    </tr>\n",
       "    <tr>\n",
       "      <th>19</th>\n",
       "      <td>MEDWAY</td>\n",
       "      <td>2</td>\n",
       "    </tr>\n",
       "    <tr>\n",
       "      <th>20</th>\n",
       "      <td>MILLIS</td>\n",
       "      <td>2</td>\n",
       "    </tr>\n",
       "    <tr>\n",
       "      <th>21</th>\n",
       "      <td>NEW BEDFORD</td>\n",
       "      <td>1</td>\n",
       "    </tr>\n",
       "    <tr>\n",
       "      <th>22</th>\n",
       "      <td>WALPOLE</td>\n",
       "      <td>1</td>\n",
       "    </tr>\n",
       "    <tr>\n",
       "      <th>23</th>\n",
       "      <td>NORFOLK</td>\n",
       "      <td>1</td>\n",
       "    </tr>\n",
       "    <tr>\n",
       "      <th>24</th>\n",
       "      <td>SHERBORN</td>\n",
       "      <td>1</td>\n",
       "    </tr>\n",
       "    <tr>\n",
       "      <th>25</th>\n",
       "      <td>GOSHEN</td>\n",
       "      <td>1</td>\n",
       "    </tr>\n",
       "    <tr>\n",
       "      <th>26</th>\n",
       "      <td>MELROSE</td>\n",
       "      <td>1</td>\n",
       "    </tr>\n",
       "    <tr>\n",
       "      <th>27</th>\n",
       "      <td>WESTHAMPTON</td>\n",
       "      <td>1</td>\n",
       "    </tr>\n",
       "    <tr>\n",
       "      <th>28</th>\n",
       "      <td>BELLINGHAM</td>\n",
       "      <td>1</td>\n",
       "    </tr>\n",
       "    <tr>\n",
       "      <th>29</th>\n",
       "      <td>WESTWOOD</td>\n",
       "      <td>1</td>\n",
       "    </tr>\n",
       "    <tr>\n",
       "      <th>30</th>\n",
       "      <td>MALDEN</td>\n",
       "      <td>1</td>\n",
       "    </tr>\n",
       "    <tr>\n",
       "      <th>31</th>\n",
       "      <td>DORCHESTER</td>\n",
       "      <td>1</td>\n",
       "    </tr>\n",
       "    <tr>\n",
       "      <th>32</th>\n",
       "      <td>MARSHFIELD</td>\n",
       "      <td>1</td>\n",
       "    </tr>\n",
       "    <tr>\n",
       "      <th>33</th>\n",
       "      <td>GLOUCESTER</td>\n",
       "      <td>1</td>\n",
       "    </tr>\n",
       "    <tr>\n",
       "      <th>34</th>\n",
       "      <td>CHELSEA</td>\n",
       "      <td>1</td>\n",
       "    </tr>\n",
       "    <tr>\n",
       "      <th>35</th>\n",
       "      <td>MILTON</td>\n",
       "      <td>1</td>\n",
       "    </tr>\n",
       "    <tr>\n",
       "      <th>36</th>\n",
       "      <td>LINCOLN</td>\n",
       "      <td>1</td>\n",
       "    </tr>\n",
       "  </tbody>\n",
       "</table>\n",
       "</div>"
      ],
      "text/plain": [
       "           TOWN  Count\n",
       "0        NEWTON     94\n",
       "1        BOSTON     52\n",
       "2     CAMBRIDGE     31\n",
       "3    SOMERVILLE     19\n",
       "4     WATERTOWN     18\n",
       "5     WELLESLEY     10\n",
       "6       WALTHAM     10\n",
       "7        NATICK      7\n",
       "8        DEDHAM      6\n",
       "9       NEEDHAM      5\n",
       "10       WESTON      5\n",
       "11   ROSLINDALE      4\n",
       "12    BROOKLINE      4\n",
       "13      BELMONT      4\n",
       "14        DOVER      4\n",
       "15    ARLINGTON      3\n",
       "16       QUINCY      2\n",
       "17      MEDFORD      2\n",
       "18       WOBURN      2\n",
       "19       MEDWAY      2\n",
       "20       MILLIS      2\n",
       "21  NEW BEDFORD      1\n",
       "22      WALPOLE      1\n",
       "23      NORFOLK      1\n",
       "24     SHERBORN      1\n",
       "25       GOSHEN      1\n",
       "26      MELROSE      1\n",
       "27  WESTHAMPTON      1\n",
       "28   BELLINGHAM      1\n",
       "29     WESTWOOD      1\n",
       "30       MALDEN      1\n",
       "31   DORCHESTER      1\n",
       "32   MARSHFIELD      1\n",
       "33   GLOUCESTER      1\n",
       "34      CHELSEA      1\n",
       "35       MILTON      1\n",
       "36      LINCOLN      1"
      ]
     },
     "execution_count": null,
     "metadata": {},
     "output_type": "execute_result"
    }
   ],
   "source": [
    "Counts"
   ]
  },
  {
   "cell_type": "code",
   "execution_count": 90,
   "metadata": {},
   "outputs": [],
   "source": [
    "import geopandas as gpd"
   ]
  },
  {
   "cell_type": "code",
   "execution_count": 91,
   "metadata": {},
   "outputs": [],
   "source": [
    "Towns=gpd.read_file('https://s3.us-east-1.amazonaws.com/download.massgis.digital.mass.gov/shapefiles/state/townssurvey_shp.zip',layer='TOWNSSURVEY_POLYM')"
   ]
  },
  {
   "cell_type": "code",
   "execution_count": 92,
   "metadata": {},
   "outputs": [
    {
     "data": {
      "text/plain": [
       "Index(['TOWN', 'TOWN_ID', 'TYPE', 'COUNTY', 'FIPS_STCO', 'FOURCOLOR', 'POP1960', 'POP1970', 'POP1980',\n",
       "       'POP1990', 'POP2000', 'POP2010', 'POP2020', 'POPCH10_20', 'AREA_ACRES', 'AREA_SQMI',\n",
       "       'SHAPE_Leng', 'SHAPE_Area', 'geometry'],\n",
       "      dtype='object')"
      ]
     },
     "execution_count": null,
     "metadata": {},
     "output_type": "execute_result"
    }
   ],
   "source": [
    "Towns.columns"
   ]
  },
  {
   "cell_type": "code",
   "execution_count": 93,
   "metadata": {},
   "outputs": [
    {
     "data": {
      "text/plain": [
       "0            TOLLAND\n",
       "1             CANTON\n",
       "2            MASHPEE\n",
       "3          LYNNFIELD\n",
       "4         BARNSTABLE\n",
       "           ...      \n",
       "346        STOUGHTON\n",
       "347          CHATHAM\n",
       "348    WEST BOYLSTON\n",
       "349          HINGHAM\n",
       "350        BLANDFORD\n",
       "Name: TOWN, Length: 351, dtype: object"
      ]
     },
     "execution_count": null,
     "metadata": {},
     "output_type": "execute_result"
    }
   ],
   "source": [
    "Towns.TOWN"
   ]
  },
  {
   "cell_type": "code",
   "execution_count": 94,
   "metadata": {},
   "outputs": [],
   "source": [
    "Towns_wResponses=Towns.merge(Counts,on='TOWN')"
   ]
  },
  {
   "cell_type": "code",
   "execution_count": 95,
   "metadata": {},
   "outputs": [],
   "source": [
    "Towns_wResponses=Towns_wResponses[['TOWN','geometry','Count']]"
   ]
  },
  {
   "cell_type": "code",
   "execution_count": 96,
   "metadata": {},
   "outputs": [],
   "source": [
    "CRW=gpd.read_file(r\"C:\\Users\\Chad\\Desktop\\CRWA Project\\Raw_Data\\CRW_Boundary\\CRW_Boundary\\CRW_Boundary.shp\")\n",
    "Tribs=gpd.read_file('../Raw_Data/Rivers/Tributaries.shp')\n",
    "CHARLES=Tribs[Tribs.SARISNAME=='CHARLES RIVER']\n",
    "rivers=gpd.read_file('../Raw_Data/Hydro/HYDRO25K_POLY.shp').clip(CRW)\n",
    "Charles=rivers[rivers['NAME']=='Charles River'].to_crs(epsg=26986)\n",
    "rivers_arc=gpd.read_file('../Raw_Data/Hydro/HYDRO25K_ARC.shp').clip(CRW)"
   ]
  },
  {
   "cell_type": "code",
   "execution_count": 97,
   "metadata": {},
   "outputs": [
    {
     "name": "stderr",
     "output_type": "stream",
     "text": [
      "C:\\Users\\Chad\\AppData\\Roaming\\Python\\Python311\\site-packages\\sklearn\\cluster\\_kmeans.py:1446: UserWarning: KMeans is known to have a memory leak on Windows with MKL, when there are less chunks than available threads. You can avoid it by setting the environment variable OMP_NUM_THREADS=1.\n",
      "  warnings.warn(\n"
     ]
    },
    {
     "data": {
      "image/png": "[encoded data removed]",
      "text/plain": [
       "<Figure size 600x800 with 1 Axes>"
      ]
     },
     "metadata": {},
     "output_type": "display_data"
    }
   ],
   "source": [
    "import matplotlib.pyplot as plt\n",
    "fig,ax=plt.subplots(figsize=(6,8))\n",
    "Towns_wResponses.plot(ax=ax,column='Count',legend=True,scheme=\"natural_breaks\",k=4,cmap='summer_r',legend_kwds={'loc':'lower left','title':'Number of Responses'})\n",
    "Towns.boundary.plot(ax=ax,color='gray',linewidth=0.1)\n",
    "gpd.read_file(r\"C:\\Users\\Chad\\Desktop\\CRWA Project\\Raw_Data\\CRW_Boundary\\CRW_Boundary\\CRW_Boundary.shp\").boundary.plot(ax=ax,color='blue',linewidth=0.2)\n",
    "Charles.plot(ax=ax,color='#060270',edgecolor='#060270',linewidth=0.25)\n",
    "CHARLES.to_crs(epsg=26986).plot(ax=ax,color='#060270',linewidth=0.4)\n",
    "ax.axis('off')\n",
    "fig.savefig('Towns with Responses.png',transparent=False,dpi=300,bbox_inches='tight')"
   ]
  },
  {
   "cell_type": "code",
   "execution_count": 98,
   "metadata": {},
   "outputs": [
    {
     "data": {
      "text/plain": [
       "Renter\n",
       "Owner                   242\n",
       "Renter                   57\n",
       "Prefer not to answer      9\n",
       "Name: count, dtype: int64"
      ]
     },
     "execution_count": null,
     "metadata": {},
     "output_type": "execute_result"
    }
   ],
   "source": [
    "Responses_raw.Renter.value_counts()"
   ]
  },
  {
   "cell_type": "code",
   "execution_count": 99,
   "metadata": {},
   "outputs": [],
   "source": [
    "labels=['Owner','Renter','No Response']\n",
    "sizes=Responses_raw.Renter.value_counts().values\n",
    "sizes=sizes/Responses_raw.Renter.unique().size\n",
    "sizes[2]=100.0-sizes[1]-sizes[0]"
   ]
  },
  {
   "cell_type": "code",
   "execution_count": 100,
   "metadata": {},
   "outputs": [
    {
     "data": {
      "image/png": "[encoded data removed]",
      "text/plain": [
       "<Figure size 640x480 with 1 Axes>"
      ]
     },
     "metadata": {},
     "output_type": "display_data"
    }
   ],
   "source": [
    "plt.pie(sizes,labels=labels,autopct='%1.2f%%',\n",
    "        colors=['lightsteelblue', 'cadetblue', 'gray'])\n",
    "plt.savefig('Ownership status.png',dpi=300,bbox_inches='tight')"
   ]
  },
  {
   "cell_type": "code",
   "execution_count": 102,
   "metadata": {},
   "outputs": [
    {
     "data": {
      "text/plain": [
       "Tree_Clean\n",
       "No                               228\n",
       "Yes                               47\n",
       "Somewhat                          25\n",
       "Other                              6\n",
       "For me yes, but not elsewhere      5\n",
       "Name: count, dtype: int64"
      ]
     },
     "execution_count": null,
     "metadata": {},
     "output_type": "execute_result"
    }
   ],
   "source": [
    "Responses_raw.Tree_Clean.value_counts()"
   ]
  },
  {
   "cell_type": "code",
   "execution_count": 103,
   "metadata": {},
   "outputs": [],
   "source": [
    "labels=['No','Yes','Somewhat','Other','Yes, but not elsewhere']\n",
    "sizes=Responses_raw.Tree_Clean.value_counts().values\n",
    "sizes=sizes/Responses_raw.Tree_Clean.unique().size"
   ]
  },
  {
   "cell_type": "code",
   "execution_count": 108,
   "metadata": {},
   "outputs": [
    {
     "data": {
      "image/png": "[encoded data removed]",
      "text/plain": [
       "<Figure size 640x480 with 1 Axes>"
      ]
     },
     "metadata": {},
     "output_type": "display_data"
    }
   ],
   "source": [
    "plt.pie(sizes,labels=labels,autopct='%1.2f%%',\n",
    "        colors=['lightcoral','cadetblue', 'lightsteelblue', 'gray','cornflowerblue'])\n",
    "plt.savefig('Enough Trees.png',dpi=300,bbox_inches='tight')"
   ]
  },
  {
   "cell_type": "code",
   "execution_count": 112,
   "metadata": {},
   "outputs": [],
   "source": [
    "CRW_Towns=Towns.clip(CRW)\n",
    "CRW_Towns=CRW_Towns[['TOWN','geometry']]"
   ]
  },
  {
   "cell_type": "code",
   "execution_count": 113,
   "metadata": {},
   "outputs": [
    {
     "data": {
      "text/plain": [
       "0                           Somewhat\n",
       "1                           Somewhat\n",
       "2                           Somewhat\n",
       "3      For me yes, but not elsewhere\n",
       "4                              Other\n",
       "                   ...              \n",
       "306                              Yes\n",
       "307                            Other\n",
       "308                            Other\n",
       "309                            Other\n",
       "310                            Other\n",
       "Name: Tree_Clean, Length: 311, dtype: object"
      ]
     },
     "execution_count": null,
     "metadata": {},
     "output_type": "execute_result"
    }
   ],
   "source": [
    "Responses_raw.Tree_Clean"
   ]
  },
  {
   "cell_type": "code",
   "execution_count": 114,
   "metadata": {},
   "outputs": [
    {
     "data": {
      "text/html": [
       "<div>\n",
       "<style scoped>\n",
       "    .dataframe tbody tr th:only-of-type {\n",
       "        vertical-align: middle;\n",
       "    }\n",
       "\n",
       "    .dataframe tbody tr th {\n",
       "        vertical-align: top;\n",
       "    }\n",
       "\n",
       "    .dataframe thead th {\n",
       "        text-align: right;\n",
       "    }\n",
       "</style>\n",
       "<table border=\"1\" class=\"dataframe\">\n",
       "  <thead>\n",
       "    <tr style=\"text-align: right;\">\n",
       "      <th></th>\n",
       "      <th>TOWN</th>\n",
       "      <th>geometry</th>\n",
       "      <th>Count</th>\n",
       "    </tr>\n",
       "  </thead>\n",
       "  <tbody>\n",
       "    <tr>\n",
       "      <th>0</th>\n",
       "      <td>DOVER</td>\n",
       "      <td>POLYGON ((216634.163 891551.685, 216647.142 89...</td>\n",
       "      <td>4</td>\n",
       "    </tr>\n",
       "    <tr>\n",
       "      <th>1</th>\n",
       "      <td>WESTWOOD</td>\n",
       "      <td>POLYGON ((227514.413 885958.825, 229226.782 88...</td>\n",
       "      <td>1</td>\n",
       "    </tr>\n",
       "    <tr>\n",
       "      <th>2</th>\n",
       "      <td>MEDFORD</td>\n",
       "      <td>MULTIPOLYGON (((234089.062 910545.295, 233900....</td>\n",
       "      <td>2</td>\n",
       "    </tr>\n",
       "    <tr>\n",
       "      <th>3</th>\n",
       "      <td>CAMBRIDGE</td>\n",
       "      <td>POLYGON ((230353.943 905738.525, 230689.843 90...</td>\n",
       "      <td>31</td>\n",
       "    </tr>\n",
       "    <tr>\n",
       "      <th>4</th>\n",
       "      <td>GLOUCESTER</td>\n",
       "      <td>MULTIPOLYGON (((264186.562 935044.815, 264207....</td>\n",
       "      <td>1</td>\n",
       "    </tr>\n",
       "    <tr>\n",
       "      <th>5</th>\n",
       "      <td>WALPOLE</td>\n",
       "      <td>POLYGON ((219956.348 883747.993, 219963.252 88...</td>\n",
       "      <td>1</td>\n",
       "    </tr>\n",
       "    <tr>\n",
       "      <th>6</th>\n",
       "      <td>SOMERVILLE</td>\n",
       "      <td>POLYGON ((230662.712 907352.685, 230461.023 90...</td>\n",
       "      <td>19</td>\n",
       "    </tr>\n",
       "    <tr>\n",
       "      <th>7</th>\n",
       "      <td>WELLESLEY</td>\n",
       "      <td>MULTIPOLYGON (((219129.013 897474.705, 219160....</td>\n",
       "      <td>10</td>\n",
       "    </tr>\n",
       "    <tr>\n",
       "      <th>8</th>\n",
       "      <td>NEEDHAM</td>\n",
       "      <td>POLYGON ((222991.142 895149.415, 223015.263 89...</td>\n",
       "      <td>5</td>\n",
       "    </tr>\n",
       "    <tr>\n",
       "      <th>9</th>\n",
       "      <td>QUINCY</td>\n",
       "      <td>MULTIPOLYGON (((242254.612 895020.505, 242257....</td>\n",
       "      <td>2</td>\n",
       "    </tr>\n",
       "    <tr>\n",
       "      <th>10</th>\n",
       "      <td>BROOKLINE</td>\n",
       "      <td>POLYGON ((231071.523 900208.445, 232417.312 89...</td>\n",
       "      <td>4</td>\n",
       "    </tr>\n",
       "    <tr>\n",
       "      <th>11</th>\n",
       "      <td>MALDEN</td>\n",
       "      <td>POLYGON ((238824.803 908294.295, 236994.962 90...</td>\n",
       "      <td>1</td>\n",
       "    </tr>\n",
       "    <tr>\n",
       "      <th>12</th>\n",
       "      <td>BELLINGHAM</td>\n",
       "      <td>POLYGON ((204842.472 876046.525, 204820.983 87...</td>\n",
       "      <td>1</td>\n",
       "    </tr>\n",
       "    <tr>\n",
       "      <th>13</th>\n",
       "      <td>BELMONT</td>\n",
       "      <td>POLYGON ((225162.163 907245.505, 225353.583 90...</td>\n",
       "      <td>4</td>\n",
       "    </tr>\n",
       "    <tr>\n",
       "      <th>14</th>\n",
       "      <td>MARSHFIELD</td>\n",
       "      <td>MULTIPOLYGON (((262148.843 879531.255, 262180....</td>\n",
       "      <td>1</td>\n",
       "    </tr>\n",
       "    <tr>\n",
       "      <th>15</th>\n",
       "      <td>GOSHEN</td>\n",
       "      <td>POLYGON ((96063.833 913340.445, 96016.242 9129...</td>\n",
       "      <td>1</td>\n",
       "    </tr>\n",
       "    <tr>\n",
       "      <th>16</th>\n",
       "      <td>SHERBORN</td>\n",
       "      <td>POLYGON ((211805.833 890346.195, 211815.343 89...</td>\n",
       "      <td>1</td>\n",
       "    </tr>\n",
       "    <tr>\n",
       "      <th>17</th>\n",
       "      <td>BOSTON</td>\n",
       "      <td>MULTIPOLYGON (((235056.153 904531.255, 235060....</td>\n",
       "      <td>52</td>\n",
       "    </tr>\n",
       "    <tr>\n",
       "      <th>18</th>\n",
       "      <td>NORFOLK</td>\n",
       "      <td>POLYGON ((216391.873 876237.965, 216543.153 87...</td>\n",
       "      <td>1</td>\n",
       "    </tr>\n",
       "    <tr>\n",
       "      <th>19</th>\n",
       "      <td>NEW BEDFORD</td>\n",
       "      <td>MULTIPOLYGON (((247499.903 828273.095, 247991....</td>\n",
       "      <td>1</td>\n",
       "    </tr>\n",
       "    <tr>\n",
       "      <th>20</th>\n",
       "      <td>CHELSEA</td>\n",
       "      <td>POLYGON ((239031.333 906247.415, 239039.763 90...</td>\n",
       "      <td>1</td>\n",
       "    </tr>\n",
       "    <tr>\n",
       "      <th>21</th>\n",
       "      <td>NEWTON</td>\n",
       "      <td>POLYGON ((225130.462 901877.275, 225142.343 90...</td>\n",
       "      <td>94</td>\n",
       "    </tr>\n",
       "    <tr>\n",
       "      <th>22</th>\n",
       "      <td>ARLINGTON</td>\n",
       "      <td>POLYGON ((226142.242 909577.185, 228497.653 90...</td>\n",
       "      <td>3</td>\n",
       "    </tr>\n",
       "    <tr>\n",
       "      <th>23</th>\n",
       "      <td>MELROSE</td>\n",
       "      <td>POLYGON ((239008.932 910573.295, 234315.953 90...</td>\n",
       "      <td>1</td>\n",
       "    </tr>\n",
       "    <tr>\n",
       "      <th>24</th>\n",
       "      <td>MILTON</td>\n",
       "      <td>POLYGON ((237501.133 891856.405, 237545.932 89...</td>\n",
       "      <td>1</td>\n",
       "    </tr>\n",
       "    <tr>\n",
       "      <th>25</th>\n",
       "      <td>MILLIS</td>\n",
       "      <td>POLYGON ((213252.583 877673.165, 213242.623 87...</td>\n",
       "      <td>2</td>\n",
       "    </tr>\n",
       "    <tr>\n",
       "      <th>26</th>\n",
       "      <td>WOBURN</td>\n",
       "      <td>POLYGON ((231254.453 916708.735, 231092.623 91...</td>\n",
       "      <td>2</td>\n",
       "    </tr>\n",
       "    <tr>\n",
       "      <th>27</th>\n",
       "      <td>MEDWAY</td>\n",
       "      <td>POLYGON ((208072.072 880932.835, 210271.163 87...</td>\n",
       "      <td>2</td>\n",
       "    </tr>\n",
       "    <tr>\n",
       "      <th>28</th>\n",
       "      <td>WALTHAM</td>\n",
       "      <td>POLYGON ((219155.852 908239.415, 223768.782 90...</td>\n",
       "      <td>10</td>\n",
       "    </tr>\n",
       "    <tr>\n",
       "      <th>29</th>\n",
       "      <td>WESTHAMPTON</td>\n",
       "      <td>POLYGON ((98000.633 893380.065, 98023.373 8925...</td>\n",
       "      <td>1</td>\n",
       "    </tr>\n",
       "    <tr>\n",
       "      <th>30</th>\n",
       "      <td>DEDHAM</td>\n",
       "      <td>POLYGON ((226135.792 891764.125, 226145.053 89...</td>\n",
       "      <td>6</td>\n",
       "    </tr>\n",
       "    <tr>\n",
       "      <th>31</th>\n",
       "      <td>LINCOLN</td>\n",
       "      <td>POLYGON ((218695.742 912155.495, 219003.983 91...</td>\n",
       "      <td>1</td>\n",
       "    </tr>\n",
       "    <tr>\n",
       "      <th>32</th>\n",
       "      <td>WESTON</td>\n",
       "      <td>POLYGON ((217009.983 905768.245, 217846.102 90...</td>\n",
       "      <td>5</td>\n",
       "    </tr>\n",
       "    <tr>\n",
       "      <th>33</th>\n",
       "      <td>WATERTOWN</td>\n",
       "      <td>POLYGON ((225778.792 903363.385, 225820.862 90...</td>\n",
       "      <td>18</td>\n",
       "    </tr>\n",
       "    <tr>\n",
       "      <th>34</th>\n",
       "      <td>NATICK</td>\n",
       "      <td>POLYGON ((214113.502 897921.855, 214223.792 89...</td>\n",
       "      <td>7</td>\n",
       "    </tr>\n",
       "  </tbody>\n",
       "</table>\n",
       "</div>"
      ],
      "text/plain": [
       "           TOWN                                           geometry  Count\n",
       "0         DOVER  POLYGON ((216634.163 891551.685, 216647.142 89...      4\n",
       "1      WESTWOOD  POLYGON ((227514.413 885958.825, 229226.782 88...      1\n",
       "2       MEDFORD  MULTIPOLYGON (((234089.062 910545.295, 233900....      2\n",
       "3     CAMBRIDGE  POLYGON ((230353.943 905738.525, 230689.843 90...     31\n",
       "4    GLOUCESTER  MULTIPOLYGON (((264186.562 935044.815, 264207....      1\n",
       "5       WALPOLE  POLYGON ((219956.348 883747.993, 219963.252 88...      1\n",
       "6    SOMERVILLE  POLYGON ((230662.712 907352.685, 230461.023 90...     19\n",
       "7     WELLESLEY  MULTIPOLYGON (((219129.013 897474.705, 219160....     10\n",
       "8       NEEDHAM  POLYGON ((222991.142 895149.415, 223015.263 89...      5\n",
       "9        QUINCY  MULTIPOLYGON (((242254.612 895020.505, 242257....      2\n",
       "10    BROOKLINE  POLYGON ((231071.523 900208.445, 232417.312 89...      4\n",
       "11       MALDEN  POLYGON ((238824.803 908294.295, 236994.962 90...      1\n",
       "12   BELLINGHAM  POLYGON ((204842.472 876046.525, 204820.983 87...      1\n",
       "13      BELMONT  POLYGON ((225162.163 907245.505, 225353.583 90...      4\n",
       "14   MARSHFIELD  MULTIPOLYGON (((262148.843 879531.255, 262180....      1\n",
       "15       GOSHEN  POLYGON ((96063.833 913340.445, 96016.242 9129...      1\n",
       "16     SHERBORN  POLYGON ((211805.833 890346.195, 211815.343 89...      1\n",
       "17       BOSTON  MULTIPOLYGON (((235056.153 904531.255, 235060....     52\n",
       "18      NORFOLK  POLYGON ((216391.873 876237.965, 216543.153 87...      1\n",
       "19  NEW BEDFORD  MULTIPOLYGON (((247499.903 828273.095, 247991....      1\n",
       "20      CHELSEA  POLYGON ((239031.333 906247.415, 239039.763 90...      1\n",
       "21       NEWTON  POLYGON ((225130.462 901877.275, 225142.343 90...     94\n",
       "22    ARLINGTON  POLYGON ((226142.242 909577.185, 228497.653 90...      3\n",
       "23      MELROSE  POLYGON ((239008.932 910573.295, 234315.953 90...      1\n",
       "24       MILTON  POLYGON ((237501.133 891856.405, 237545.932 89...      1\n",
       "25       MILLIS  POLYGON ((213252.583 877673.165, 213242.623 87...      2\n",
       "26       WOBURN  POLYGON ((231254.453 916708.735, 231092.623 91...      2\n",
       "27       MEDWAY  POLYGON ((208072.072 880932.835, 210271.163 87...      2\n",
       "28      WALTHAM  POLYGON ((219155.852 908239.415, 223768.782 90...     10\n",
       "29  WESTHAMPTON  POLYGON ((98000.633 893380.065, 98023.373 8925...      1\n",
       "30       DEDHAM  POLYGON ((226135.792 891764.125, 226145.053 89...      6\n",
       "31      LINCOLN  POLYGON ((218695.742 912155.495, 219003.983 91...      1\n",
       "32       WESTON  POLYGON ((217009.983 905768.245, 217846.102 90...      5\n",
       "33    WATERTOWN  POLYGON ((225778.792 903363.385, 225820.862 90...     18\n",
       "34       NATICK  POLYGON ((214113.502 897921.855, 214223.792 89...      7"
      ]
     },
     "execution_count": null,
     "metadata": {},
     "output_type": "execute_result"
    }
   ],
   "source": [
    "Towns_wResponses"
   ]
  },
  {
   "cell_type": "code",
   "execution_count": 117,
   "metadata": {},
   "outputs": [],
   "source": [
    "Nos=Responses_raw[Responses_raw.Tree_Clean=='No']\n",
    "Nos=pd.DataFrame({'TOWN':Nos.Town.value_counts().index,'Count':Nos.Town.value_counts().values})"
   ]
  },
  {
   "cell_type": "code",
   "execution_count": 119,
   "metadata": {},
   "outputs": [],
   "source": [
    "Nos['TOWN']=Nos['TOWN'].str.upper()"
   ]
  },
  {
   "cell_type": "code",
   "execution_count": 120,
   "metadata": {},
   "outputs": [
    {
     "data": {
      "text/html": [
       "<div>\n",
       "<style scoped>\n",
       "    .dataframe tbody tr th:only-of-type {\n",
       "        vertical-align: middle;\n",
       "    }\n",
       "\n",
       "    .dataframe tbody tr th {\n",
       "        vertical-align: top;\n",
       "    }\n",
       "\n",
       "    .dataframe thead th {\n",
       "        text-align: right;\n",
       "    }\n",
       "</style>\n",
       "<table border=\"1\" class=\"dataframe\">\n",
       "  <thead>\n",
       "    <tr style=\"text-align: right;\">\n",
       "      <th></th>\n",
       "      <th>TOWN</th>\n",
       "      <th>Count</th>\n",
       "    </tr>\n",
       "  </thead>\n",
       "  <tbody>\n",
       "    <tr>\n",
       "      <th>0</th>\n",
       "      <td>NEWTON</td>\n",
       "      <td>64</td>\n",
       "    </tr>\n",
       "    <tr>\n",
       "      <th>1</th>\n",
       "      <td>BOSTON</td>\n",
       "      <td>42</td>\n",
       "    </tr>\n",
       "    <tr>\n",
       "      <th>2</th>\n",
       "      <td>CAMBRIDGE</td>\n",
       "      <td>26</td>\n",
       "    </tr>\n",
       "    <tr>\n",
       "      <th>3</th>\n",
       "      <td>SOMERVILLE</td>\n",
       "      <td>18</td>\n",
       "    </tr>\n",
       "    <tr>\n",
       "      <th>4</th>\n",
       "      <td>WATERTOWN</td>\n",
       "      <td>17</td>\n",
       "    </tr>\n",
       "    <tr>\n",
       "      <th>5</th>\n",
       "      <td>WALTHAM</td>\n",
       "      <td>9</td>\n",
       "    </tr>\n",
       "    <tr>\n",
       "      <th>6</th>\n",
       "      <td>WELLESLEY</td>\n",
       "      <td>6</td>\n",
       "    </tr>\n",
       "    <tr>\n",
       "      <th>7</th>\n",
       "      <td>NATICK</td>\n",
       "      <td>5</td>\n",
       "    </tr>\n",
       "    <tr>\n",
       "      <th>8</th>\n",
       "      <td>DEDHAM</td>\n",
       "      <td>5</td>\n",
       "    </tr>\n",
       "    <tr>\n",
       "      <th>9</th>\n",
       "      <td>ARLINGTON</td>\n",
       "      <td>3</td>\n",
       "    </tr>\n",
       "    <tr>\n",
       "      <th>10</th>\n",
       "      <td>BELMONT</td>\n",
       "      <td>3</td>\n",
       "    </tr>\n",
       "    <tr>\n",
       "      <th>11</th>\n",
       "      <td>ROSLINDALE</td>\n",
       "      <td>3</td>\n",
       "    </tr>\n",
       "    <tr>\n",
       "      <th>12</th>\n",
       "      <td>NEEDHAM</td>\n",
       "      <td>3</td>\n",
       "    </tr>\n",
       "    <tr>\n",
       "      <th>13</th>\n",
       "      <td>BROOKLINE</td>\n",
       "      <td>2</td>\n",
       "    </tr>\n",
       "    <tr>\n",
       "      <th>14</th>\n",
       "      <td>MILLIS</td>\n",
       "      <td>2</td>\n",
       "    </tr>\n",
       "    <tr>\n",
       "      <th>15</th>\n",
       "      <td>WESTON</td>\n",
       "      <td>2</td>\n",
       "    </tr>\n",
       "    <tr>\n",
       "      <th>16</th>\n",
       "      <td>WOBURN</td>\n",
       "      <td>2</td>\n",
       "    </tr>\n",
       "    <tr>\n",
       "      <th>17</th>\n",
       "      <td>MALDEN</td>\n",
       "      <td>1</td>\n",
       "    </tr>\n",
       "    <tr>\n",
       "      <th>18</th>\n",
       "      <td>WESTWOOD</td>\n",
       "      <td>1</td>\n",
       "    </tr>\n",
       "    <tr>\n",
       "      <th>19</th>\n",
       "      <td>BELLINGHAM</td>\n",
       "      <td>1</td>\n",
       "    </tr>\n",
       "    <tr>\n",
       "      <th>20</th>\n",
       "      <td>MEDFORD</td>\n",
       "      <td>1</td>\n",
       "    </tr>\n",
       "    <tr>\n",
       "      <th>21</th>\n",
       "      <td>QUINCY</td>\n",
       "      <td>1</td>\n",
       "    </tr>\n",
       "    <tr>\n",
       "      <th>22</th>\n",
       "      <td>DORCHESTER</td>\n",
       "      <td>1</td>\n",
       "    </tr>\n",
       "    <tr>\n",
       "      <th>23</th>\n",
       "      <td>MARSHFIELD</td>\n",
       "      <td>1</td>\n",
       "    </tr>\n",
       "    <tr>\n",
       "      <th>24</th>\n",
       "      <td>GLOUCESTER</td>\n",
       "      <td>1</td>\n",
       "    </tr>\n",
       "    <tr>\n",
       "      <th>25</th>\n",
       "      <td>CHELSEA</td>\n",
       "      <td>1</td>\n",
       "    </tr>\n",
       "    <tr>\n",
       "      <th>26</th>\n",
       "      <td>NEW BEDFORD</td>\n",
       "      <td>1</td>\n",
       "    </tr>\n",
       "    <tr>\n",
       "      <th>27</th>\n",
       "      <td>MELROSE</td>\n",
       "      <td>1</td>\n",
       "    </tr>\n",
       "  </tbody>\n",
       "</table>\n",
       "</div>"
      ],
      "text/plain": [
       "           TOWN  Count\n",
       "0        NEWTON     64\n",
       "1        BOSTON     42\n",
       "2     CAMBRIDGE     26\n",
       "3    SOMERVILLE     18\n",
       "4     WATERTOWN     17\n",
       "5       WALTHAM      9\n",
       "6     WELLESLEY      6\n",
       "7        NATICK      5\n",
       "8        DEDHAM      5\n",
       "9     ARLINGTON      3\n",
       "10      BELMONT      3\n",
       "11   ROSLINDALE      3\n",
       "12      NEEDHAM      3\n",
       "13    BROOKLINE      2\n",
       "14       MILLIS      2\n",
       "15       WESTON      2\n",
       "16       WOBURN      2\n",
       "17       MALDEN      1\n",
       "18     WESTWOOD      1\n",
       "19   BELLINGHAM      1\n",
       "20      MEDFORD      1\n",
       "21       QUINCY      1\n",
       "22   DORCHESTER      1\n",
       "23   MARSHFIELD      1\n",
       "24   GLOUCESTER      1\n",
       "25      CHELSEA      1\n",
       "26  NEW BEDFORD      1\n",
       "27      MELROSE      1"
      ]
     },
     "execution_count": null,
     "metadata": {},
     "output_type": "execute_result"
    }
   ],
   "source": [
    "Nos"
   ]
  },
  {
   "cell_type": "code",
   "execution_count": 121,
   "metadata": {},
   "outputs": [],
   "source": [
    "Towns_wResponses2=Towns_wResponses.merge(Nos,on='TOWN')"
   ]
  },
  {
   "cell_type": "code",
   "execution_count": 123,
   "metadata": {},
   "outputs": [],
   "source": [
    "Towns_wResponses2['PercNo']=100*Towns_wResponses2['Count_y']/Towns_wResponses2['Count_x']"
   ]
  },
  {
   "cell_type": "code",
   "execution_count": 125,
   "metadata": {},
   "outputs": [],
   "source": [
    "Towns_wResponses2=Towns_wResponses2.clip(CRW)"
   ]
  },
  {
   "cell_type": "code",
   "execution_count": 131,
   "metadata": {},
   "outputs": [
    {
     "data": {
      "image/png": "[encoded data removed]",
      "text/plain": [
       "<Figure size 600x800 with 2 Axes>"
      ]
     },
     "metadata": {},
     "output_type": "display_data"
    }
   ],
   "source": [
    "fig,ax=plt.subplots(figsize=(6,8))\n",
    "Towns_wResponses2.plot(ax=ax,column='PercNo',vmin=0,vmax=100,legend=True,cmap='Oranges',legend_kwds={'location':'bottom','label':'Percent of respondents saying there are not enough trees'})\n",
    "CRW_Towns.boundary.plot(ax=ax,color='gray',linewidth=0.1)\n",
    "gpd.read_file(r\"C:\\Users\\Chad\\Desktop\\CRWA Project\\Raw_Data\\CRW_Boundary\\CRW_Boundary\\CRW_Boundary.shp\").boundary.plot(ax=ax,color='blue',linewidth=0.2)\n",
    "Charles.plot(ax=ax,color='#060270',edgecolor='#060270',linewidth=0.25)\n",
    "CHARLES.to_crs(epsg=26986).plot(ax=ax,color='#060270',linewidth=0.4)\n",
    "ax.axis('off')\n",
    "fig.savefig('Towns with Percent Not enough trees.png',transparent=False,dpi=300,bbox_inches='tight')"
   ]
  },
  {
   "cell_type": "code",
   "execution_count": null,
   "metadata": {},
   "outputs": [],
   "source": []
  }
 ],
 "metadata": {
  "language_info": {
   "name": "python"
  }
 },
 "nbformat": 4,
 "nbformat_minor": 2
}
